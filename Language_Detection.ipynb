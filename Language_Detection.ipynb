{
  "nbformat": 4,
  "nbformat_minor": 0,
  "metadata": {
    "colab": {
      "provenance": [],
      "gpuType": "T4",
      "authorship_tag": "ABX9TyMoZhKf5Rvo310113gWsPhP"
    },
    "kernelspec": {
      "name": "python3",
      "display_name": "Python 3"
    },
    "language_info": {
      "name": "python"
    },
    "accelerator": "GPU"
  },
  "cells": [
    {
      "cell_type": "markdown",
      "source": [
        "**Data Acquisition in form of zip file through Kaggle**"
      ],
      "metadata": {
        "id": "02mpHBPoyzui"
      }
    },
    {
      "cell_type": "code",
      "source": [
        "!mkdir -p ~/.kaggle\n",
        "!cp kaggle.json ~/.kaggle/\n",
        "!chmod 600 ~/.kaggle/kaggle.json"
      ],
      "metadata": {
        "id": "pgA7z6KNbOWg"
      },
      "execution_count": 1,
      "outputs": []
    },
    {
      "cell_type": "code",
      "execution_count": 2,
      "metadata": {
        "colab": {
          "base_uri": "https://localhost:8080/"
        },
        "id": "FwGGomQ4bNSZ",
        "outputId": "fa585df7-4ff9-4fdb-bd0e-ba7a624b53f2"
      },
      "outputs": [
        {
          "output_type": "stream",
          "name": "stdout",
          "text": [
            "Downloading language-detection-dataset.zip to /content\n",
            " 69% 7.00M/10.2M [00:00<00:00, 13.4MB/s]\n",
            "100% 10.2M/10.2M [00:00<00:00, 12.5MB/s]\n"
          ]
        }
      ],
      "source": [
        "!kaggle datasets download -d ishantjuyal/language-detection-dataset"
      ]
    },
    {
      "cell_type": "markdown",
      "source": [
        "**Extracting the zip file**"
      ],
      "metadata": {
        "id": "7NrJS8SqzBZr"
      }
    },
    {
      "cell_type": "code",
      "source": [
        "from zipfile import ZipFile\n",
        "dataset = '/content/language-detection-dataset.zip'\n",
        "\n",
        "with ZipFile(dataset,'r') as zip:\n",
        "  zip.extractall()\n",
        "  print('Extracted')"
      ],
      "metadata": {
        "colab": {
          "base_uri": "https://localhost:8080/"
        },
        "id": "AhQ3-KZ_bX8o",
        "outputId": "976112b2-0747-4e99-b843-84e06eded4e8"
      },
      "execution_count": 3,
      "outputs": [
        {
          "output_type": "stream",
          "name": "stdout",
          "text": [
            "Extracted\n"
          ]
        }
      ]
    },
    {
      "cell_type": "code",
      "source": [
        "import pandas as pd"
      ],
      "metadata": {
        "id": "sn3DoNw3bdcl"
      },
      "execution_count": 4,
      "outputs": []
    },
    {
      "cell_type": "code",
      "source": [
        "import numpy as np"
      ],
      "metadata": {
        "id": "Cx9ka0R6v_bD"
      },
      "execution_count": 5,
      "outputs": []
    },
    {
      "cell_type": "markdown",
      "source": [
        "**Reading the CSV file**"
      ],
      "metadata": {
        "id": "3ZzmfOFAzR45"
      }
    },
    {
      "cell_type": "code",
      "source": [
        "table=pd.read_csv('languages.csv')"
      ],
      "metadata": {
        "id": "MEuMIHJtbg5C"
      },
      "execution_count": 6,
      "outputs": []
    },
    {
      "cell_type": "code",
      "source": [
        "table.head()"
      ],
      "metadata": {
        "colab": {
          "base_uri": "https://localhost:8080/",
          "height": 206
        },
        "id": "ovUJzK5AbkIv",
        "outputId": "16bf9991-fb06-4abc-8d77-c0c34035556b"
      },
      "execution_count": 7,
      "outputs": [
        {
          "output_type": "execute_result",
          "data": {
            "text/plain": [
              "                                                text language\n",
              "0  ich denke es handelt sich hier um ein missvers...   german\n",
              "1                 ich habe tom gerade erst verlassen   german\n",
              "2                   tom versuchte mary nur zu ärgern   german\n",
              "3                       tom hat mir die hand geküsst   german\n",
              "4                    ich wusste dass dir das gefiele   german"
            ],
            "text/html": [
              "\n",
              "  <div id=\"df-0adc878c-a76c-4318-a0f4-82c2cf5c30a4\" class=\"colab-df-container\">\n",
              "    <div>\n",
              "<style scoped>\n",
              "    .dataframe tbody tr th:only-of-type {\n",
              "        vertical-align: middle;\n",
              "    }\n",
              "\n",
              "    .dataframe tbody tr th {\n",
              "        vertical-align: top;\n",
              "    }\n",
              "\n",
              "    .dataframe thead th {\n",
              "        text-align: right;\n",
              "    }\n",
              "</style>\n",
              "<table border=\"1\" class=\"dataframe\">\n",
              "  <thead>\n",
              "    <tr style=\"text-align: right;\">\n",
              "      <th></th>\n",
              "      <th>text</th>\n",
              "      <th>language</th>\n",
              "    </tr>\n",
              "  </thead>\n",
              "  <tbody>\n",
              "    <tr>\n",
              "      <th>0</th>\n",
              "      <td>ich denke es handelt sich hier um ein missvers...</td>\n",
              "      <td>german</td>\n",
              "    </tr>\n",
              "    <tr>\n",
              "      <th>1</th>\n",
              "      <td>ich habe tom gerade erst verlassen</td>\n",
              "      <td>german</td>\n",
              "    </tr>\n",
              "    <tr>\n",
              "      <th>2</th>\n",
              "      <td>tom versuchte mary nur zu ärgern</td>\n",
              "      <td>german</td>\n",
              "    </tr>\n",
              "    <tr>\n",
              "      <th>3</th>\n",
              "      <td>tom hat mir die hand geküsst</td>\n",
              "      <td>german</td>\n",
              "    </tr>\n",
              "    <tr>\n",
              "      <th>4</th>\n",
              "      <td>ich wusste dass dir das gefiele</td>\n",
              "      <td>german</td>\n",
              "    </tr>\n",
              "  </tbody>\n",
              "</table>\n",
              "</div>\n",
              "    <div class=\"colab-df-buttons\">\n",
              "\n",
              "  <div class=\"colab-df-container\">\n",
              "    <button class=\"colab-df-convert\" onclick=\"convertToInteractive('df-0adc878c-a76c-4318-a0f4-82c2cf5c30a4')\"\n",
              "            title=\"Convert this dataframe to an interactive table.\"\n",
              "            style=\"display:none;\">\n",
              "\n",
              "  <svg xmlns=\"http://www.w3.org/2000/svg\" height=\"24px\" viewBox=\"0 -960 960 960\">\n",
              "    <path d=\"M120-120v-720h720v720H120Zm60-500h600v-160H180v160Zm220 220h160v-160H400v160Zm0 220h160v-160H400v160ZM180-400h160v-160H180v160Zm440 0h160v-160H620v160ZM180-180h160v-160H180v160Zm440 0h160v-160H620v160Z\"/>\n",
              "  </svg>\n",
              "    </button>\n",
              "\n",
              "  <style>\n",
              "    .colab-df-container {\n",
              "      display:flex;\n",
              "      gap: 12px;\n",
              "    }\n",
              "\n",
              "    .colab-df-convert {\n",
              "      background-color: #E8F0FE;\n",
              "      border: none;\n",
              "      border-radius: 50%;\n",
              "      cursor: pointer;\n",
              "      display: none;\n",
              "      fill: #1967D2;\n",
              "      height: 32px;\n",
              "      padding: 0 0 0 0;\n",
              "      width: 32px;\n",
              "    }\n",
              "\n",
              "    .colab-df-convert:hover {\n",
              "      background-color: #E2EBFA;\n",
              "      box-shadow: 0px 1px 2px rgba(60, 64, 67, 0.3), 0px 1px 3px 1px rgba(60, 64, 67, 0.15);\n",
              "      fill: #174EA6;\n",
              "    }\n",
              "\n",
              "    .colab-df-buttons div {\n",
              "      margin-bottom: 4px;\n",
              "    }\n",
              "\n",
              "    [theme=dark] .colab-df-convert {\n",
              "      background-color: #3B4455;\n",
              "      fill: #D2E3FC;\n",
              "    }\n",
              "\n",
              "    [theme=dark] .colab-df-convert:hover {\n",
              "      background-color: #434B5C;\n",
              "      box-shadow: 0px 1px 3px 1px rgba(0, 0, 0, 0.15);\n",
              "      filter: drop-shadow(0px 1px 2px rgba(0, 0, 0, 0.3));\n",
              "      fill: #FFFFFF;\n",
              "    }\n",
              "  </style>\n",
              "\n",
              "    <script>\n",
              "      const buttonEl =\n",
              "        document.querySelector('#df-0adc878c-a76c-4318-a0f4-82c2cf5c30a4 button.colab-df-convert');\n",
              "      buttonEl.style.display =\n",
              "        google.colab.kernel.accessAllowed ? 'block' : 'none';\n",
              "\n",
              "      async function convertToInteractive(key) {\n",
              "        const element = document.querySelector('#df-0adc878c-a76c-4318-a0f4-82c2cf5c30a4');\n",
              "        const dataTable =\n",
              "          await google.colab.kernel.invokeFunction('convertToInteractive',\n",
              "                                                    [key], {});\n",
              "        if (!dataTable) return;\n",
              "\n",
              "        const docLinkHtml = 'Like what you see? Visit the ' +\n",
              "          '<a target=\"_blank\" href=https://colab.research.google.com/notebooks/data_table.ipynb>data table notebook</a>'\n",
              "          + ' to learn more about interactive tables.';\n",
              "        element.innerHTML = '';\n",
              "        dataTable['output_type'] = 'display_data';\n",
              "        await google.colab.output.renderOutput(dataTable, element);\n",
              "        const docLink = document.createElement('div');\n",
              "        docLink.innerHTML = docLinkHtml;\n",
              "        element.appendChild(docLink);\n",
              "      }\n",
              "    </script>\n",
              "  </div>\n",
              "\n",
              "\n",
              "<div id=\"df-39675530-220b-40c6-82fb-51a86943c393\">\n",
              "  <button class=\"colab-df-quickchart\" onclick=\"quickchart('df-39675530-220b-40c6-82fb-51a86943c393')\"\n",
              "            title=\"Suggest charts\"\n",
              "            style=\"display:none;\">\n",
              "\n",
              "<svg xmlns=\"http://www.w3.org/2000/svg\" height=\"24px\"viewBox=\"0 0 24 24\"\n",
              "     width=\"24px\">\n",
              "    <g>\n",
              "        <path d=\"M19 3H5c-1.1 0-2 .9-2 2v14c0 1.1.9 2 2 2h14c1.1 0 2-.9 2-2V5c0-1.1-.9-2-2-2zM9 17H7v-7h2v7zm4 0h-2V7h2v10zm4 0h-2v-4h2v4z\"/>\n",
              "    </g>\n",
              "</svg>\n",
              "  </button>\n",
              "\n",
              "<style>\n",
              "  .colab-df-quickchart {\n",
              "      --bg-color: #E8F0FE;\n",
              "      --fill-color: #1967D2;\n",
              "      --hover-bg-color: #E2EBFA;\n",
              "      --hover-fill-color: #174EA6;\n",
              "      --disabled-fill-color: #AAA;\n",
              "      --disabled-bg-color: #DDD;\n",
              "  }\n",
              "\n",
              "  [theme=dark] .colab-df-quickchart {\n",
              "      --bg-color: #3B4455;\n",
              "      --fill-color: #D2E3FC;\n",
              "      --hover-bg-color: #434B5C;\n",
              "      --hover-fill-color: #FFFFFF;\n",
              "      --disabled-bg-color: #3B4455;\n",
              "      --disabled-fill-color: #666;\n",
              "  }\n",
              "\n",
              "  .colab-df-quickchart {\n",
              "    background-color: var(--bg-color);\n",
              "    border: none;\n",
              "    border-radius: 50%;\n",
              "    cursor: pointer;\n",
              "    display: none;\n",
              "    fill: var(--fill-color);\n",
              "    height: 32px;\n",
              "    padding: 0;\n",
              "    width: 32px;\n",
              "  }\n",
              "\n",
              "  .colab-df-quickchart:hover {\n",
              "    background-color: var(--hover-bg-color);\n",
              "    box-shadow: 0 1px 2px rgba(60, 64, 67, 0.3), 0 1px 3px 1px rgba(60, 64, 67, 0.15);\n",
              "    fill: var(--button-hover-fill-color);\n",
              "  }\n",
              "\n",
              "  .colab-df-quickchart-complete:disabled,\n",
              "  .colab-df-quickchart-complete:disabled:hover {\n",
              "    background-color: var(--disabled-bg-color);\n",
              "    fill: var(--disabled-fill-color);\n",
              "    box-shadow: none;\n",
              "  }\n",
              "\n",
              "  .colab-df-spinner {\n",
              "    border: 2px solid var(--fill-color);\n",
              "    border-color: transparent;\n",
              "    border-bottom-color: var(--fill-color);\n",
              "    animation:\n",
              "      spin 1s steps(1) infinite;\n",
              "  }\n",
              "\n",
              "  @keyframes spin {\n",
              "    0% {\n",
              "      border-color: transparent;\n",
              "      border-bottom-color: var(--fill-color);\n",
              "      border-left-color: var(--fill-color);\n",
              "    }\n",
              "    20% {\n",
              "      border-color: transparent;\n",
              "      border-left-color: var(--fill-color);\n",
              "      border-top-color: var(--fill-color);\n",
              "    }\n",
              "    30% {\n",
              "      border-color: transparent;\n",
              "      border-left-color: var(--fill-color);\n",
              "      border-top-color: var(--fill-color);\n",
              "      border-right-color: var(--fill-color);\n",
              "    }\n",
              "    40% {\n",
              "      border-color: transparent;\n",
              "      border-right-color: var(--fill-color);\n",
              "      border-top-color: var(--fill-color);\n",
              "    }\n",
              "    60% {\n",
              "      border-color: transparent;\n",
              "      border-right-color: var(--fill-color);\n",
              "    }\n",
              "    80% {\n",
              "      border-color: transparent;\n",
              "      border-right-color: var(--fill-color);\n",
              "      border-bottom-color: var(--fill-color);\n",
              "    }\n",
              "    90% {\n",
              "      border-color: transparent;\n",
              "      border-bottom-color: var(--fill-color);\n",
              "    }\n",
              "  }\n",
              "</style>\n",
              "\n",
              "  <script>\n",
              "    async function quickchart(key) {\n",
              "      const quickchartButtonEl =\n",
              "        document.querySelector('#' + key + ' button');\n",
              "      quickchartButtonEl.disabled = true;  // To prevent multiple clicks.\n",
              "      quickchartButtonEl.classList.add('colab-df-spinner');\n",
              "      try {\n",
              "        const charts = await google.colab.kernel.invokeFunction(\n",
              "            'suggestCharts', [key], {});\n",
              "      } catch (error) {\n",
              "        console.error('Error during call to suggestCharts:', error);\n",
              "      }\n",
              "      quickchartButtonEl.classList.remove('colab-df-spinner');\n",
              "      quickchartButtonEl.classList.add('colab-df-quickchart-complete');\n",
              "    }\n",
              "    (() => {\n",
              "      let quickchartButtonEl =\n",
              "        document.querySelector('#df-39675530-220b-40c6-82fb-51a86943c393 button');\n",
              "      quickchartButtonEl.style.display =\n",
              "        google.colab.kernel.accessAllowed ? 'block' : 'none';\n",
              "    })();\n",
              "  </script>\n",
              "</div>\n",
              "\n",
              "    </div>\n",
              "  </div>\n"
            ]
          },
          "metadata": {},
          "execution_count": 7
        }
      ]
    },
    {
      "cell_type": "code",
      "source": [
        "table.shape"
      ],
      "metadata": {
        "colab": {
          "base_uri": "https://localhost:8080/"
        },
        "id": "aiSAHdMzblN7",
        "outputId": "dbec3ae6-cddc-4b78-f3dc-299a71eb0d19"
      },
      "execution_count": 8,
      "outputs": [
        {
          "output_type": "execute_result",
          "data": {
            "text/plain": [
              "(763684, 2)"
            ]
          },
          "metadata": {},
          "execution_count": 8
        }
      ]
    },
    {
      "cell_type": "markdown",
      "source": [
        "Dataset contain only 4 Languages :\n",
        "* English\n",
        "* German\n",
        "* French\n",
        "* Spanish"
      ],
      "metadata": {
        "id": "UKN3CZL60zmv"
      }
    },
    {
      "cell_type": "code",
      "source": [
        "table['language'].value_counts()"
      ],
      "metadata": {
        "colab": {
          "base_uri": "https://localhost:8080/"
        },
        "id": "nzjjSL4AboHv",
        "outputId": "0b54d388-2a51-4e11-c260-272d021e5539"
      },
      "execution_count": 9,
      "outputs": [
        {
          "output_type": "execute_result",
          "data": {
            "text/plain": [
              "english    275687\n",
              "german     199618\n",
              "french     169693\n",
              "spanish    118686\n",
              "Name: language, dtype: int64"
            ]
          },
          "metadata": {},
          "execution_count": 9
        }
      ]
    },
    {
      "cell_type": "code",
      "source": [
        "max([len(x) for x in table['text']])"
      ],
      "metadata": {
        "colab": {
          "base_uri": "https://localhost:8080/"
        },
        "id": "pA2hT926bwRQ",
        "outputId": "6f06fc35-a957-4df6-b999-c5764c679352"
      },
      "execution_count": 10,
      "outputs": [
        {
          "output_type": "execute_result",
          "data": {
            "text/plain": [
              "527"
            ]
          },
          "metadata": {},
          "execution_count": 10
        }
      ]
    },
    {
      "cell_type": "markdown",
      "source": [
        "**Shufflling the dataset rows**"
      ],
      "metadata": {
        "id": "-oqHHBPFzhM-"
      }
    },
    {
      "cell_type": "code",
      "source": [
        "table=table.sample(frac=1)"
      ],
      "metadata": {
        "id": "7kMir3hGfnRo"
      },
      "execution_count": 11,
      "outputs": []
    },
    {
      "cell_type": "code",
      "source": [
        "table.head()"
      ],
      "metadata": {
        "colab": {
          "base_uri": "https://localhost:8080/",
          "height": 206
        },
        "id": "sKcU-kjLgK8t",
        "outputId": "6b836965-566c-462d-d16d-056b5d31110e"
      },
      "execution_count": 12,
      "outputs": [
        {
          "output_type": "execute_result",
          "data": {
            "text/plain": [
              "                                            text language\n",
              "457756                         por favor ayúdeme  spanish\n",
              "651922                i go home right after work  english\n",
              "523264                              im toms aunt  english\n",
              "354856  cest le village où jai passé mon enfance   french\n",
              "396819            la leche es una bebida popular  spanish"
            ],
            "text/html": [
              "\n",
              "  <div id=\"df-3af329f2-8e18-4110-964c-cf88a488a713\" class=\"colab-df-container\">\n",
              "    <div>\n",
              "<style scoped>\n",
              "    .dataframe tbody tr th:only-of-type {\n",
              "        vertical-align: middle;\n",
              "    }\n",
              "\n",
              "    .dataframe tbody tr th {\n",
              "        vertical-align: top;\n",
              "    }\n",
              "\n",
              "    .dataframe thead th {\n",
              "        text-align: right;\n",
              "    }\n",
              "</style>\n",
              "<table border=\"1\" class=\"dataframe\">\n",
              "  <thead>\n",
              "    <tr style=\"text-align: right;\">\n",
              "      <th></th>\n",
              "      <th>text</th>\n",
              "      <th>language</th>\n",
              "    </tr>\n",
              "  </thead>\n",
              "  <tbody>\n",
              "    <tr>\n",
              "      <th>457756</th>\n",
              "      <td>por favor ayúdeme</td>\n",
              "      <td>spanish</td>\n",
              "    </tr>\n",
              "    <tr>\n",
              "      <th>651922</th>\n",
              "      <td>i go home right after work</td>\n",
              "      <td>english</td>\n",
              "    </tr>\n",
              "    <tr>\n",
              "      <th>523264</th>\n",
              "      <td>im toms aunt</td>\n",
              "      <td>english</td>\n",
              "    </tr>\n",
              "    <tr>\n",
              "      <th>354856</th>\n",
              "      <td>cest le village où jai passé mon enfance</td>\n",
              "      <td>french</td>\n",
              "    </tr>\n",
              "    <tr>\n",
              "      <th>396819</th>\n",
              "      <td>la leche es una bebida popular</td>\n",
              "      <td>spanish</td>\n",
              "    </tr>\n",
              "  </tbody>\n",
              "</table>\n",
              "</div>\n",
              "    <div class=\"colab-df-buttons\">\n",
              "\n",
              "  <div class=\"colab-df-container\">\n",
              "    <button class=\"colab-df-convert\" onclick=\"convertToInteractive('df-3af329f2-8e18-4110-964c-cf88a488a713')\"\n",
              "            title=\"Convert this dataframe to an interactive table.\"\n",
              "            style=\"display:none;\">\n",
              "\n",
              "  <svg xmlns=\"http://www.w3.org/2000/svg\" height=\"24px\" viewBox=\"0 -960 960 960\">\n",
              "    <path d=\"M120-120v-720h720v720H120Zm60-500h600v-160H180v160Zm220 220h160v-160H400v160Zm0 220h160v-160H400v160ZM180-400h160v-160H180v160Zm440 0h160v-160H620v160ZM180-180h160v-160H180v160Zm440 0h160v-160H620v160Z\"/>\n",
              "  </svg>\n",
              "    </button>\n",
              "\n",
              "  <style>\n",
              "    .colab-df-container {\n",
              "      display:flex;\n",
              "      gap: 12px;\n",
              "    }\n",
              "\n",
              "    .colab-df-convert {\n",
              "      background-color: #E8F0FE;\n",
              "      border: none;\n",
              "      border-radius: 50%;\n",
              "      cursor: pointer;\n",
              "      display: none;\n",
              "      fill: #1967D2;\n",
              "      height: 32px;\n",
              "      padding: 0 0 0 0;\n",
              "      width: 32px;\n",
              "    }\n",
              "\n",
              "    .colab-df-convert:hover {\n",
              "      background-color: #E2EBFA;\n",
              "      box-shadow: 0px 1px 2px rgba(60, 64, 67, 0.3), 0px 1px 3px 1px rgba(60, 64, 67, 0.15);\n",
              "      fill: #174EA6;\n",
              "    }\n",
              "\n",
              "    .colab-df-buttons div {\n",
              "      margin-bottom: 4px;\n",
              "    }\n",
              "\n",
              "    [theme=dark] .colab-df-convert {\n",
              "      background-color: #3B4455;\n",
              "      fill: #D2E3FC;\n",
              "    }\n",
              "\n",
              "    [theme=dark] .colab-df-convert:hover {\n",
              "      background-color: #434B5C;\n",
              "      box-shadow: 0px 1px 3px 1px rgba(0, 0, 0, 0.15);\n",
              "      filter: drop-shadow(0px 1px 2px rgba(0, 0, 0, 0.3));\n",
              "      fill: #FFFFFF;\n",
              "    }\n",
              "  </style>\n",
              "\n",
              "    <script>\n",
              "      const buttonEl =\n",
              "        document.querySelector('#df-3af329f2-8e18-4110-964c-cf88a488a713 button.colab-df-convert');\n",
              "      buttonEl.style.display =\n",
              "        google.colab.kernel.accessAllowed ? 'block' : 'none';\n",
              "\n",
              "      async function convertToInteractive(key) {\n",
              "        const element = document.querySelector('#df-3af329f2-8e18-4110-964c-cf88a488a713');\n",
              "        const dataTable =\n",
              "          await google.colab.kernel.invokeFunction('convertToInteractive',\n",
              "                                                    [key], {});\n",
              "        if (!dataTable) return;\n",
              "\n",
              "        const docLinkHtml = 'Like what you see? Visit the ' +\n",
              "          '<a target=\"_blank\" href=https://colab.research.google.com/notebooks/data_table.ipynb>data table notebook</a>'\n",
              "          + ' to learn more about interactive tables.';\n",
              "        element.innerHTML = '';\n",
              "        dataTable['output_type'] = 'display_data';\n",
              "        await google.colab.output.renderOutput(dataTable, element);\n",
              "        const docLink = document.createElement('div');\n",
              "        docLink.innerHTML = docLinkHtml;\n",
              "        element.appendChild(docLink);\n",
              "      }\n",
              "    </script>\n",
              "  </div>\n",
              "\n",
              "\n",
              "<div id=\"df-675d1a3b-a19e-4c84-990d-8a55c07b5dee\">\n",
              "  <button class=\"colab-df-quickchart\" onclick=\"quickchart('df-675d1a3b-a19e-4c84-990d-8a55c07b5dee')\"\n",
              "            title=\"Suggest charts\"\n",
              "            style=\"display:none;\">\n",
              "\n",
              "<svg xmlns=\"http://www.w3.org/2000/svg\" height=\"24px\"viewBox=\"0 0 24 24\"\n",
              "     width=\"24px\">\n",
              "    <g>\n",
              "        <path d=\"M19 3H5c-1.1 0-2 .9-2 2v14c0 1.1.9 2 2 2h14c1.1 0 2-.9 2-2V5c0-1.1-.9-2-2-2zM9 17H7v-7h2v7zm4 0h-2V7h2v10zm4 0h-2v-4h2v4z\"/>\n",
              "    </g>\n",
              "</svg>\n",
              "  </button>\n",
              "\n",
              "<style>\n",
              "  .colab-df-quickchart {\n",
              "      --bg-color: #E8F0FE;\n",
              "      --fill-color: #1967D2;\n",
              "      --hover-bg-color: #E2EBFA;\n",
              "      --hover-fill-color: #174EA6;\n",
              "      --disabled-fill-color: #AAA;\n",
              "      --disabled-bg-color: #DDD;\n",
              "  }\n",
              "\n",
              "  [theme=dark] .colab-df-quickchart {\n",
              "      --bg-color: #3B4455;\n",
              "      --fill-color: #D2E3FC;\n",
              "      --hover-bg-color: #434B5C;\n",
              "      --hover-fill-color: #FFFFFF;\n",
              "      --disabled-bg-color: #3B4455;\n",
              "      --disabled-fill-color: #666;\n",
              "  }\n",
              "\n",
              "  .colab-df-quickchart {\n",
              "    background-color: var(--bg-color);\n",
              "    border: none;\n",
              "    border-radius: 50%;\n",
              "    cursor: pointer;\n",
              "    display: none;\n",
              "    fill: var(--fill-color);\n",
              "    height: 32px;\n",
              "    padding: 0;\n",
              "    width: 32px;\n",
              "  }\n",
              "\n",
              "  .colab-df-quickchart:hover {\n",
              "    background-color: var(--hover-bg-color);\n",
              "    box-shadow: 0 1px 2px rgba(60, 64, 67, 0.3), 0 1px 3px 1px rgba(60, 64, 67, 0.15);\n",
              "    fill: var(--button-hover-fill-color);\n",
              "  }\n",
              "\n",
              "  .colab-df-quickchart-complete:disabled,\n",
              "  .colab-df-quickchart-complete:disabled:hover {\n",
              "    background-color: var(--disabled-bg-color);\n",
              "    fill: var(--disabled-fill-color);\n",
              "    box-shadow: none;\n",
              "  }\n",
              "\n",
              "  .colab-df-spinner {\n",
              "    border: 2px solid var(--fill-color);\n",
              "    border-color: transparent;\n",
              "    border-bottom-color: var(--fill-color);\n",
              "    animation:\n",
              "      spin 1s steps(1) infinite;\n",
              "  }\n",
              "\n",
              "  @keyframes spin {\n",
              "    0% {\n",
              "      border-color: transparent;\n",
              "      border-bottom-color: var(--fill-color);\n",
              "      border-left-color: var(--fill-color);\n",
              "    }\n",
              "    20% {\n",
              "      border-color: transparent;\n",
              "      border-left-color: var(--fill-color);\n",
              "      border-top-color: var(--fill-color);\n",
              "    }\n",
              "    30% {\n",
              "      border-color: transparent;\n",
              "      border-left-color: var(--fill-color);\n",
              "      border-top-color: var(--fill-color);\n",
              "      border-right-color: var(--fill-color);\n",
              "    }\n",
              "    40% {\n",
              "      border-color: transparent;\n",
              "      border-right-color: var(--fill-color);\n",
              "      border-top-color: var(--fill-color);\n",
              "    }\n",
              "    60% {\n",
              "      border-color: transparent;\n",
              "      border-right-color: var(--fill-color);\n",
              "    }\n",
              "    80% {\n",
              "      border-color: transparent;\n",
              "      border-right-color: var(--fill-color);\n",
              "      border-bottom-color: var(--fill-color);\n",
              "    }\n",
              "    90% {\n",
              "      border-color: transparent;\n",
              "      border-bottom-color: var(--fill-color);\n",
              "    }\n",
              "  }\n",
              "</style>\n",
              "\n",
              "  <script>\n",
              "    async function quickchart(key) {\n",
              "      const quickchartButtonEl =\n",
              "        document.querySelector('#' + key + ' button');\n",
              "      quickchartButtonEl.disabled = true;  // To prevent multiple clicks.\n",
              "      quickchartButtonEl.classList.add('colab-df-spinner');\n",
              "      try {\n",
              "        const charts = await google.colab.kernel.invokeFunction(\n",
              "            'suggestCharts', [key], {});\n",
              "      } catch (error) {\n",
              "        console.error('Error during call to suggestCharts:', error);\n",
              "      }\n",
              "      quickchartButtonEl.classList.remove('colab-df-spinner');\n",
              "      quickchartButtonEl.classList.add('colab-df-quickchart-complete');\n",
              "    }\n",
              "    (() => {\n",
              "      let quickchartButtonEl =\n",
              "        document.querySelector('#df-675d1a3b-a19e-4c84-990d-8a55c07b5dee button');\n",
              "      quickchartButtonEl.style.display =\n",
              "        google.colab.kernel.accessAllowed ? 'block' : 'none';\n",
              "    })();\n",
              "  </script>\n",
              "</div>\n",
              "\n",
              "    </div>\n",
              "  </div>\n"
            ]
          },
          "metadata": {},
          "execution_count": 12
        }
      ]
    },
    {
      "cell_type": "code",
      "source": [
        "table=table.head(100000)"
      ],
      "metadata": {
        "id": "Fm3-4XY6gMgH"
      },
      "execution_count": 13,
      "outputs": []
    },
    {
      "cell_type": "code",
      "source": [
        "table.head()"
      ],
      "metadata": {
        "colab": {
          "base_uri": "https://localhost:8080/",
          "height": 206
        },
        "id": "rWl3t5LzgfuC",
        "outputId": "f4d194c4-88d4-40ab-e695-567d8122b7d2"
      },
      "execution_count": 14,
      "outputs": [
        {
          "output_type": "execute_result",
          "data": {
            "text/plain": [
              "                                            text language\n",
              "457756                         por favor ayúdeme  spanish\n",
              "651922                i go home right after work  english\n",
              "523264                              im toms aunt  english\n",
              "354856  cest le village où jai passé mon enfance   french\n",
              "396819            la leche es una bebida popular  spanish"
            ],
            "text/html": [
              "\n",
              "  <div id=\"df-0af1532b-8d17-4ca0-8eef-26e4a79093e0\" class=\"colab-df-container\">\n",
              "    <div>\n",
              "<style scoped>\n",
              "    .dataframe tbody tr th:only-of-type {\n",
              "        vertical-align: middle;\n",
              "    }\n",
              "\n",
              "    .dataframe tbody tr th {\n",
              "        vertical-align: top;\n",
              "    }\n",
              "\n",
              "    .dataframe thead th {\n",
              "        text-align: right;\n",
              "    }\n",
              "</style>\n",
              "<table border=\"1\" class=\"dataframe\">\n",
              "  <thead>\n",
              "    <tr style=\"text-align: right;\">\n",
              "      <th></th>\n",
              "      <th>text</th>\n",
              "      <th>language</th>\n",
              "    </tr>\n",
              "  </thead>\n",
              "  <tbody>\n",
              "    <tr>\n",
              "      <th>457756</th>\n",
              "      <td>por favor ayúdeme</td>\n",
              "      <td>spanish</td>\n",
              "    </tr>\n",
              "    <tr>\n",
              "      <th>651922</th>\n",
              "      <td>i go home right after work</td>\n",
              "      <td>english</td>\n",
              "    </tr>\n",
              "    <tr>\n",
              "      <th>523264</th>\n",
              "      <td>im toms aunt</td>\n",
              "      <td>english</td>\n",
              "    </tr>\n",
              "    <tr>\n",
              "      <th>354856</th>\n",
              "      <td>cest le village où jai passé mon enfance</td>\n",
              "      <td>french</td>\n",
              "    </tr>\n",
              "    <tr>\n",
              "      <th>396819</th>\n",
              "      <td>la leche es una bebida popular</td>\n",
              "      <td>spanish</td>\n",
              "    </tr>\n",
              "  </tbody>\n",
              "</table>\n",
              "</div>\n",
              "    <div class=\"colab-df-buttons\">\n",
              "\n",
              "  <div class=\"colab-df-container\">\n",
              "    <button class=\"colab-df-convert\" onclick=\"convertToInteractive('df-0af1532b-8d17-4ca0-8eef-26e4a79093e0')\"\n",
              "            title=\"Convert this dataframe to an interactive table.\"\n",
              "            style=\"display:none;\">\n",
              "\n",
              "  <svg xmlns=\"http://www.w3.org/2000/svg\" height=\"24px\" viewBox=\"0 -960 960 960\">\n",
              "    <path d=\"M120-120v-720h720v720H120Zm60-500h600v-160H180v160Zm220 220h160v-160H400v160Zm0 220h160v-160H400v160ZM180-400h160v-160H180v160Zm440 0h160v-160H620v160ZM180-180h160v-160H180v160Zm440 0h160v-160H620v160Z\"/>\n",
              "  </svg>\n",
              "    </button>\n",
              "\n",
              "  <style>\n",
              "    .colab-df-container {\n",
              "      display:flex;\n",
              "      gap: 12px;\n",
              "    }\n",
              "\n",
              "    .colab-df-convert {\n",
              "      background-color: #E8F0FE;\n",
              "      border: none;\n",
              "      border-radius: 50%;\n",
              "      cursor: pointer;\n",
              "      display: none;\n",
              "      fill: #1967D2;\n",
              "      height: 32px;\n",
              "      padding: 0 0 0 0;\n",
              "      width: 32px;\n",
              "    }\n",
              "\n",
              "    .colab-df-convert:hover {\n",
              "      background-color: #E2EBFA;\n",
              "      box-shadow: 0px 1px 2px rgba(60, 64, 67, 0.3), 0px 1px 3px 1px rgba(60, 64, 67, 0.15);\n",
              "      fill: #174EA6;\n",
              "    }\n",
              "\n",
              "    .colab-df-buttons div {\n",
              "      margin-bottom: 4px;\n",
              "    }\n",
              "\n",
              "    [theme=dark] .colab-df-convert {\n",
              "      background-color: #3B4455;\n",
              "      fill: #D2E3FC;\n",
              "    }\n",
              "\n",
              "    [theme=dark] .colab-df-convert:hover {\n",
              "      background-color: #434B5C;\n",
              "      box-shadow: 0px 1px 3px 1px rgba(0, 0, 0, 0.15);\n",
              "      filter: drop-shadow(0px 1px 2px rgba(0, 0, 0, 0.3));\n",
              "      fill: #FFFFFF;\n",
              "    }\n",
              "  </style>\n",
              "\n",
              "    <script>\n",
              "      const buttonEl =\n",
              "        document.querySelector('#df-0af1532b-8d17-4ca0-8eef-26e4a79093e0 button.colab-df-convert');\n",
              "      buttonEl.style.display =\n",
              "        google.colab.kernel.accessAllowed ? 'block' : 'none';\n",
              "\n",
              "      async function convertToInteractive(key) {\n",
              "        const element = document.querySelector('#df-0af1532b-8d17-4ca0-8eef-26e4a79093e0');\n",
              "        const dataTable =\n",
              "          await google.colab.kernel.invokeFunction('convertToInteractive',\n",
              "                                                    [key], {});\n",
              "        if (!dataTable) return;\n",
              "\n",
              "        const docLinkHtml = 'Like what you see? Visit the ' +\n",
              "          '<a target=\"_blank\" href=https://colab.research.google.com/notebooks/data_table.ipynb>data table notebook</a>'\n",
              "          + ' to learn more about interactive tables.';\n",
              "        element.innerHTML = '';\n",
              "        dataTable['output_type'] = 'display_data';\n",
              "        await google.colab.output.renderOutput(dataTable, element);\n",
              "        const docLink = document.createElement('div');\n",
              "        docLink.innerHTML = docLinkHtml;\n",
              "        element.appendChild(docLink);\n",
              "      }\n",
              "    </script>\n",
              "  </div>\n",
              "\n",
              "\n",
              "<div id=\"df-1945acc5-5b3d-4e27-881f-f1d13aaadd06\">\n",
              "  <button class=\"colab-df-quickchart\" onclick=\"quickchart('df-1945acc5-5b3d-4e27-881f-f1d13aaadd06')\"\n",
              "            title=\"Suggest charts\"\n",
              "            style=\"display:none;\">\n",
              "\n",
              "<svg xmlns=\"http://www.w3.org/2000/svg\" height=\"24px\"viewBox=\"0 0 24 24\"\n",
              "     width=\"24px\">\n",
              "    <g>\n",
              "        <path d=\"M19 3H5c-1.1 0-2 .9-2 2v14c0 1.1.9 2 2 2h14c1.1 0 2-.9 2-2V5c0-1.1-.9-2-2-2zM9 17H7v-7h2v7zm4 0h-2V7h2v10zm4 0h-2v-4h2v4z\"/>\n",
              "    </g>\n",
              "</svg>\n",
              "  </button>\n",
              "\n",
              "<style>\n",
              "  .colab-df-quickchart {\n",
              "      --bg-color: #E8F0FE;\n",
              "      --fill-color: #1967D2;\n",
              "      --hover-bg-color: #E2EBFA;\n",
              "      --hover-fill-color: #174EA6;\n",
              "      --disabled-fill-color: #AAA;\n",
              "      --disabled-bg-color: #DDD;\n",
              "  }\n",
              "\n",
              "  [theme=dark] .colab-df-quickchart {\n",
              "      --bg-color: #3B4455;\n",
              "      --fill-color: #D2E3FC;\n",
              "      --hover-bg-color: #434B5C;\n",
              "      --hover-fill-color: #FFFFFF;\n",
              "      --disabled-bg-color: #3B4455;\n",
              "      --disabled-fill-color: #666;\n",
              "  }\n",
              "\n",
              "  .colab-df-quickchart {\n",
              "    background-color: var(--bg-color);\n",
              "    border: none;\n",
              "    border-radius: 50%;\n",
              "    cursor: pointer;\n",
              "    display: none;\n",
              "    fill: var(--fill-color);\n",
              "    height: 32px;\n",
              "    padding: 0;\n",
              "    width: 32px;\n",
              "  }\n",
              "\n",
              "  .colab-df-quickchart:hover {\n",
              "    background-color: var(--hover-bg-color);\n",
              "    box-shadow: 0 1px 2px rgba(60, 64, 67, 0.3), 0 1px 3px 1px rgba(60, 64, 67, 0.15);\n",
              "    fill: var(--button-hover-fill-color);\n",
              "  }\n",
              "\n",
              "  .colab-df-quickchart-complete:disabled,\n",
              "  .colab-df-quickchart-complete:disabled:hover {\n",
              "    background-color: var(--disabled-bg-color);\n",
              "    fill: var(--disabled-fill-color);\n",
              "    box-shadow: none;\n",
              "  }\n",
              "\n",
              "  .colab-df-spinner {\n",
              "    border: 2px solid var(--fill-color);\n",
              "    border-color: transparent;\n",
              "    border-bottom-color: var(--fill-color);\n",
              "    animation:\n",
              "      spin 1s steps(1) infinite;\n",
              "  }\n",
              "\n",
              "  @keyframes spin {\n",
              "    0% {\n",
              "      border-color: transparent;\n",
              "      border-bottom-color: var(--fill-color);\n",
              "      border-left-color: var(--fill-color);\n",
              "    }\n",
              "    20% {\n",
              "      border-color: transparent;\n",
              "      border-left-color: var(--fill-color);\n",
              "      border-top-color: var(--fill-color);\n",
              "    }\n",
              "    30% {\n",
              "      border-color: transparent;\n",
              "      border-left-color: var(--fill-color);\n",
              "      border-top-color: var(--fill-color);\n",
              "      border-right-color: var(--fill-color);\n",
              "    }\n",
              "    40% {\n",
              "      border-color: transparent;\n",
              "      border-right-color: var(--fill-color);\n",
              "      border-top-color: var(--fill-color);\n",
              "    }\n",
              "    60% {\n",
              "      border-color: transparent;\n",
              "      border-right-color: var(--fill-color);\n",
              "    }\n",
              "    80% {\n",
              "      border-color: transparent;\n",
              "      border-right-color: var(--fill-color);\n",
              "      border-bottom-color: var(--fill-color);\n",
              "    }\n",
              "    90% {\n",
              "      border-color: transparent;\n",
              "      border-bottom-color: var(--fill-color);\n",
              "    }\n",
              "  }\n",
              "</style>\n",
              "\n",
              "  <script>\n",
              "    async function quickchart(key) {\n",
              "      const quickchartButtonEl =\n",
              "        document.querySelector('#' + key + ' button');\n",
              "      quickchartButtonEl.disabled = true;  // To prevent multiple clicks.\n",
              "      quickchartButtonEl.classList.add('colab-df-spinner');\n",
              "      try {\n",
              "        const charts = await google.colab.kernel.invokeFunction(\n",
              "            'suggestCharts', [key], {});\n",
              "      } catch (error) {\n",
              "        console.error('Error during call to suggestCharts:', error);\n",
              "      }\n",
              "      quickchartButtonEl.classList.remove('colab-df-spinner');\n",
              "      quickchartButtonEl.classList.add('colab-df-quickchart-complete');\n",
              "    }\n",
              "    (() => {\n",
              "      let quickchartButtonEl =\n",
              "        document.querySelector('#df-1945acc5-5b3d-4e27-881f-f1d13aaadd06 button');\n",
              "      quickchartButtonEl.style.display =\n",
              "        google.colab.kernel.accessAllowed ? 'block' : 'none';\n",
              "    })();\n",
              "  </script>\n",
              "</div>\n",
              "\n",
              "    </div>\n",
              "  </div>\n"
            ]
          },
          "metadata": {},
          "execution_count": 14
        }
      ]
    },
    {
      "cell_type": "code",
      "source": [
        "table['language'].value_counts()"
      ],
      "metadata": {
        "colab": {
          "base_uri": "https://localhost:8080/"
        },
        "id": "wFPrEXnsghZa",
        "outputId": "5d69eaba-ccff-4069-c1cc-53c7740b10d9"
      },
      "execution_count": 15,
      "outputs": [
        {
          "output_type": "execute_result",
          "data": {
            "text/plain": [
              "english    36068\n",
              "german     26237\n",
              "french     22231\n",
              "spanish    15464\n",
              "Name: language, dtype: int64"
            ]
          },
          "metadata": {},
          "execution_count": 15
        }
      ]
    },
    {
      "cell_type": "code",
      "source": [
        "from tensorflow.keras.preprocessing.text import Tokenizer"
      ],
      "metadata": {
        "id": "KKGP78gFgnq0"
      },
      "execution_count": 16,
      "outputs": []
    },
    {
      "cell_type": "code",
      "source": [
        "tokenizer=Tokenizer()"
      ],
      "metadata": {
        "id": "p7uqlZV-hLdE"
      },
      "execution_count": 17,
      "outputs": []
    },
    {
      "cell_type": "markdown",
      "source": [
        "**Fitting text in tokenizer**"
      ],
      "metadata": {
        "id": "oJHLz69Fzybd"
      }
    },
    {
      "cell_type": "code",
      "source": [
        "tokenizer.fit_on_texts(table['text'])"
      ],
      "metadata": {
        "id": "9sMpGB7whXfF"
      },
      "execution_count": 18,
      "outputs": []
    },
    {
      "cell_type": "code",
      "source": [
        "len(tokenizer.word_index)"
      ],
      "metadata": {
        "colab": {
          "base_uri": "https://localhost:8080/"
        },
        "id": "qx2YDk3oiT3O",
        "outputId": "f21d4951-ed9f-4812-ba17-f0a150cd573b"
      },
      "execution_count": 19,
      "outputs": [
        {
          "output_type": "execute_result",
          "data": {
            "text/plain": [
              "42750"
            ]
          },
          "metadata": {},
          "execution_count": 19
        }
      ]
    },
    {
      "cell_type": "markdown",
      "source": [
        "**Splitting language columns in individual languages columns**"
      ],
      "metadata": {
        "id": "D2GC3IJ7z3if"
      }
    },
    {
      "cell_type": "code",
      "source": [
        "y=pd.get_dummies(table['language'])"
      ],
      "metadata": {
        "id": "VuLVvPiMhi72"
      },
      "execution_count": 20,
      "outputs": []
    },
    {
      "cell_type": "markdown",
      "source": [
        "**Now transforming all the text into sequences**"
      ],
      "metadata": {
        "id": "EYj-j0d80Cax"
      }
    },
    {
      "cell_type": "code",
      "source": [
        "input_sequences=[]\n",
        "for text in table['text']:\n",
        "  sequences=tokenizer.texts_to_sequences([text])[0]\n",
        "  input_sequences.append(sequences)"
      ],
      "metadata": {
        "id": "NNVetQq4hfcB"
      },
      "execution_count": 21,
      "outputs": []
    },
    {
      "cell_type": "code",
      "source": [
        "len(input_sequences)"
      ],
      "metadata": {
        "colab": {
          "base_uri": "https://localhost:8080/"
        },
        "id": "msWhUV6ViKwu",
        "outputId": "5ea2b5b6-b226-44f5-c43e-0d36b61d8cef"
      },
      "execution_count": 22,
      "outputs": [
        {
          "output_type": "execute_result",
          "data": {
            "text/plain": [
              "100000"
            ]
          },
          "metadata": {},
          "execution_count": 22
        }
      ]
    },
    {
      "cell_type": "code",
      "source": [
        "input_sequences"
      ],
      "metadata": {
        "colab": {
          "base_uri": "https://localhost:8080/"
        },
        "id": "qeXBi65BiNya",
        "outputId": "75e37bb8-ba9e-4fb9-de21-2ad4232c1df0"
      },
      "execution_count": 23,
      "outputs": [
        {
          "output_type": "execute_result",
          "data": {
            "text/plain": [
              "[[92, 448, 21293],\n",
              " [3, 109, 248, 348, 441, 269],\n",
              " [45, 150, 4625],\n",
              " [110, 22, 2710, 317, 77, 852, 181, 6768],\n",
              " [11, 2341, 14, 102, 14858, 2159],\n",
              " [1, 19, 21294, 266, 404, 833, 215, 28, 12, 187],\n",
              " [1, 2808, 87, 15],\n",
              " [941, 224, 1921, 111, 5, 597, 19, 313],\n",
              " [274, 376, 58, 2, 324],\n",
              " [21, 123, 306, 844],\n",
              " [1, 18, 251, 4626, 147, 20],\n",
              " [1, 82, 875, 147, 94, 90, 1685, 21295],\n",
              " [1, 171, 106, 1720, 152, 13, 1068],\n",
              " [10, 256, 373, 7485, 6, 157, 1102, 3568],\n",
              " [10, 521, 1872, 25, 1792, 172, 957, 162, 6, 367, 927, 51, 986],\n",
              " [2915, 12, 46, 1140, 2013],\n",
              " [7, 67, 285, 32, 303],\n",
              " [48, 8, 106, 52, 212, 87, 1922, 325, 1, 2, 604],\n",
              " [297, 21296, 367, 14859, 2916],\n",
              " [115, 259, 2, 11688, 148, 51, 377, 2711],\n",
              " [10,\n",
              "  174,\n",
              "  647,\n",
              "  9,\n",
              "  34,\n",
              "  8423,\n",
              "  9,\n",
              "  10,\n",
              "  30,\n",
              "  1686,\n",
              "  17,\n",
              "  26,\n",
              "  3569,\n",
              "  6,\n",
              "  670,\n",
              "  29,\n",
              "  334,\n",
              "  7486],\n",
              " [164, 149, 3259, 82, 314, 14860, 6769],\n",
              " [3, 197, 677],\n",
              " [383, 134, 28, 218, 487, 4, 5, 319, 21297],\n",
              " [1873, 12, 46, 3745],\n",
              " [63, 272, 8424, 19, 63, 112],\n",
              " [3, 42, 2, 5299, 31, 21298, 7487],\n",
              " [558, 1, 4, 195, 423],\n",
              " [40, 261, 25, 1024, 4154],\n",
              " [373, 30, 15, 3570, 1614, 9, 34],\n",
              " [1, 19, 66, 2, 867, 208, 3, 108, 6166, 4, 207, 200, 35, 19],\n",
              " [279, 881, 96, 27, 11689, 21299],\n",
              " [227, 412, 15, 109, 66, 8],\n",
              " [7, 67, 96, 400, 14861],\n",
              " [1, 1721, 474, 758, 2220, 2917],\n",
              " [1443, 20, 70, 27, 485, 21300],\n",
              " [1, 601, 96, 278, 79, 309, 2416, 1271, 88, 20],\n",
              " [28, 19, 1555, 176, 5, 11690, 4627, 87, 114],\n",
              " [111, 175, 3, 1527, 4, 36, 38],\n",
              " [45, 1103, 5, 3025],\n",
              " [115, 2, 241, 213, 1874, 6, 181, 2809],\n",
              " [28, 8425, 418, 168, 418],\n",
              " [115, 2, 11691, 344, 773, 9724, 29, 8426, 6, 11, 8427],\n",
              " [280, 21301, 21302, 309, 21303],\n",
              " [115, 155, 6167, 25, 1370, 14862, 6, 541],\n",
              " [7, 67, 1158, 977, 117, 349, 11692],\n",
              " [185, 346, 2160],\n",
              " [14863, 1],\n",
              " [195, 125, 64, 204, 15],\n",
              " [14, 584, 70, 238, 251, 4628],\n",
              " [54, 2492, 693, 97],\n",
              " [1, 108, 42, 532, 274, 4, 109, 248, 168, 396],\n",
              " [1, 212, 243, 62, 2114, 745, 35, 724, 78, 890],\n",
              " [2493, 202, 21304],\n",
              " [1, 137, 504, 581, 60, 1722],\n",
              " [5, 2276, 83, 1649, 13, 7488, 14864, 38, 2557],\n",
              " [41, 1069, 62, 47, 21305, 3026],\n",
              " [135, 376, 58, 642, 4, 152, 146, 79, 774],\n",
              " [1272, 1687, 14865, 21306],\n",
              " [21, 378, 766, 139, 678, 1370, 3410],\n",
              " [1, 64, 33, 61, 125, 222],\n",
              " [1, 671, 14866, 11, 327, 6, 617, 11693],\n",
              " [602, 14, 9, 651, 679, 283, 4352],\n",
              " [21307, 11, 11694, 29, 5678, 49, 25, 3260],\n",
              " [63, 112, 27, 19, 63, 21308, 16, 14867],\n",
              " [11, 1311, 55, 1688, 21309, 782, 6, 21310],\n",
              " [3, 100, 214, 46, 706, 845, 275],\n",
              " [1, 2, 598, 101, 11695, 213, 21311],\n",
              " [52, 170, 76, 8, 4, 58, 397],\n",
              " [98, 9725],\n",
              " [5, 6168, 19, 1492, 31, 21312],\n",
              " [1, 19, 2712, 20, 318, 2558, 81, 149, 3027],\n",
              " [1, 18, 322, 11696],\n",
              " [7, 391, 154, 8428],\n",
              " [20, 11697, 262, 16, 928],\n",
              " [40, 2918, 630, 7489],\n",
              " [11, 4353, 261, 1556],\n",
              " [8, 212, 42, 230, 15, 2, 310, 134, 833],\n",
              " [38, 12, 144, 4, 58, 310],\n",
              " [33, 533, 21313, 129, 3928],\n",
              " [14868, 462, 2417],\n",
              " [14869, 96, 180, 3746, 720],\n",
              " [10, 694, 3411, 5679],\n",
              " [320, 18, 401, 262],\n",
              " [1, 1417, 88, 231, 1689],\n",
              " [304, 1125, 18, 32, 21314],\n",
              " [370, 45, 3028, 11698, 267],\n",
              " [652, 2, 1185, 3, 76, 4, 214, 8, 268],\n",
              " [48, 2277, 5, 14870],\n",
              " [65, 3029, 463, 25, 525, 967, 6, 21315],\n",
              " [150, 834, 18, 4354],\n",
              " [1, 2, 1923, 132, 344, 14871],\n",
              " [150, 9726, 419, 82, 4629],\n",
              " [680, 443, 1752],\n",
              " [35, 12, 46, 1115],\n",
              " [124, 104, 119, 274],\n",
              " [3571, 9727, 151, 31, 5, 9728],\n",
              " [11, 488, 49, 2161, 497, 116, 54, 11699],\n",
              " [3, 2342, 126, 6169],\n",
              " [3, 2624, 482, 402, 421, 23, 46, 698, 216],\n",
              " [210, 489, 85, 24, 4155],\n",
              " [45, 69, 371, 532],\n",
              " [11, 21316, 14872, 139, 25, 14873],\n",
              " [79, 61, 8, 2919, 725],\n",
              " [40, 155, 978, 107, 10, 9729, 1273],\n",
              " [45, 69, 14874, 8],\n",
              " [505, 20, 6170, 2625],\n",
              " [2418, 8, 36, 48, 36, 23],\n",
              " [52, 197, 9730, 2810, 64, 2559, 4, 294, 38, 2419],\n",
              " [5, 1274, 31, 5, 368, 12, 3929, 1723],\n",
              " [3, 19, 559, 119, 23],\n",
              " [3, 487, 4, 243, 2, 1011, 774, 13, 5, 683],\n",
              " [150, 477, 12, 371],\n",
              " [22, 1753, 273, 17, 51, 191, 261, 40, 95, 2, 1924, 759],\n",
              " [5, 21317, 99, 5680, 62, 6770],\n",
              " [190, 58, 1212, 4, 109, 168, 1104],\n",
              " [20, 160, 350, 2420, 7490, 3412, 62],\n",
              " [77, 22, 535, 868, 9, 388],\n",
              " [3, 684, 57, 3, 522],\n",
              " [116, 155, 6771, 213, 2494],\n",
              " [249, 463, 826, 2560, 148, 987, 48, 249, 21318],\n",
              " [11700, 154, 80, 70, 13, 7491],\n",
              " [3261, 24, 96],\n",
              " [109, 2014],\n",
              " [1, 422, 364, 8],\n",
              " [169, 55, 6772, 139, 103, 2, 123, 2495, 968],\n",
              " [150, 1444, 4, 152, 746, 1290, 60, 803],\n",
              " [124, 2, 14875, 4, 42, 6773, 87, 9731],\n",
              " [113, 8, 207, 1, 87, 380, 337],\n",
              " [45, 201, 648, 2421, 4, 38],\n",
              " [958, 2496, 1418, 286, 882, 678],\n",
              " [3572, 5, 1925, 414, 5, 1200],\n",
              " [2422, 321, 72, 2713],\n",
              " [2343, 6, 11701, 26, 9732],\n",
              " [1, 12, 21319],\n",
              " [1, 171, 71, 57, 33, 12, 144, 4, 36],\n",
              " [100, 8, 58, 125, 13, 1467, 62, 1754],\n",
              " [5300, 9, 14876, 3262, 198],\n",
              " [103, 734, 102, 327, 853, 95, 534, 3263],\n",
              " [3, 422, 684, 4, 207, 129],\n",
              " [135, 61, 4630, 31, 312, 2561],\n",
              " [43, 942, 21320, 25, 988, 4631],\n",
              " [36, 8, 106, 2221, 12, 359],\n",
              " [202, 869, 49, 2344],\n",
              " [5, 3747, 12, 120, 2423],\n",
              " [1, 4156, 23, 104, 969, 61, 8429, 11702],\n",
              " [958, 14, 39, 21321],\n",
              " [234, 4632, 29, 25, 21322],\n",
              " [43, 93, 14877, 29, 25, 7489, 9733, 189, 43, 545, 26, 1926, 65, 9734],\n",
              " [1, 699, 56, 41, 16, 622],\n",
              " [41, 18, 59, 1186, 21323],\n",
              " [42, 2, 1126, 5301],\n",
              " [221, 1445, 5, 835],\n",
              " [43, 14, 2015],\n",
              " [14, 118, 5681, 45, 6171],\n",
              " [498, 943, 9, 21324, 347],\n",
              " [1, 11703, 5, 263, 64, 218, 13],\n",
              " [1, 18, 145, 16, 707, 1141],\n",
              " [121, 12, 2, 134, 44, 421],\n",
              " [1, 12, 2, 4947],\n",
              " [205, 1142, 50, 59, 3145],\n",
              " [498, 943, 9, 14878, 405],\n",
              " [43, 9735, 433, 6, 228, 2222, 334, 2714],\n",
              " [12, 35, 810, 23, 124, 614, 2715, 1927],\n",
              " [27, 18, 591, 21325],\n",
              " [7, 128, 159, 6172, 88, 193, 127, 4633, 6774],\n",
              " [25, 2920, 11, 11704],\n",
              " [28, 12, 4157, 9736, 53, 60, 510],\n",
              " [7, 67, 4948, 79, 360, 1227, 88, 41],\n",
              " [30, 15, 1291, 17, 51, 9, 10, 300],\n",
              " [75, 14879, 1, 95, 240],\n",
              " [4158, 462, 260, 11705],\n",
              " [4634, 15, 1312, 25, 643, 6, 1311],\n",
              " [10, 22, 21326],\n",
              " [602, 4635, 2, 1],\n",
              " [573, 1528, 20, 27, 1158, 225, 80, 3748, 173],\n",
              " [526, 9, 1, 511, 580, 91, 54, 1159],\n",
              " [61, 8, 3573, 264, 8430],\n",
              " [19, 18, 45, 8431],\n",
              " [3, 48, 78, 2278, 2497],\n",
              " [48, 14880, 15],\n",
              " [47, 4636, 21327, 147, 41, 37, 1755, 836],\n",
              " [1187, 6173, 192, 7, 88, 41, 552],\n",
              " [7, 209, 729, 16, 251, 389, 7, 209, 56, 1, 16, 209, 4949, 41, 400, 1057],\n",
              " [1, 584, 1529, 453, 21328, 13, 21329],\n",
              " [602, 1201, 21330],\n",
              " [107, 7492, 188, 609, 15, 1201, 21331, 2, 102, 327, 188, 853],\n",
              " [9, 11706, 26, 21332],\n",
              " [2279, 44, 790, 44, 15],\n",
              " [2223, 140, 7, 8432, 336, 11707],\n",
              " [1, 2162, 26, 2811, 156, 3410],\n",
              " [467, 34, 804, 14881, 25, 451, 22, 8433],\n",
              " [2224, 12, 5, 14882, 4355, 44, 5, 7493, 31, 21333],\n",
              " [15, 98, 21334],\n",
              " [182, 8, 78, 4, 546, 66, 203],\n",
              " [194, 666, 5, 1793, 4, 46, 368],\n",
              " [5, 2163, 19, 3413, 66, 2224],\n",
              " [39, 11708, 98, 21335, 2, 3146],\n",
              " [5, 904, 19, 7494, 168, 60, 510],\n",
              " [52, 61, 13, 5, 431, 31, 6775, 3930],\n",
              " [8, 61, 3573, 222, 226, 31, 129],\n",
              " [3749, 85, 27, 136, 96, 3574],\n",
              " [23, 6174, 12, 11709, 430, 438, 605],\n",
              " [3, 288, 52, 105, 1527, 4, 970, 1, 87, 1104],\n",
              " [169, 2812, 11, 3264, 6, 844, 2, 11, 7495, 5682],\n",
              " [93, 618, 93, 28, 332, 151, 35, 1329, 4, 890],\n",
              " [1, 1493, 4, 58, 21336],\n",
              " [9, 1043, 21337],\n",
              " [52, 1275, 248, 493],\n",
              " [2279, 44, 816, 53, 891, 1975, 3030],\n",
              " [3, 365, 114, 4, 36, 23],\n",
              " [77, 3575, 29, 2716, 22, 576],\n",
              " [915, 3931, 21338],\n",
              " [77, 978, 73, 1070, 2717, 178, 11710],\n",
              " [1, 12, 1530, 13, 5, 2115, 187],\n",
              " [258, 14883],\n",
              " [1, 2016, 5, 21339, 610, 33, 7496],\n",
              " [1, 2, 2164, 9737, 708, 199, 2498],\n",
              " [432, 133, 1690, 431, 2921, 2225, 21340, 199, 3265, 2, 2164],\n",
              " [15, 1105, 767, 26, 2345, 1330, 1794],\n",
              " [19, 1557, 20, 444],\n",
              " [7, 11711, 11712, 11713],\n",
              " [34, 9738, 408, 9, 51, 511],\n",
              " [77, 1352, 73, 7497, 6, 11714, 26, 21341],\n",
              " [41, 50, 7498, 1331, 4950],\n",
              " [28, 12, 2, 120, 14884, 4947],\n",
              " [63, 507, 1494, 7499],\n",
              " [41, 18, 59, 21342],\n",
              " [63, 1371, 251, 14885, 837],\n",
              " [1143, 67, 7, 251, 2499, 21343],\n",
              " [1, 522, 2, 14886],\n",
              " [237, 12, 46, 5302],\n",
              " [3, 71, 185, 69, 23, 1228],\n",
              " [21, 685, 25, 21344],\n",
              " [110, 235, 22, 959, 21345],\n",
              " [21346, 21347, 3576, 4, 21348, 82],\n",
              " [3, 332, 4, 5, 1213, 490],\n",
              " [77, 225, 178, 21349],\n",
              " [11715, 5, 1252, 19, 366, 151, 390, 35, 1214, 222, 2346],\n",
              " [105, 104, 3147, 125],\n",
              " [1, 3577, 4, 3932, 23, 369, 2, 6175, 31, 5, 1419, 11716],\n",
              " [1175, 13, 7500, 125],\n",
              " [3, 106, 38, 12, 2718, 14887],\n",
              " [1, 290, 3933, 1127, 9, 21, 1650, 670],\n",
              " [43, 1830, 17, 570, 553, 525, 9, 116],\n",
              " [158, 8, 83, 2626, 15, 44, 2, 760, 892, 340, 78, 4, 294, 2, 604],\n",
              " [10, 174, 21350, 367, 9739],\n",
              " [1, 12, 62, 21351],\n",
              " [1, 487, 4, 325, 15, 1276],\n",
              " [2627, 5303, 14888],\n",
              " [10, 876, 34, 232, 4637],\n",
              " [619, 3266, 1875, 4638, 9740, 2813],\n",
              " [1201, 1071, 6776, 39, 2017],\n",
              " [1615, 929, 735, 244],\n",
              " [52, 42, 4, 294, 2, 1444],\n",
              " [74, 171, 42, 330, 512, 13, 38, 1202],\n",
              " [15, 439, 286, 7501],\n",
              " [50, 14, 1, 3750, 542],\n",
              " [7, 299, 37, 1160, 977, 138, 143],\n",
              " [3410, 21, 971, 2, 2116, 98, 9, 680, 2347],\n",
              " [1, 392, 94, 56, 41, 16, 516, 1685, 357, 1277],\n",
              " [54, 11717, 335, 284],\n",
              " [1, 7502, 139, 39, 2922],\n",
              " [685, 25, 21352],\n",
              " [1, 6777, 136, 94, 127, 21353, 32],\n",
              " [28, 19, 653, 87, 5, 134],\n",
              " [3, 100, 36, 35, 66, 165, 700],\n",
              " [14, 471, 145, 231, 1072, 37, 16, 1393, 321],\n",
              " [1, 21354, 483, 39, 1651, 6, 25, 960, 3267],\n",
              " [1, 82, 4356],\n",
              " [22, 21355, 102, 14889, 1616],\n",
              " [527, 61, 69, 1652],\n",
              " [12, 121, 1795, 2, 4951, 14890, 13, 654],\n",
              " [7, 672, 363, 56, 20, 736, 2500, 930],\n",
              " [535, 737, 21356, 115, 49, 5304, 4952],\n",
              " [39, 3414, 367, 4357, 2165, 968, 9, 3751, 347],\n",
              " [3, 644, 2, 1446, 13, 5, 1468],\n",
              " [176, 19, 5, 252, 134, 8, 21357],\n",
              " [75, 7503, 188, 708, 656, 714],\n",
              " [15, 14891, 805],\n",
              " [7, 1253, 186, 32, 517, 1215],\n",
              " [526, 4639, 25, 1875, 14892],\n",
              " [27, 494, 547, 1756],\n",
              " [185, 5, 252, 695, 3, 2018, 4, 207, 125],\n",
              " [10, 30, 174, 17, 1831, 434, 6, 686, 2562, 21358],\n",
              " [164, 47, 579, 3148, 24, 4159, 8434],\n",
              " [1, 365, 33, 4, 1796, 114, 111, 4, 36, 23],\n",
              " [1, 21359],\n",
              " [121, 239, 264, 1928, 384],\n",
              " [1, 141, 6778, 6, 11, 1832, 4953, 6, 33],\n",
              " [8, 1034, 42, 412, 38, 811],\n",
              " [48, 8, 106, 52, 3268, 219, 4954],\n",
              " [170, 3031, 68, 1929],\n",
              " [685, 21360],\n",
              " [20, 1495, 14, 446, 886],\n",
              " [1, 64, 33, 61, 7504],\n",
              " [1, 482, 5, 21361, 31, 3032, 151, 31, 5, 6779],\n",
              " [185, 5683, 31, 4955],\n",
              " [88, 128, 14, 21362, 272],\n",
              " [124, 2, 14893, 4, 468],\n",
              " [77, 4358, 6, 75, 4160, 817, 393],\n",
              " [8, 354, 197, 4, 7505],\n",
              " [150, 4359, 701, 59, 6176, 6780, 3752],\n",
              " [37, 1755, 50, 162, 295, 84, 1876, 14894],\n",
              " [7, 311, 16, 56, 20, 84, 3934, 1044, 1653, 88, 7],\n",
              " [195, 6781, 4, 15],\n",
              " [63, 529, 916, 1757, 63, 37, 1496, 21363, 887],\n",
              " [42, 8, 1833, 68, 1035, 690],\n",
              " [7, 140, 2923, 56, 7, 154, 1083, 67],\n",
              " [77, 3149, 51, 9, 43, 93, 220, 1045, 11, 1469],\n",
              " [88, 622, 14, 56, 24, 795],\n",
              " [581, 274, 28, 224, 36, 459],\n",
              " [57, 28, 230, 15, 490, 12, 2, 1723, 1470],\n",
              " [150, 1691, 12, 4, 2424, 715, 5, 1025, 66, 33],\n",
              " [5684, 24, 3033, 192, 24, 16, 3033, 118, 272, 24, 21364],\n",
              " [3, 2628, 1497, 4161, 64, 2, 1723, 7506, 490],\n",
              " [40, 95, 2, 598, 14895, 21365, 21366, 979, 65, 518, 14896],\n",
              " [1094, 657, 11718, 273, 17, 7507],\n",
              " [330, 905, 282, 13, 4640, 61, 9741],\n",
              " [317, 8435, 202, 21367],\n",
              " [1, 14897, 163, 444],\n",
              " [1, 83, 16, 1073],\n",
              " [5, 328, 12, 14898, 64, 1394],\n",
              " [77, 6177, 6, 97, 148, 51, 9, 10, 1654],\n",
              " [24, 517, 400],\n",
              " [3,\n",
              "  3415,\n",
              "  5,\n",
              "  944,\n",
              "  4956,\n",
              "  14899,\n",
              "  21368,\n",
              "  21369,\n",
              "  66,\n",
              "  46,\n",
              "  2280,\n",
              "  490,\n",
              "  74,\n",
              "  19,\n",
              "  120,\n",
              "  931],\n",
              " [54, 435, 9742, 2924, 932],\n",
              " [85, 4641, 37, 1160, 4359, 21370, 321],\n",
              " [10, 86, 22, 1797],\n",
              " [374, 2629, 405],\n",
              " [374, 9743, 1752, 6, 4957],\n",
              " [1, 82, 229, 21371, 877],\n",
              " [135, 126, 854, 1834, 796, 438],\n",
              " [7, 4958, 281, 251, 1758],\n",
              " [22, 1447, 261, 14900],\n",
              " [185, 120, 14901],\n",
              " [5685, 260, 198],\n",
              " [3, 106, 1, 12, 4360],\n",
              " [234, 15, 1128, 21372],\n",
              " [395, 667, 13, 2117, 168, 3416],\n",
              " [1216, 372, 9744, 199, 714, 9745, 2, 1254, 2501, 2, 308, 123, 5305],\n",
              " [28, 635, 14902],\n",
              " [7, 128, 16, 262, 1229],\n",
              " [124, 3269, 359],\n",
              " [27, 3270, 82, 6178],\n",
              " [378, 25, 11719, 6, 4959, 1752, 6, 347],\n",
              " [1012, 709, 266, 14903],\n",
              " [43, 14, 8436, 1159, 775, 927, 7508, 463, 101, 5306],\n",
              " [37, 948, 318, 529, 379],\n",
              " [111, 36, 3, 1921, 38],\n",
              " [10, 86, 433, 2015, 91, 95, 3271, 623],\n",
              " [702, 6179, 21373, 4642],\n",
              " [1420, 20, 56, 14, 6782, 184],\n",
              " [21374, 41, 875, 3150, 270, 2281, 41, 84, 1332],\n",
              " [47, 21375, 13, 84, 21376, 18, 163, 1278],\n",
              " [1617, 279, 350, 1372, 32],\n",
              " [673, 378, 9, 21377, 199, 21378, 161, 21379],\n",
              " [20, 930, 16, 138, 143],\n",
              " [9746, 273, 17, 11, 2226],\n",
              " [3, 108, 42, 2, 1930],\n",
              " [41, 5686, 70, 27, 1976, 32],\n",
              " [519, 3, 3578, 68, 2114],\n",
              " [505, 20, 304, 7506, 112],\n",
              " [11, 14904, 49, 1373, 6, 11, 14905],\n",
              " [21, 14906, 432, 4361, 8437, 1931],\n",
              " [57, 212, 3, 36, 66, 5, 945, 53, 5, 869],\n",
              " [9747, 30, 1498, 17, 11, 2166, 172, 65, 3935, 8438],\n",
              " [10, 5307, 6, 15, 14907, 424, 2167],\n",
              " [7, 128, 349, 21380, 56, 63, 7509, 1044, 16, 145, 413, 6783, 272],\n",
              " [41, 1188, 16, 494],\n",
              " [45, 1176, 8, 218, 289],\n",
              " [45, 1618, 1, 83, 76, 4, 425, 66, 8],\n",
              " [249, 55, 206, 21381, 178, 2814],\n",
              " [113, 1, 214, 33, 57, 514, 216],\n",
              " [3151, 1, 2, 33],\n",
              " [3, 48, 76, 1, 4, 1932, 60, 454],\n",
              " [7, 67, 233, 122, 79, 1095, 147, 1933, 32, 1724],\n",
              " [3, 48, 71, 200, 113, 35],\n",
              " [680, 6784, 1161, 6, 9, 726, 2348, 11, 1230],\n",
              " [478, 11720, 17, 29, 22, 97],\n",
              " [3, 560, 2, 1558, 3034, 816, 166, 150, 328, 252, 415],\n",
              " [4960, 9, 54, 11721, 7510, 51, 868, 132, 22, 6180],\n",
              " [1, 391, 154, 529],\n",
              " [65, 7511, 30, 2282, 1559, 3753, 6, 1759],\n",
              " [5, 4362, 12, 21382],\n",
              " [1216, 1655, 9, 11722, 1],\n",
              " [1106, 9, 34, 30, 3754, 17, 8439],\n",
              " [1, 50, 1760, 238, 89, 1531],\n",
              " [297, 21383, 97, 6, 11, 9748, 235, 3272],\n",
              " [3273, 51, 191, 95, 2, 1333, 235, 11, 1761],\n",
              " [1084, 9, 10, 521, 97, 6181],\n",
              " [1, 376, 3932, 35],\n",
              " [592, 9, 1085, 2925, 882, 21],\n",
              " [1, 21, 574, 1026, 915, 102, 9749],\n",
              " [167, 61, 8, 9750, 87, 15],\n",
              " [307, 2630, 72, 150, 554],\n",
              " [21384, 131, 1353],\n",
              " [1, 18, 7512, 21385],\n",
              " [11723],\n",
              " [505, 20, 56, 1, 27, 136, 154, 528],\n",
              " [57, 761, 36, 8, 42, 13, 68, 4162],\n",
              " [103, 7513, 1395, 462, 123, 1046],\n",
              " [194, 183, 1129, 119, 35, 222],\n",
              " [110, 21386],\n",
              " [1, 2, 3579, 181, 3936, 1255],\n",
              " [3, 71, 23, 23, 508, 1],\n",
              " [121, 61, 219, 14908, 13, 5, 1656],\n",
              " [624, 580, 403, 34, 342, 21387],\n",
              " [258, 1161, 6, 9, 7514, 2563, 6, 308, 39, 536],\n",
              " [103, 6785, 95, 1977, 26, 11, 9751],\n",
              " [27, 18, 350, 696, 1],\n",
              " [21388, 2, 611],\n",
              " [40, 9752, 11, 2168, 5687],\n",
              " [3, 108, 71, 8, 224, 36, 23],\n",
              " [4363, 9753, 21389, 14909, 14910],\n",
              " [77, 25, 6786, 225, 6, 3937],\n",
              " [21390, 18, 27, 3580],\n",
              " [47, 21391, 1374, 3755, 4961, 90, 2425],\n",
              " [318, 24, 1074, 254, 687, 1421, 2926, 24, 59, 946, 32, 21392],\n",
              " [5, 917, 53, 5, 2349, 12, 989],\n",
              " [7, 311, 24, 180, 436, 8440, 2067],\n",
              " [1, 18, 80, 453, 4354, 2426],\n",
              " [7, 140, 138, 4643, 1],\n",
              " [506, 6, 1499, 8441, 9, 54, 2492, 6787, 29, 619, 11724],\n",
              " [87, 57, 134, 315, 68, 1500, 1692],\n",
              " [1, 1231, 21393, 156, 286, 536],\n",
              " [28, 19, 2350, 93, 62, 21394, 4, 5, 7515],\n",
              " [1, 469, 268, 239, 348],\n",
              " [3, 48, 806, 200, 1560, 93, 310, 93, 35, 239, 15],\n",
              " [620, 2, 9754, 131, 1725],\n",
              " [620, 2, 21395, 188, 708],\n",
              " [15, 98, 4644, 11, 7516, 6, 198],\n",
              " [8, 104, 684, 1, 48, 8],\n",
              " [133, 6182, 498, 195, 1311, 14911],\n",
              " [1, 1619, 127, 9755, 21396],\n",
              " [115, 259, 220, 377, 261, 2494],\n",
              " [4364, 85, 84, 4962, 81, 47, 14912],\n",
              " [1, 14913, 39, 2927],\n",
              " [1, 18, 16, 3152, 11725, 2564, 32, 291],\n",
              " [11, 4963, 55, 3035, 3581],\n",
              " [2068, 25, 4645, 6, 2341],\n",
              " [199, 1313, 4644, 11, 3582],\n",
              " [37, 674, 82, 3938, 21397],\n",
              " [1, 1003, 75, 2351, 335, 284],\n",
              " [1, 171, 1334, 4, 60, 510],\n",
              " [1, 644, 151, 119, 35, 53, 60, 1004],\n",
              " [34, 342, 213, 11726],\n",
              " [1, 455, 2427, 5688],\n",
              " [2352, 20, 21398],\n",
              " [133, 609, 933, 21399, 156, 39, 2565, 6, 367],\n",
              " [1, 82, 32, 2928, 180, 14914, 32, 321],\n",
              " [147, 7, 1, 27, 1877, 225, 4163, 601, 7, 267, 16, 14915],\n",
              " [1, 341, 14, 159, 16, 11727],\n",
              " [577, 9, 14, 906, 6, 9, 22, 14916, 11728, 2, 133, 7517],\n",
              " [36, 8, 42, 264, 7518],\n",
              " [77, 631, 9, 54, 6788, 142, 29, 3583, 287],\n",
              " [58, 11729],\n",
              " [186, 4646, 279],\n",
              " [3, 522, 2, 827, 21400, 121],\n",
              " [1, 934, 72, 59, 1501, 710, 32, 5308],\n",
              " [1, 3036, 81, 47, 14917, 1502, 94, 2815],\n",
              " [2566, 11730],\n",
              " [1, 19, 883, 226, 1934],\n",
              " [1, 606, 180, 96, 32, 4647],\n",
              " [2567, 20, 1935, 47, 1107, 1471, 21401],\n",
              " [418, 2118, 13, 3939, 61, 4964, 31, 9756],\n",
              " [11, 1232, 442, 21402, 893, 21403, 21404],\n",
              " [462, 1586, 11731],\n",
              " [1503, 91, 22, 6789, 2119],\n",
              " [182, 8, 78, 44, 15, 4, 460],\n",
              " [1, 21405, 474, 2428, 5689],\n",
              " [1693, 890, 44, 426],\n",
              " [1, 475, 4, 58, 2, 21406],\n",
              " [7, 67, 663, 14918],\n",
              " [2227, 15, 333, 317, 55, 1798, 9757, 11, 142, 5690],\n",
              " [5, 4648, 561, 93, 2, 1620, 4, 330, 282],\n",
              " [409, 5691, 2, 3940],\n",
              " [169, 15, 894, 102, 2019],\n",
              " [351, 18, 21407, 147, 401, 1504],\n",
              " [651, 4965, 286, 14919],\n",
              " [11, 1116, 6, 1, 259, 4164],\n",
              " [1314, 3153],\n",
              " [11, 6183, 273, 17, 4649],\n",
              " [307, 118, 1505, 687, 320],\n",
              " [54, 30, 375, 17, 3584, 91, 9731],\n",
              " [3, 1144, 491, 104],\n",
              " [176, 28, 560, 5, 3034, 1, 1835, 1233, 151, 31, 5, 368],\n",
              " [2353, 24, 1935],\n",
              " [5, 5692, 7519, 2, 21408, 9758, 715, 46, 1878, 390, 28, 4650, 2224],\n",
              " [41, 50, 72, 1189, 3274, 4966, 32, 272],\n",
              " [935, 194, 218, 4, 109],\n",
              " [1799, 1800, 18, 436],\n",
              " [4165, 11732, 21409, 2, 416, 39, 1162],\n",
              " [3275, 21410, 463, 6184, 101, 791, 91, 8442],\n",
              " [19, 754, 24, 56, 7, 2354],\n",
              " [1, 894, 102, 2019, 9759],\n",
              " [943, 3276, 14920],\n",
              " [7, 67, 1, 400, 1506, 1724],\n",
              " [92, 448, 9760, 2169, 5309],\n",
              " [185, 5, 21411, 193, 3, 71],\n",
              " [36, 8, 76, 15, 4, 204, 8, 1657, 68, 3417],\n",
              " [23, 263, 12, 1096, 319],\n",
              " [240, 316, 381, 9, 6790],\n",
              " [315, 1, 71, 185, 346, 38],\n",
              " [200, 12, 359, 87, 236, 1, 499, 33],\n",
              " [210, 112, 24, 24, 4155],\n",
              " [279, 21412, 24, 27, 2429, 173, 736, 7, 2069, 128],\n",
              " [1, 9761, 25, 1335, 2568],\n",
              " [290, 14921, 7520],\n",
              " [50, 1, 162, 2502, 32, 1027],\n",
              " [1, 270, 16, 2430],\n",
              " [1, 155, 220, 6, 15, 21413, 2070, 22, 6791],\n",
              " [164, 2631, 21414, 9762, 8443, 1, 2929, 94, 1978],\n",
              " [1, 49, 22, 148, 988, 7521, 6, 619, 3277],\n",
              " [65, 21415, 14922, 206, 21416],\n",
              " [133, 6792, 431, 21417],\n",
              " [949, 2170, 134],\n",
              " [1, 7522, 16, 56, 41, 13, 11733, 2283, 82],\n",
              " [3756, 63, 138, 1229],\n",
              " [38, 818, 100, 21418, 4967, 7523],\n",
              " [110, 334, 2719, 6, 97, 11, 7524],\n",
              " [602, 75, 302, 6793, 498],\n",
              " [65, 1658, 6, 11, 1232, 1177, 9763, 6, 6794],\n",
              " [13, 2071, 31, 1252, 14923, 11734],\n",
              " [3, 106, 8, 197, 4, 492, 2, 319, 3757, 31, 8444, 6795],\n",
              " [489, 85, 663, 5310],\n",
              " [1, 819, 9, 800, 9764, 2, 1836],\n",
              " [38, 239, 950],\n",
              " [3, 1448, 4, 1],\n",
              " [113, 8, 152, 1203, 13, 5, 2503, 1726],\n",
              " [33, 95, 131, 1762, 8445, 2, 11, 2072, 6, 1315, 2, 7525, 14924],\n",
              " [3, 48, 71, 111, 4, 294, 7526],\n",
              " [18, 27, 21419, 358, 11735],\n",
              " [34, 342, 828, 525],\n",
              " [48, 8, 78, 68, 454, 855],\n",
              " [7, 357, 444, 56, 1, 280, 7527, 21420],\n",
              " [5, 468, 2284, 1214, 217, 64, 217, 1659],\n",
              " [255, 2504, 2, 2355, 44, 8],\n",
              " [577, 9, 75, 14925, 21421, 4968],\n",
              " [100, 8, 3418, 158, 5, 1013, 12, 151, 31, 1936],\n",
              " [37, 6185, 14926],\n",
              " [369, 883, 599, 87, 807],\n",
              " [123, 21422, 257, 3278, 2120, 260, 21423],\n",
              " [7, 1117, 27, 398, 363],\n",
              " [105, 8, 66, 725],\n",
              " [1314, 22, 5311, 29, 344, 649, 10, 34, 1217],\n",
              " [65, 439, 3154],\n",
              " [1, 819, 9, 4365, 405],\n",
              " [1375, 11736, 5693, 7, 96, 16, 655, 2816, 32, 291],\n",
              " [3, 365, 114, 69, 4, 546, 5, 1058, 493, 87, 415],\n",
              " [500, 1190, 12, 6796, 168, 21424],\n",
              " [24, 9765, 13, 47, 4651],\n",
              " [74, 21425, 3419, 168, 1129, 23, 74, 12, 846],\n",
              " [29, 377, 1218, 334, 1879, 4366, 7528, 657, 115],\n",
              " [70, 82, 278, 2569, 88, 163, 7, 154, 3941, 341],\n",
              " [1336, 85, 27, 14927],\n",
              " [58, 537, 4, 371, 282],\n",
              " [115, 2, 1449, 555, 518, 510],\n",
              " [8446, 11737, 9766, 92, 283, 21426],\n",
              " [9767, 1047, 4367, 2, 6186, 951],\n",
              " [167, 48, 8, 1292, 64, 42, 2, 768, 66, 15],\n",
              " [13, 654, 18, 14928, 14929, 13, 14930, 136, 14931, 7529, 1279],\n",
              " [46, 1660, 658, 15, 38],\n",
              " [21427],\n",
              " [1, 270, 117, 345, 9768, 8447],\n",
              " [100, 8, 106, 31, 264, 359, 339, 4, 36, 38],\n",
              " [1, 1214, 120, 7530],\n",
              " [5, 565, 2020, 57, 12, 2356, 1801, 5, 510],\n",
              " [27, 14932, 101, 21428, 18, 37, 5694],\n",
              " [1, 6187, 72, 180, 305, 566],\n",
              " [1, 128, 16, 79, 1036, 6188, 88, 33],\n",
              " [395, 109, 4, 68, 1005],\n",
              " [7, 1619, 1, 67, 305, 566, 1396],\n",
              " [1, 1256, 94, 233, 47, 3155, 127, 7531],\n",
              " [1, 30, 55, 2431, 17, 6, 181, 1204],\n",
              " [10, 86, 721, 1376, 26, 6797],\n",
              " [123, 8448, 6, 11738, 2720, 21429, 92, 8448, 14933],\n",
              " [38, 382, 12, 69, 354, 217, 21430, 208, 217, 1507, 215, 23, 382],\n",
              " [1, 5695, 72, 231, 27, 21431, 8449, 81, 47, 3758],\n",
              " [116, 30, 1621, 17, 97, 6, 225],\n",
              " [1145, 8, 44, 69, 1377],\n",
              " [1, 1178, 402, 168, 46, 1727],\n",
              " [762, 495, 2, 883, 177, 454, 79, 1146],\n",
              " [37, 11739, 299, 14934, 272],\n",
              " [305, 3585, 14935, 162, 309, 2416],\n",
              " [54, 2073, 738, 223, 34, 21432, 17, 287, 138],\n",
              " [112, 24, 1, 27, 7532],\n",
              " [3, 42, 62, 1234, 11740],\n",
              " [227, 3031, 15],\n",
              " [3, 48, 571, 78, 727, 146],\n",
              " [1728, 21433, 678, 11741, 21434, 343, 102, 3156, 6, 14936, 6, 14937],\n",
              " [306, 483, 1397, 6, 805],\n",
              " [10, 15, 86, 5312, 11, 5688],\n",
              " [346, 5, 5696, 12, 46, 454],\n",
              " [1, 141, 260, 6189, 26, 286, 427],\n",
              " [63, 112, 2721, 523],\n",
              " [1622, 4368, 8450, 105, 644, 2021, 69, 1146, 166, 5, 7533, 7534],\n",
              " [3586, 1694, 516, 7, 16, 56, 24, 27, 8451, 548, 4354, 112],\n",
              " [194, 296, 1763, 8],\n",
              " [395, 936, 35, 610, 52, 100],\n",
              " [1, 90, 94, 4166, 1354, 233, 149, 11742],\n",
              " [190, 364, 8, 44, 5, 1532, 31, 46, 797],\n",
              " [37, 21435, 118, 11743],\n",
              " [405, 21, 302, 2, 7535, 198],\n",
              " [1, 15, 4969, 25, 990],\n",
              " [14, 118, 254, 14938, 81, 149, 2285],\n",
              " [7, 2022, 729, 16],\n",
              " [41, 18, 145, 16, 11744],\n",
              " [3, 42, 2632, 14939, 1622, 895, 53, 2023],\n",
              " [21436, 65, 6190],\n",
              " [37, 2930, 82, 32, 1235, 9769, 41, 24, 16, 6798, 601],\n",
              " [40, 155, 567, 26, 3759, 172, 65, 21437],\n",
              " [2722, 15, 333, 157, 43, 14, 467, 75, 14940],\n",
              " [190, 109, 168, 263],\n",
              " [3, 106, 52, 197, 217, 2432],\n",
              " [2, 1316, 14, 783, 708, 156, 6191, 11745],\n",
              " [41, 11746, 314, 8432, 149, 11747],\n",
              " [41, 1937, 88, 353, 14941],\n",
              " [15, 11748, 9, 21, 431, 443, 3760],\n",
              " [307, 18, 436, 11749],\n",
              " [16, 21438, 812, 1529, 159, 1219, 59, 3027],\n",
              " [33, 12, 150, 5313, 1205, 166, 60, 3761, 4369],\n",
              " [1, 19, 2712, 20, 318],\n",
              " [8, 137, 296, 152, 57, 8, 76],\n",
              " [98, 9, 1, 3262, 819, 431, 609, 2171, 156, 14942, 3157, 2, 800],\n",
              " [75, 21439],\n",
              " [10, 1802, 8439, 6, 34, 479, 97, 116],\n",
              " [1, 332, 289, 4, 896, 93, 158, 459, 126, 588],\n",
              " [3, 137, 538, 581, 2, 1086],\n",
              " [1,\n",
              "  1087,\n",
              "  33,\n",
              "  4,\n",
              "  558,\n",
              "  129,\n",
              "  1163,\n",
              "  74,\n",
              "  361,\n",
              "  114,\n",
              "  4,\n",
              "  492,\n",
              "  219,\n",
              "  3032,\n",
              "  53,\n",
              "  60,\n",
              "  339,\n",
              "  248,\n",
              "  166,\n",
              "  269],\n",
              " [21440, 80, 70, 1],\n",
              " [158, 3, 105, 8, 340, 3587, 35],\n",
              " [10, 30, 15, 784, 17, 6, 3037, 29, 1108, 1422],\n",
              " [7, 128, 96, 16, 2121, 56, 193, 70, 89, 696, 1880, 357],\n",
              " [1, 21441, 186, 4167, 81, 84, 5314],\n",
              " [57, 1, 113, 19, 120, 559],\n",
              " [27, 18, 89, 14943, 674],\n",
              " [12, 725, 761, 21442],\n",
              " [2, 4970, 6, 483, 3942, 431, 1147],\n",
              " [6192, 21, 21443],\n",
              " [40, 2, 1695, 6, 14944, 11, 801],\n",
              " [150, 269, 12, 9770, 9771, 2633],\n",
              " [39, 4971, 735, 14945, 39, 1162],\n",
              " [1, 568, 9, 819, 2931, 805],\n",
              " [7, 67, 1533, 154, 5697],\n",
              " [10, 86, 1623, 856, 1837, 5698, 1623, 91, 232, 6193],\n",
              " [28, 126, 60, 785, 204, 114, 66, 5, 11750],\n",
              " [57, 301, 12, 1, 816, 13, 53],\n",
              " [1, 644, 2, 1126, 3038, 44, 15],\n",
              " [28, 1423, 4, 60, 510],\n",
              " [2634, 1, 739, 65, 8452],\n",
              " [7, 67, 1, 242, 4972, 147, 21444, 82],\n",
              " [21, 918, 25, 643, 1587, 156, 767, 1472, 405],\n",
              " [21, 2228, 2, 585, 4370, 240, 75, 21445],\n",
              " [577, 9, 14, 688, 21, 9772],\n",
              " [1, 171, 197, 4, 652, 264, 1037],\n",
              " [9773, 1395, 139, 25, 9774, 9775, 1534, 4652, 968],\n",
              " [280, 1838, 117, 11751, 445, 7, 16],\n",
              " [1, 108, 829],\n",
              " [1, 12, 326, 53, 5, 5699],\n",
              " [1, 11752, 400, 16, 928],\n",
              " [65, 510, 6, 1, 206, 21446],\n",
              " [51, 273, 17, 91, 116, 9, 10, 86, 287],\n",
              " [74, 635, 21447],\n",
              " [7, 128, 1, 16, 591, 7536],\n",
              " [63, 887, 27, 672, 7, 136, 162, 3588],\n",
              " [3, 504, 2, 293, 31, 6799],\n",
              " [668, 442, 14946, 1803, 377, 21448, 101, 11753],\n",
              " [1293, 26, 39, 1048, 9776],\n",
              " [7, 311, 14, 16],\n",
              " [258, 3420, 2817, 4371],\n",
              " [103, 7537, 188, 95, 188, 1839],\n",
              " [3762, 73, 1185, 91, 11754, 181, 6800],\n",
              " [48, 604, 15],\n",
              " [1, 19, 6801, 4, 808, 23, 33, 126, 1275, 248, 7538],\n",
              " [5, 2229, 12, 3421],\n",
              " [2932, 75, 333, 51, 9, 10, 253],\n",
              " [420, 150, 252, 572],\n",
              " [51, 273, 331, 17, 5700],\n",
              " [1, 8453, 1236, 14947],\n",
              " [210, 7539, 20, 231, 5315, 9777],\n",
              " [3, 175, 120, 1450, 13, 2635],\n",
              " [14, 3763, 164, 1],\n",
              " [1, 21, 14948, 1881, 14, 25, 1355, 4973],\n",
              " [7, 67, 251, 32, 251, 1220],\n",
              " [1, 108, 919, 87, 104, 252, 1424],\n",
              " [1558, 4, 329, 74, 2818, 5316],\n",
              " [2722, 10, 75, 1217, 7540, 25, 5317, 29, 575],\n",
              " [3, 108, 294, 275, 4, 352],\n",
              " [3, 44, 165, 48, 484, 57, 74, 216],\n",
              " [7, 67, 267, 729, 238, 413, 2723, 1588, 389, 7, 128, 96, 16, 2121, 307],\n",
              " [1, 113, 268, 28, 108, 76, 33, 4, 71, 119],\n",
              " [95, 820, 721, 6, 1764, 91, 355],\n",
              " [14, 82, 14949, 117, 85, 79, 186, 32, 245],\n",
              " [138, 1508, 225, 893, 3937],\n",
              " [1, 2230, 72, 89, 9778, 6802],\n",
              " [3422, 11, 11755],\n",
              " [11756, 25, 451, 9, 34, 6803, 920],\n",
              " [21449, 154, 180, 857, 3423, 9779],\n",
              " [1, 409, 9780, 25, 2921, 2636, 1752, 6, 122, 607, 92, 6194, 968],\n",
              " [18, 838, 2819],\n",
              " [656, 21450, 26, 39, 11757],\n",
              " [28, 1087, 53, 11758, 9781, 4, 1692, 5, 8454],\n",
              " [615, 141, 11759, 8455],\n",
              " [240, 593, 92, 153, 1, 141, 1147],\n",
              " [38, 12, 120, 4653],\n",
              " [1938, 24, 56, 7, 349, 59, 990, 3943],\n",
              " [1130, 6, 14950],\n",
              " [3, 288, 52, 105, 53, 5, 594, 1727],\n",
              " [46, 8456, 12, 151, 31, 1936],\n",
              " [3039, 3589, 6793, 1127],\n",
              " [297, 464, 5318, 317, 1, 21451],\n",
              " [223, 65, 858, 3764, 107, 21452],\n",
              " [1, 50, 72, 278, 2637, 9782, 32, 2570],\n",
              " [5, 21453, 12, 13],\n",
              " [20, 247, 627, 21454],\n",
              " [46, 2284, 727, 746],\n",
              " [478, 21455],\n",
              " [8, 42, 4, 109, 653],\n",
              " [3, 106, 35, 19, 165, 31, 897, 969, 23, 2820, 150, 2024],\n",
              " [4654, 22, 21456],\n",
              " [2227, 15, 333, 157, 34, 342, 467, 34, 14940],\n",
              " [240, 2821, 2, 123, 9783],\n",
              " [153, 21457],\n",
              " [1, 1939, 175, 3158, 59, 9784, 2433, 21458],\n",
              " [323, 43, 472],\n",
              " [14, 18, 2724, 81, 149, 5319],\n",
              " [8457, 14951],\n",
              " [631, 9, 1, 431, 1088, 6, 470],\n",
              " [1, 391, 72, 37, 14952, 8458, 3424],\n",
              " [586, 24, 14, 4974, 16, 2725],\n",
              " [8459, 21, 952, 98, 9, 726],\n",
              " [124, 5, 706, 6773, 194, 520, 6804],\n",
              " [20, 247, 47, 21459],\n",
              " [46, 659, 21460, 46, 6195],\n",
              " [115, 2, 393, 22, 8460, 6, 4372, 157, 2933, 101, 11760],\n",
              " [52, 61, 8461, 4, 106, 23, 747, 1882, 5320],\n",
              " [14953, 85, 70],\n",
              " [10, 30, 22, 1840, 17, 107, 624, 34],\n",
              " [185, 5, 193, 194, 183, 648, 44],\n",
              " [3, 288, 23, 28, 182, 195],\n",
              " [1, 64, 33, 332, 21461],\n",
              " [35, 4373, 7541, 104, 246, 310],\n",
              " [223, 34, 11761, 107, 451, 3944, 6, 34],\n",
              " [161, 8462, 645, 21462],\n",
              " [377, 1979, 6, 2505, 464],\n",
              " [1, 671, 1237, 92, 153, 21, 22, 8463, 769, 11, 6196],\n",
              " [370, 3040, 24, 59, 2433, 1765],\n",
              " [283, 327, 14, 5682],\n",
              " [587, 24, 13, 6197, 977, 336, 1],\n",
              " [158, 2, 9785, 100, 36, 35, 2, 1200, 100, 36, 35],\n",
              " [2, 695, 66, 3945, 2020, 182, 196, 36, 38, 537, 31, 597],\n",
              " [1071, 75, 2231],\n",
              " [4374,\n",
              "  11762,\n",
              "  72,\n",
              "  37,\n",
              "  5321,\n",
              "  1317,\n",
              "  11762,\n",
              "  72,\n",
              "  37,\n",
              "  21463,\n",
              "  90,\n",
              "  4975,\n",
              "  11762,\n",
              "  72,\n",
              "  37,\n",
              "  3946],\n",
              " [10, 34, 722, 1696],\n",
              " [462, 15, 21464, 244, 673],\n",
              " [1, 1589, 146, 87, 1257],\n",
              " [40, 14954, 11, 21465, 6, 14955, 6198, 26, 25, 62],\n",
              " [607, 3947, 9, 1, 21, 290, 21466],\n",
              " [23, 1497, 165, 12, 989],\n",
              " [1, 5322, 2, 33, 2, 3765, 199, 419],\n",
              " [5, 2118, 61, 11763, 500, 1049],\n",
              " [7, 128, 16, 242, 136, 24, 1471],\n",
              " [378, 1687, 1280, 11764, 26, 283, 21467],\n",
              " [1318, 159, 582, 1097],\n",
              " [27, 18, 59, 3159, 136, 154],\n",
              " [229, 554, 4976, 89, 7542],\n",
              " [1, 171, 71, 176, 33, 83, 58, 125],\n",
              " [176, 3, 332, 4, 114, 28, 19, 2286, 208, 3, 3948, 114, 146],\n",
              " [15, 98, 11765, 92, 6805],\n",
              " [47, 1238, 21468, 37, 21469],\n",
              " [8464, 25, 7543],\n",
              " [38, 239, 2, 3590, 4168],\n",
              " [8, 426, 61, 3591],\n",
              " [405, 14, 25, 21470],\n",
              " [83, 1, 96, 446],\n",
              " [38, 2232, 1561],\n",
              " [23, 12, 6199],\n",
              " [36, 8, 71, 2, 177, 339, 4, 991, 319, 1652],\n",
              " [1, 5701, 60, 698, 219, 3592],\n",
              " [240, 1841, 98, 577],\n",
              " [35, 12, 165, 31, 5, 5323, 1424, 1075, 21471],\n",
              " [3949, 379],\n",
              " [30, 11766, 17, 6200],\n",
              " [307, 18, 14],\n",
              " [40, 14956, 130, 776, 29, 11, 535, 1218, 1509, 980],\n",
              " [3, 48, 3268, 68, 364],\n",
              " [10, 521, 11, 9786, 91, 4977],\n",
              " [1, 171, 76, 4, 109, 653],\n",
              " [1, 216, 28, 14957],\n",
              " [1, 64, 33, 61, 1729, 1451, 35],\n",
              " [506, 6, 4655, 95, 820, 132, 11, 1378],\n",
              " [46, 477, 5702, 38, 1804, 53, 5, 246, 3, 19, 1940],\n",
              " [465, 2, 4656, 23, 1, 83, 58, 493],\n",
              " [8, 137, 58, 87, 468, 4375, 87, 854],\n",
              " [28, 1980, 3950, 23, 28, 19, 559],\n",
              " [636, 11767],\n",
              " [4376, 6, 6201, 3766, 20, 4377],\n",
              " [38, 422, 196, 811, 428],\n",
              " [1, 12, 5, 354, 165, 3, 100, 1294],\n",
              " [1118, 1398, 14958, 436, 687, 16, 192, 280, 5703],\n",
              " [9, 4657, 9787, 97],\n",
              " [3, 175, 1129, 31, 144, 2571],\n",
              " [169, 292, 102, 3279, 9, 55, 4658, 33],\n",
              " [10, 256, 17, 7544, 178, 807, 817, 101, 2638],\n",
              " [95, 820, 25, 21472, 132, 22, 3280],\n",
              " [23, 2934, 14959, 8],\n",
              " [1, 50, 1504, 4378],\n",
              " [3, 703, 8, 711, 109],\n",
              " [3, 78, 4, 352, 2, 493, 1473],\n",
              " [1084, 157, 75, 21473, 11768, 107, 11769],\n",
              " [4379, 4380],\n",
              " [297, 748, 97, 73, 1510, 6, 21474],\n",
              " [37, 981, 6777, 70, 1295, 1697],\n",
              " [1, 635, 4, 2424],\n",
              " [156, 308, 609, 1088, 1688, 3425, 21475, 39, 609],\n",
              " [28, 859, 176, 28, 19, 14960, 404, 371],\n",
              " [10, 1281, 17, 334, 9788],\n",
              " [1, 128, 2570],\n",
              " [2720, 2, 4659, 39, 367, 1356],\n",
              " [777, 2494],\n",
              " [210, 11770, 27, 6806, 37, 1511],\n",
              " [15, 21476, 2, 308, 8465],\n",
              " [292, 102, 1535, 14961, 3951, 1624, 2726],\n",
              " [1296, 14962, 26, 133, 4978, 5704],\n",
              " [7, 128, 1319, 16, 1164, 56, 7, 9789, 270],\n",
              " [77, 5312, 25, 2122, 26, 11771, 11, 7524],\n",
              " [604, 15],\n",
              " [449, 598, 101, 2572, 6, 259, 7545],\n",
              " [356, 9, 1, 49, 2573, 6, 860],\n",
              " [1, 270, 530, 32, 21477, 11772],\n",
              " [33, 392, 56, 24, 96, 2287, 389, 7, 4660, 85, 16],\n",
              " [3, 703, 3767, 406, 15, 13, 5, 1258],\n",
              " [593, 9, 14, 260, 5705, 9, 6807, 2, 844, 1625, 21478, 656],\n",
              " [1, 2288, 148, 97, 4169],\n",
              " [1474, 248],\n",
              " [3, 218, 2, 418, 3952, 589],\n",
              " [1, 49, 25, 7546, 14963],\n",
              " [109, 214, 23, 4, 1],\n",
              " [1014, 34, 14964, 6, 535],\n",
              " [7, 9790, 96, 16, 79, 163, 136, 8466, 88, 20],\n",
              " [10, 30, 86, 17, 11, 6808],\n",
              " [417, 3275, 1357, 179, 148, 51, 9, 34, 1842, 9787, 97],\n",
              " [194, 230, 8, 421],\n",
              " [161, 1280, 2935, 14965],\n",
              " [471, 14, 127, 4661, 175, 437],\n",
              " [61, 8, 1234, 1035],\n",
              " [1, 445, 5706],\n",
              " [3593, 25, 451, 6, 2936],\n",
              " [77, 1191, 2427, 1116, 2, 21479, 25, 1024, 2357, 191, 501, 1883, 130, 1590],\n",
              " [40, 95, 2, 921, 1981, 34],\n",
              " [748, 473, 73, 1185, 172, 388],\n",
              " [60, 9791, 19, 7547, 64, 3160, 4979],\n",
              " [28,\n",
              "  1698,\n",
              "  119,\n",
              "  7548,\n",
              "  9792,\n",
              "  21480,\n",
              "  11773,\n",
              "  383,\n",
              "  2,\n",
              "  14966,\n",
              "  31,\n",
              "  715,\n",
              "  165,\n",
              "  64,\n",
              "  2,\n",
              "  1467,\n",
              "  404],\n",
              " [777, 3953, 6, 30, 8467, 271, 2727],\n",
              " [110, 647, 2222, 775, 1658],\n",
              " [3, 543, 8, 684, 23],\n",
              " [7, 1076, 11774, 1015, 81, 180, 84, 1730, 1077, 32, 2639],\n",
              " [88, 601, 41, 314, 6809, 56, 27, 14967, 341],\n",
              " [111, 113, 8, 458, 151, 237, 3, 538],\n",
              " [88, 778, 7, 154, 21481],\n",
              " [104, 21482, 61, 2233],\n",
              " [148, 22, 452, 1003, 73, 5707, 14968],\n",
              " [6202, 31, 282, 666, 500, 3281],\n",
              " [283, 14, 43, 2123, 3264, 6, 2172, 372, 139, 1],\n",
              " [1, 18, 231, 14969],\n",
              " [6, 506, 21483, 2358, 1512],\n",
              " [3, 11775, 1, 44, 2, 610],\n",
              " [237, 105, 8, 2025],\n",
              " [1, 5708, 93, 46, 5709],\n",
              " [305, 21484, 5710, 72, 9793, 117, 675],\n",
              " [1, 171, 42, 4, 652],\n",
              " [57, 42, 3, 2173, 187],\n",
              " [958, 14, 39, 427, 156, 656],\n",
              " [555, 1658, 21485, 344, 1206],\n",
              " [24, 6203, 72, 4381, 175, 637, 37, 3768],\n",
              " [364, 171, 7549, 2, 5711, 4369],\n",
              " [135, 71, 237, 1, 12],\n",
              " [1, 218, 146],\n",
              " [7, 601, 14, 16, 6204, 24, 8468],\n",
              " [1073, 24, 81, 32, 2074, 192, 24, 638, 494, 754],\n",
              " [9794, 54, 479],\n",
              " [143, 21486, 18, 398, 32, 8469],\n",
              " [20, 802, 627, 16, 2234, 7550],\n",
              " [4662, 265, 4170, 89, 21487, 8470],\n",
              " [3, 522, 8, 87, 5, 3282, 2937],\n",
              " [3, 524, 42, 9795, 38, 2356],\n",
              " [11, 839, 54, 2938],\n",
              " [15, 620, 2, 502],\n",
              " [659, 1589, 146, 21488, 13, 46, 803],\n",
              " [464, 4382, 22, 730],\n",
              " [41, 18, 2428, 81, 474, 8471, 117, 47, 4980, 117, 2235],\n",
              " [7, 140, 3594, 6205],\n",
              " [28, 8472, 60, 21489],\n",
              " [5, 2434, 126, 614, 11776, 176, 3, 3948, 146],\n",
              " [91, 334, 2728, 10, 75, 7551, 25, 2236],\n",
              " [52, 182, 2174, 4, 2, 4981, 368, 158, 52, 126, 217, 274],\n",
              " [1, 128, 96, 11777, 907, 476, 4982, 2639],\n",
              " [155, 773, 49, 26, 1731],\n",
              " [385, 30, 3769, 14970],\n",
              " [1,\n",
              "  99,\n",
              "  183,\n",
              "  346,\n",
              "  2,\n",
              "  883,\n",
              "  177,\n",
              "  454,\n",
              "  31,\n",
              "  21490,\n",
              "  5,\n",
              "  839,\n",
              "  208,\n",
              "  3161,\n",
              "  1720,\n",
              "  152,\n",
              "  1425],\n",
              " [1, 239, 7552],\n",
              " [48, 36, 35, 124, 1228, 64, 1982],\n",
              " [111, 36, 8, 78, 68, 2559, 495],\n",
              " [5, 301, 126, 614, 384, 176, 3, 1275, 87, 5, 1337],\n",
              " [7, 516, 1, 4383, 164, 159],\n",
              " [43, 1282, 93, 1426, 1059],\n",
              " [3162, 7, 299, 320, 123],\n",
              " [373, 455, 3426, 223, 21491, 442, 6206, 14971, 29, 130, 21492],\n",
              " [45, 69, 144, 4, 109, 5324, 8, 109],\n",
              " [51, 206, 65, 4983, 6, 1],\n",
              " [1562, 20, 322, 164, 149, 1976, 127, 944, 9796, 291],\n",
              " [1, 197, 69, 42, 1766],\n",
              " [124, 21, 1119, 23, 1, 171, 78, 33],\n",
              " [506, 6, 21493, 65, 21494, 2640, 6810, 21495],\n",
              " [5, 1025, 12, 6207],\n",
              " [52, 36, 76, 23, 48, 52],\n",
              " [2026, 3041, 6, 30, 17, 739, 25, 5712],\n",
              " [130, 21496, 261, 21497],\n",
              " [234, 14972, 22, 1792, 1626, 29, 4384],\n",
              " [60, 515, 468, 945, 105, 8473],\n",
              " [3, 137, 109, 289, 121, 64, 2641, 100, 8],\n",
              " [1, 1239, 1427, 610, 1103, 5, 3025],\n",
              " [1, 82, 16, 4663],\n",
              " [194, 1941, 1035],\n",
              " [5713, 96, 45, 3283, 145, 225],\n",
              " [223, 51, 3427, 8474, 17, 21498, 630, 21499],\n",
              " [526, 4984, 73, 681],\n",
              " [1, 55, 11778, 847, 39, 14973],\n",
              " [10, 86, 1006, 9, 1, 2, 241, 6208],\n",
              " [59, 358, 740, 225, 13, 47, 982, 4385, 7, 80, 149, 990, 309, 2027],\n",
              " [1, 7553, 60, 600, 972, 217, 215, 4386, 404, 833],\n",
              " [1843, 9, 14974, 49, 7554, 21500],\n",
              " [35, 1329, 4, 890, 2435, 64, 1882],\n",
              " [52, 936, 2, 293, 31, 677, 430, 246],\n",
              " [595, 7, 24, 225, 2175, 529],\n",
              " [63, 456, 19, 953, 18],\n",
              " [11779, 7555],\n",
              " [3, 152, 5714, 87, 895],\n",
              " [5, 454, 12, 69, 9797, 44, 905, 2118],\n",
              " [1, 1937, 27, 6811, 655, 21501],\n",
              " [478, 9798, 22, 525, 2506],\n",
              " [240, 374, 502, 139, 4957, 107, 14, 98, 9, 7556],\n",
              " [9799, 6, 34, 1089, 21502],\n",
              " [53, 3770, 9, 43, 174, 333, 335, 284],\n",
              " [5, 11780, 61, 21503, 166, 796, 438],\n",
              " [39, 1699, 141, 6, 9800],\n",
              " [7, 445, 429, 21504],\n",
              " [1, 64, 33, 42, 183, 746, 266, 404],\n",
              " [35, 6812, 4, 15, 23, 46, 917, 750, 58, 1563],\n",
              " [2642, 4985, 1090, 592],\n",
              " [1, 2574, 28, 108, 806],\n",
              " [5, 21505, 21506, 60, 339, 1338, 5, 603],\n",
              " [1, 21, 3042, 2729, 26, 327],\n",
              " [40, 2289, 17, 6, 228, 29, 14975, 29, 555, 1028],\n",
              " [1, 763, 369, 2075, 2, 293, 359, 337],\n",
              " [1, 2507, 59, 485, 13, 47, 5715],\n",
              " [1, 50, 180, 1050, 786, 2502],\n",
              " [8, 137, 4387, 282, 168, 500, 724],\n",
              " [63, 456, 19, 20, 530, 870, 621, 160],\n",
              " [45, 69, 144, 4, 21507, 8],\n",
              " [1, 171, 76, 4, 991, 236],\n",
              " [80, 1757, 160, 20, 1694],\n",
              " [378, 25, 2921, 1007, 21508, 4171, 6, 11, 2176],\n",
              " [110, 22, 2236, 9, 10, 174],\n",
              " [103, 21509, 6, 2436, 6, 14976],\n",
              " [20, 1495, 150, 21510, 1765, 8475, 886],\n",
              " [10, 253, 9, 54, 11781, 461, 6, 399, 6, 228],\n",
              " [3, 538, 13, 654],\n",
              " [21511, 100, 58, 14977],\n",
              " [110, 73, 9801, 14978],\n",
              " [150, 4986, 848, 3954, 3163, 18, 21512],\n",
              " [7, 6813, 353, 27, 440, 32, 112],\n",
              " [1, 2, 220, 191, 261, 1983, 497, 664, 25, 7557],\n",
              " [21513, 6, 211, 21514, 9802, 34, 26, 21515],\n",
              " [80, 476, 674, 67, 7, 16, 11782],\n",
              " [5, 1942, 12, 1700],\n",
              " [40, 501, 570, 3955, 497, 26, 6797, 40, 261, 213, 4172],\n",
              " [7, 516, 16, 56, 1, 1141, 18],\n",
              " [185, 2, 6814],\n",
              " [39, 3956, 1977, 11, 1240, 4173],\n",
              " [7, 140, 5325],\n",
              " [7, 128, 70, 27, 400, 16, 2437],\n",
              " [41, 14979, 59, 691, 45, 14980, 14981, 180, 89, 3284, 8476, 32, 8477],\n",
              " [160, 20, 4664, 350, 834, 32, 6209],\n",
              " [28, 230, 15, 23, 28, 182, 652, 3771, 3, 3428],\n",
              " [46, 510, 538, 1399, 5, 1078],\n",
              " [22, 2167, 11, 14982, 101, 8478, 6, 11, 4987],\n",
              " [3, 108, 2822, 5, 6210],\n",
              " [5, 1563, 4174, 12, 989],\n",
              " [10, 253, 9, 54, 2492, 2290, 25, 451, 142, 1098],\n",
              " [131, 755, 14, 1699],\n",
              " [103, 14, 21516],\n",
              " [3, 71, 8, 364, 15],\n",
              " [51, 273, 17, 721, 525, 91, 1],\n",
              " [1, 606, 72, 14983, 233],\n",
              " [2237, 481, 280, 948],\n",
              " [369, 2, 1558, 1943],\n",
              " [1, 1178, 13, 5, 790, 328, 1103, 2, 3595],\n",
              " [3, 48, 71, 275, 690],\n",
              " ...]"
            ]
          },
          "metadata": {},
          "execution_count": 23
        }
      ]
    },
    {
      "cell_type": "code",
      "source": [
        "from tensorflow.keras.utils import pad_sequences"
      ],
      "metadata": {
        "id": "dpqbrNXjiQZS"
      },
      "execution_count": 24,
      "outputs": []
    },
    {
      "cell_type": "markdown",
      "source": [
        "**Now padding the sequences**"
      ],
      "metadata": {
        "id": "PLLfXNnc0NWD"
      }
    },
    {
      "cell_type": "code",
      "source": [
        "padded=pad_sequences(input_sequences,maxlen=251,padding='pre')"
      ],
      "metadata": {
        "id": "aT289g5eip5l"
      },
      "execution_count": 25,
      "outputs": []
    },
    {
      "cell_type": "code",
      "source": [
        "padded"
      ],
      "metadata": {
        "colab": {
          "base_uri": "https://localhost:8080/"
        },
        "id": "VixaU7cRi5Wb",
        "outputId": "56bbf857-cd97-4b29-bf6d-792a9241b33d"
      },
      "execution_count": 26,
      "outputs": [
        {
          "output_type": "execute_result",
          "data": {
            "text/plain": [
              "array([[    0,     0,     0, ...,    92,   448, 21293],\n",
              "       [    0,     0,     0, ...,   348,   441,   269],\n",
              "       [    0,     0,     0, ...,    45,   150,  4625],\n",
              "       ...,\n",
              "       [    0,     0,     0, ..., 14561,    11,  4224],\n",
              "       [    0,     0,     0, ...,   888,     4,   546],\n",
              "       [    0,     0,     0, ...,    11,  2662,  1412]], dtype=int32)"
            ]
          },
          "metadata": {},
          "execution_count": 26
        }
      ]
    },
    {
      "cell_type": "code",
      "source": [
        "padded.shape"
      ],
      "metadata": {
        "colab": {
          "base_uri": "https://localhost:8080/"
        },
        "id": "GWRxTnNhi8g_",
        "outputId": "f318ba4d-d0d1-4a8c-8eca-6937833e81b0"
      },
      "execution_count": 27,
      "outputs": [
        {
          "output_type": "execute_result",
          "data": {
            "text/plain": [
              "(100000, 251)"
            ]
          },
          "metadata": {},
          "execution_count": 27
        }
      ]
    },
    {
      "cell_type": "code",
      "source": [
        "X=padded"
      ],
      "metadata": {
        "id": "tm8MDjXYjDCx"
      },
      "execution_count": 28,
      "outputs": []
    },
    {
      "cell_type": "code",
      "source": [
        "y"
      ],
      "metadata": {
        "colab": {
          "base_uri": "https://localhost:8080/",
          "height": 423
        },
        "id": "_vyiUiV8wKCx",
        "outputId": "cf735d4d-bb39-4d21-814c-838e939baa44"
      },
      "execution_count": 29,
      "outputs": [
        {
          "output_type": "execute_result",
          "data": {
            "text/plain": [
              "        english  french  german  spanish\n",
              "457756        0       0       0        1\n",
              "651922        1       0       0        0\n",
              "523264        1       0       0        0\n",
              "354856        0       1       0        0\n",
              "396819        0       0       0        1\n",
              "...         ...     ...     ...      ...\n",
              "756366        1       0       0        0\n",
              "421632        0       0       0        1\n",
              "417754        0       0       0        1\n",
              "570576        1       0       0        0\n",
              "305230        0       1       0        0\n",
              "\n",
              "[100000 rows x 4 columns]"
            ],
            "text/html": [
              "\n",
              "  <div id=\"df-7a0f6968-62a3-4654-b4e1-5d3f63c2e91f\" class=\"colab-df-container\">\n",
              "    <div>\n",
              "<style scoped>\n",
              "    .dataframe tbody tr th:only-of-type {\n",
              "        vertical-align: middle;\n",
              "    }\n",
              "\n",
              "    .dataframe tbody tr th {\n",
              "        vertical-align: top;\n",
              "    }\n",
              "\n",
              "    .dataframe thead th {\n",
              "        text-align: right;\n",
              "    }\n",
              "</style>\n",
              "<table border=\"1\" class=\"dataframe\">\n",
              "  <thead>\n",
              "    <tr style=\"text-align: right;\">\n",
              "      <th></th>\n",
              "      <th>english</th>\n",
              "      <th>french</th>\n",
              "      <th>german</th>\n",
              "      <th>spanish</th>\n",
              "    </tr>\n",
              "  </thead>\n",
              "  <tbody>\n",
              "    <tr>\n",
              "      <th>457756</th>\n",
              "      <td>0</td>\n",
              "      <td>0</td>\n",
              "      <td>0</td>\n",
              "      <td>1</td>\n",
              "    </tr>\n",
              "    <tr>\n",
              "      <th>651922</th>\n",
              "      <td>1</td>\n",
              "      <td>0</td>\n",
              "      <td>0</td>\n",
              "      <td>0</td>\n",
              "    </tr>\n",
              "    <tr>\n",
              "      <th>523264</th>\n",
              "      <td>1</td>\n",
              "      <td>0</td>\n",
              "      <td>0</td>\n",
              "      <td>0</td>\n",
              "    </tr>\n",
              "    <tr>\n",
              "      <th>354856</th>\n",
              "      <td>0</td>\n",
              "      <td>1</td>\n",
              "      <td>0</td>\n",
              "      <td>0</td>\n",
              "    </tr>\n",
              "    <tr>\n",
              "      <th>396819</th>\n",
              "      <td>0</td>\n",
              "      <td>0</td>\n",
              "      <td>0</td>\n",
              "      <td>1</td>\n",
              "    </tr>\n",
              "    <tr>\n",
              "      <th>...</th>\n",
              "      <td>...</td>\n",
              "      <td>...</td>\n",
              "      <td>...</td>\n",
              "      <td>...</td>\n",
              "    </tr>\n",
              "    <tr>\n",
              "      <th>756366</th>\n",
              "      <td>1</td>\n",
              "      <td>0</td>\n",
              "      <td>0</td>\n",
              "      <td>0</td>\n",
              "    </tr>\n",
              "    <tr>\n",
              "      <th>421632</th>\n",
              "      <td>0</td>\n",
              "      <td>0</td>\n",
              "      <td>0</td>\n",
              "      <td>1</td>\n",
              "    </tr>\n",
              "    <tr>\n",
              "      <th>417754</th>\n",
              "      <td>0</td>\n",
              "      <td>0</td>\n",
              "      <td>0</td>\n",
              "      <td>1</td>\n",
              "    </tr>\n",
              "    <tr>\n",
              "      <th>570576</th>\n",
              "      <td>1</td>\n",
              "      <td>0</td>\n",
              "      <td>0</td>\n",
              "      <td>0</td>\n",
              "    </tr>\n",
              "    <tr>\n",
              "      <th>305230</th>\n",
              "      <td>0</td>\n",
              "      <td>1</td>\n",
              "      <td>0</td>\n",
              "      <td>0</td>\n",
              "    </tr>\n",
              "  </tbody>\n",
              "</table>\n",
              "<p>100000 rows × 4 columns</p>\n",
              "</div>\n",
              "    <div class=\"colab-df-buttons\">\n",
              "\n",
              "  <div class=\"colab-df-container\">\n",
              "    <button class=\"colab-df-convert\" onclick=\"convertToInteractive('df-7a0f6968-62a3-4654-b4e1-5d3f63c2e91f')\"\n",
              "            title=\"Convert this dataframe to an interactive table.\"\n",
              "            style=\"display:none;\">\n",
              "\n",
              "  <svg xmlns=\"http://www.w3.org/2000/svg\" height=\"24px\" viewBox=\"0 -960 960 960\">\n",
              "    <path d=\"M120-120v-720h720v720H120Zm60-500h600v-160H180v160Zm220 220h160v-160H400v160Zm0 220h160v-160H400v160ZM180-400h160v-160H180v160Zm440 0h160v-160H620v160ZM180-180h160v-160H180v160Zm440 0h160v-160H620v160Z\"/>\n",
              "  </svg>\n",
              "    </button>\n",
              "\n",
              "  <style>\n",
              "    .colab-df-container {\n",
              "      display:flex;\n",
              "      gap: 12px;\n",
              "    }\n",
              "\n",
              "    .colab-df-convert {\n",
              "      background-color: #E8F0FE;\n",
              "      border: none;\n",
              "      border-radius: 50%;\n",
              "      cursor: pointer;\n",
              "      display: none;\n",
              "      fill: #1967D2;\n",
              "      height: 32px;\n",
              "      padding: 0 0 0 0;\n",
              "      width: 32px;\n",
              "    }\n",
              "\n",
              "    .colab-df-convert:hover {\n",
              "      background-color: #E2EBFA;\n",
              "      box-shadow: 0px 1px 2px rgba(60, 64, 67, 0.3), 0px 1px 3px 1px rgba(60, 64, 67, 0.15);\n",
              "      fill: #174EA6;\n",
              "    }\n",
              "\n",
              "    .colab-df-buttons div {\n",
              "      margin-bottom: 4px;\n",
              "    }\n",
              "\n",
              "    [theme=dark] .colab-df-convert {\n",
              "      background-color: #3B4455;\n",
              "      fill: #D2E3FC;\n",
              "    }\n",
              "\n",
              "    [theme=dark] .colab-df-convert:hover {\n",
              "      background-color: #434B5C;\n",
              "      box-shadow: 0px 1px 3px 1px rgba(0, 0, 0, 0.15);\n",
              "      filter: drop-shadow(0px 1px 2px rgba(0, 0, 0, 0.3));\n",
              "      fill: #FFFFFF;\n",
              "    }\n",
              "  </style>\n",
              "\n",
              "    <script>\n",
              "      const buttonEl =\n",
              "        document.querySelector('#df-7a0f6968-62a3-4654-b4e1-5d3f63c2e91f button.colab-df-convert');\n",
              "      buttonEl.style.display =\n",
              "        google.colab.kernel.accessAllowed ? 'block' : 'none';\n",
              "\n",
              "      async function convertToInteractive(key) {\n",
              "        const element = document.querySelector('#df-7a0f6968-62a3-4654-b4e1-5d3f63c2e91f');\n",
              "        const dataTable =\n",
              "          await google.colab.kernel.invokeFunction('convertToInteractive',\n",
              "                                                    [key], {});\n",
              "        if (!dataTable) return;\n",
              "\n",
              "        const docLinkHtml = 'Like what you see? Visit the ' +\n",
              "          '<a target=\"_blank\" href=https://colab.research.google.com/notebooks/data_table.ipynb>data table notebook</a>'\n",
              "          + ' to learn more about interactive tables.';\n",
              "        element.innerHTML = '';\n",
              "        dataTable['output_type'] = 'display_data';\n",
              "        await google.colab.output.renderOutput(dataTable, element);\n",
              "        const docLink = document.createElement('div');\n",
              "        docLink.innerHTML = docLinkHtml;\n",
              "        element.appendChild(docLink);\n",
              "      }\n",
              "    </script>\n",
              "  </div>\n",
              "\n",
              "\n",
              "<div id=\"df-dab8e719-824d-47ab-99b7-c75e604ef5e8\">\n",
              "  <button class=\"colab-df-quickchart\" onclick=\"quickchart('df-dab8e719-824d-47ab-99b7-c75e604ef5e8')\"\n",
              "            title=\"Suggest charts\"\n",
              "            style=\"display:none;\">\n",
              "\n",
              "<svg xmlns=\"http://www.w3.org/2000/svg\" height=\"24px\"viewBox=\"0 0 24 24\"\n",
              "     width=\"24px\">\n",
              "    <g>\n",
              "        <path d=\"M19 3H5c-1.1 0-2 .9-2 2v14c0 1.1.9 2 2 2h14c1.1 0 2-.9 2-2V5c0-1.1-.9-2-2-2zM9 17H7v-7h2v7zm4 0h-2V7h2v10zm4 0h-2v-4h2v4z\"/>\n",
              "    </g>\n",
              "</svg>\n",
              "  </button>\n",
              "\n",
              "<style>\n",
              "  .colab-df-quickchart {\n",
              "      --bg-color: #E8F0FE;\n",
              "      --fill-color: #1967D2;\n",
              "      --hover-bg-color: #E2EBFA;\n",
              "      --hover-fill-color: #174EA6;\n",
              "      --disabled-fill-color: #AAA;\n",
              "      --disabled-bg-color: #DDD;\n",
              "  }\n",
              "\n",
              "  [theme=dark] .colab-df-quickchart {\n",
              "      --bg-color: #3B4455;\n",
              "      --fill-color: #D2E3FC;\n",
              "      --hover-bg-color: #434B5C;\n",
              "      --hover-fill-color: #FFFFFF;\n",
              "      --disabled-bg-color: #3B4455;\n",
              "      --disabled-fill-color: #666;\n",
              "  }\n",
              "\n",
              "  .colab-df-quickchart {\n",
              "    background-color: var(--bg-color);\n",
              "    border: none;\n",
              "    border-radius: 50%;\n",
              "    cursor: pointer;\n",
              "    display: none;\n",
              "    fill: var(--fill-color);\n",
              "    height: 32px;\n",
              "    padding: 0;\n",
              "    width: 32px;\n",
              "  }\n",
              "\n",
              "  .colab-df-quickchart:hover {\n",
              "    background-color: var(--hover-bg-color);\n",
              "    box-shadow: 0 1px 2px rgba(60, 64, 67, 0.3), 0 1px 3px 1px rgba(60, 64, 67, 0.15);\n",
              "    fill: var(--button-hover-fill-color);\n",
              "  }\n",
              "\n",
              "  .colab-df-quickchart-complete:disabled,\n",
              "  .colab-df-quickchart-complete:disabled:hover {\n",
              "    background-color: var(--disabled-bg-color);\n",
              "    fill: var(--disabled-fill-color);\n",
              "    box-shadow: none;\n",
              "  }\n",
              "\n",
              "  .colab-df-spinner {\n",
              "    border: 2px solid var(--fill-color);\n",
              "    border-color: transparent;\n",
              "    border-bottom-color: var(--fill-color);\n",
              "    animation:\n",
              "      spin 1s steps(1) infinite;\n",
              "  }\n",
              "\n",
              "  @keyframes spin {\n",
              "    0% {\n",
              "      border-color: transparent;\n",
              "      border-bottom-color: var(--fill-color);\n",
              "      border-left-color: var(--fill-color);\n",
              "    }\n",
              "    20% {\n",
              "      border-color: transparent;\n",
              "      border-left-color: var(--fill-color);\n",
              "      border-top-color: var(--fill-color);\n",
              "    }\n",
              "    30% {\n",
              "      border-color: transparent;\n",
              "      border-left-color: var(--fill-color);\n",
              "      border-top-color: var(--fill-color);\n",
              "      border-right-color: var(--fill-color);\n",
              "    }\n",
              "    40% {\n",
              "      border-color: transparent;\n",
              "      border-right-color: var(--fill-color);\n",
              "      border-top-color: var(--fill-color);\n",
              "    }\n",
              "    60% {\n",
              "      border-color: transparent;\n",
              "      border-right-color: var(--fill-color);\n",
              "    }\n",
              "    80% {\n",
              "      border-color: transparent;\n",
              "      border-right-color: var(--fill-color);\n",
              "      border-bottom-color: var(--fill-color);\n",
              "    }\n",
              "    90% {\n",
              "      border-color: transparent;\n",
              "      border-bottom-color: var(--fill-color);\n",
              "    }\n",
              "  }\n",
              "</style>\n",
              "\n",
              "  <script>\n",
              "    async function quickchart(key) {\n",
              "      const quickchartButtonEl =\n",
              "        document.querySelector('#' + key + ' button');\n",
              "      quickchartButtonEl.disabled = true;  // To prevent multiple clicks.\n",
              "      quickchartButtonEl.classList.add('colab-df-spinner');\n",
              "      try {\n",
              "        const charts = await google.colab.kernel.invokeFunction(\n",
              "            'suggestCharts', [key], {});\n",
              "      } catch (error) {\n",
              "        console.error('Error during call to suggestCharts:', error);\n",
              "      }\n",
              "      quickchartButtonEl.classList.remove('colab-df-spinner');\n",
              "      quickchartButtonEl.classList.add('colab-df-quickchart-complete');\n",
              "    }\n",
              "    (() => {\n",
              "      let quickchartButtonEl =\n",
              "        document.querySelector('#df-dab8e719-824d-47ab-99b7-c75e604ef5e8 button');\n",
              "      quickchartButtonEl.style.display =\n",
              "        google.colab.kernel.accessAllowed ? 'block' : 'none';\n",
              "    })();\n",
              "  </script>\n",
              "</div>\n",
              "\n",
              "  <div id=\"id_f83e47a1-e27d-4ac7-ad9e-5c8349070443\">\n",
              "    <style>\n",
              "      .colab-df-generate {\n",
              "        background-color: #E8F0FE;\n",
              "        border: none;\n",
              "        border-radius: 50%;\n",
              "        cursor: pointer;\n",
              "        display: none;\n",
              "        fill: #1967D2;\n",
              "        height: 32px;\n",
              "        padding: 0 0 0 0;\n",
              "        width: 32px;\n",
              "      }\n",
              "\n",
              "      .colab-df-generate:hover {\n",
              "        background-color: #E2EBFA;\n",
              "        box-shadow: 0px 1px 2px rgba(60, 64, 67, 0.3), 0px 1px 3px 1px rgba(60, 64, 67, 0.15);\n",
              "        fill: #174EA6;\n",
              "      }\n",
              "\n",
              "      [theme=dark] .colab-df-generate {\n",
              "        background-color: #3B4455;\n",
              "        fill: #D2E3FC;\n",
              "      }\n",
              "\n",
              "      [theme=dark] .colab-df-generate:hover {\n",
              "        background-color: #434B5C;\n",
              "        box-shadow: 0px 1px 3px 1px rgba(0, 0, 0, 0.15);\n",
              "        filter: drop-shadow(0px 1px 2px rgba(0, 0, 0, 0.3));\n",
              "        fill: #FFFFFF;\n",
              "      }\n",
              "    </style>\n",
              "    <button class=\"colab-df-generate\" onclick=\"generateWithVariable('y')\"\n",
              "            title=\"Generate code using this dataframe.\"\n",
              "            style=\"display:none;\">\n",
              "\n",
              "  <svg xmlns=\"http://www.w3.org/2000/svg\" height=\"24px\"viewBox=\"0 0 24 24\"\n",
              "       width=\"24px\">\n",
              "    <path d=\"M7,19H8.4L18.45,9,17,7.55,7,17.6ZM5,21V16.75L18.45,3.32a2,2,0,0,1,2.83,0l1.4,1.43a1.91,1.91,0,0,1,.58,1.4,1.91,1.91,0,0,1-.58,1.4L9.25,21ZM18.45,9,17,7.55Zm-12,3A5.31,5.31,0,0,0,4.9,8.1,5.31,5.31,0,0,0,1,6.5,5.31,5.31,0,0,0,4.9,4.9,5.31,5.31,0,0,0,6.5,1,5.31,5.31,0,0,0,8.1,4.9,5.31,5.31,0,0,0,12,6.5,5.46,5.46,0,0,0,6.5,12Z\"/>\n",
              "  </svg>\n",
              "    </button>\n",
              "    <script>\n",
              "      (() => {\n",
              "      const buttonEl =\n",
              "        document.querySelector('#id_f83e47a1-e27d-4ac7-ad9e-5c8349070443 button.colab-df-generate');\n",
              "      buttonEl.style.display =\n",
              "        google.colab.kernel.accessAllowed ? 'block' : 'none';\n",
              "\n",
              "      buttonEl.onclick = () => {\n",
              "        google.colab.notebook.generateWithVariable('y');\n",
              "      }\n",
              "      })();\n",
              "    </script>\n",
              "  </div>\n",
              "\n",
              "    </div>\n",
              "  </div>\n"
            ]
          },
          "metadata": {},
          "execution_count": 29
        }
      ]
    },
    {
      "cell_type": "code",
      "source": [
        "from sklearn.model_selection import train_test_split"
      ],
      "metadata": {
        "id": "_-ds64IwjRbI"
      },
      "execution_count": 30,
      "outputs": []
    },
    {
      "cell_type": "markdown",
      "source": [
        "**Splitting data into train and test data**"
      ],
      "metadata": {
        "id": "ud8JvJav0TeX"
      }
    },
    {
      "cell_type": "code",
      "source": [
        "X_train,X_test,y_train,y_test=train_test_split(X,y,test_size=0.25,random_state=42)"
      ],
      "metadata": {
        "id": "D_eLO0amjbXZ"
      },
      "execution_count": 31,
      "outputs": []
    },
    {
      "cell_type": "code",
      "source": [
        "X_train.shape,X_test.shape"
      ],
      "metadata": {
        "colab": {
          "base_uri": "https://localhost:8080/"
        },
        "id": "zXVDi4qejmSI",
        "outputId": "a2d6d256-c60c-4148-b19f-69521c4a0e15"
      },
      "execution_count": 32,
      "outputs": [
        {
          "output_type": "execute_result",
          "data": {
            "text/plain": [
              "((75000, 251), (25000, 251))"
            ]
          },
          "metadata": {},
          "execution_count": 32
        }
      ]
    },
    {
      "cell_type": "code",
      "source": [
        "from tensorflow.keras import models, layers"
      ],
      "metadata": {
        "id": "l53psDG5jqOY"
      },
      "execution_count": 33,
      "outputs": []
    },
    {
      "cell_type": "markdown",
      "source": [
        "**Making a LSTM model**"
      ],
      "metadata": {
        "id": "CsDces5E0adC"
      }
    },
    {
      "cell_type": "code",
      "source": [
        "model=models.Sequential()\n",
        "model.add(layers.Embedding(43094,100,input_length=251))\n",
        "model.add(layers.LSTM(150))\n",
        "model.add(layers.Dense(4,activation='softmax'))\n",
        "model.compile(optimizer='adam',loss='categorical_crossentropy',metrics=['accuracy'])"
      ],
      "metadata": {
        "id": "fd5F7Sixjw96"
      },
      "execution_count": 34,
      "outputs": []
    },
    {
      "cell_type": "code",
      "source": [
        "model.summary()"
      ],
      "metadata": {
        "colab": {
          "base_uri": "https://localhost:8080/"
        },
        "id": "Le1oT26Akp_3",
        "outputId": "75f8d9c9-5054-484a-c6a7-1ec2ffd4b23c"
      },
      "execution_count": 35,
      "outputs": [
        {
          "output_type": "stream",
          "name": "stdout",
          "text": [
            "Model: \"sequential\"\n",
            "_________________________________________________________________\n",
            " Layer (type)                Output Shape              Param #   \n",
            "=================================================================\n",
            " embedding (Embedding)       (None, 251, 100)          4309400   \n",
            "                                                                 \n",
            " lstm (LSTM)                 (None, 150)               150600    \n",
            "                                                                 \n",
            " dense (Dense)               (None, 4)                 604       \n",
            "                                                                 \n",
            "=================================================================\n",
            "Total params: 4460604 (17.02 MB)\n",
            "Trainable params: 4460604 (17.02 MB)\n",
            "Non-trainable params: 0 (0.00 Byte)\n",
            "_________________________________________________________________\n"
          ]
        }
      ]
    },
    {
      "cell_type": "markdown",
      "source": [
        "**Fitting the training data in our LSTM model**"
      ],
      "metadata": {
        "id": "IizajcYB0fS2"
      }
    },
    {
      "cell_type": "code",
      "source": [
        "model.fit(X_train,y_train,epochs=2,validation_split=0.1)"
      ],
      "metadata": {
        "colab": {
          "base_uri": "https://localhost:8080/"
        },
        "id": "EBZ_IpL9ksCt",
        "outputId": "44fbb70f-3a06-4209-cfcd-e0506b10d801"
      },
      "execution_count": 36,
      "outputs": [
        {
          "output_type": "stream",
          "name": "stdout",
          "text": [
            "Epoch 1/2\n",
            "2110/2110 [==============================] - 46s 20ms/step - loss: 0.0995 - accuracy: 0.9710 - val_loss: 0.0099 - val_accuracy: 0.9967\n",
            "Epoch 2/2\n",
            "2110/2110 [==============================] - 31s 15ms/step - loss: 0.0027 - accuracy: 0.9995 - val_loss: 0.0082 - val_accuracy: 0.9963\n"
          ]
        },
        {
          "output_type": "execute_result",
          "data": {
            "text/plain": [
              "<keras.src.callbacks.History at 0x7ce6a50a3eb0>"
            ]
          },
          "metadata": {},
          "execution_count": 36
        }
      ]
    },
    {
      "cell_type": "markdown",
      "source": [
        "**Evaluating testing data using our model**"
      ],
      "metadata": {
        "id": "t8iLGUdy0mae"
      }
    },
    {
      "cell_type": "code",
      "source": [
        "loss,accuracy=model.evaluate(X_test,y_test)"
      ],
      "metadata": {
        "colab": {
          "base_uri": "https://localhost:8080/"
        },
        "id": "IJk-vErok43z",
        "outputId": "a837727f-41e0-4977-fc10-6405add728be"
      },
      "execution_count": 49,
      "outputs": [
        {
          "output_type": "stream",
          "name": "stdout",
          "text": [
            "782/782 [==============================] - 6s 7ms/step - loss: 0.0097 - accuracy: 0.9966\n"
          ]
        }
      ]
    },
    {
      "cell_type": "markdown",
      "source": [
        "**Accuracy of test data**"
      ],
      "metadata": {
        "id": "z3o0uRHWPr_0"
      }
    },
    {
      "cell_type": "code",
      "source": [
        "accuracy"
      ],
      "metadata": {
        "colab": {
          "base_uri": "https://localhost:8080/"
        },
        "id": "uY6ssUvzPraX",
        "outputId": "4307b12b-2e7d-428d-b374-e49503af4743"
      },
      "execution_count": 50,
      "outputs": [
        {
          "output_type": "execute_result",
          "data": {
            "text/plain": [
              "0.9965999722480774"
            ]
          },
          "metadata": {},
          "execution_count": 50
        }
      ]
    },
    {
      "cell_type": "markdown",
      "source": [
        "We got -\n",
        "* Training data accuracy - 99.97%\n",
        "* Validation data accuracy - 99.63%\n",
        "* Testing data accuracy - 99.65%"
      ],
      "metadata": {
        "id": "fQTU8-q62M5U"
      }
    },
    {
      "cell_type": "markdown",
      "source": [
        "**Now exporting the model and tokenizer**"
      ],
      "metadata": {
        "id": "seiXuH9YO7Bg"
      }
    },
    {
      "cell_type": "code",
      "source": [
        "import pickle"
      ],
      "metadata": {
        "id": "kxoVXrPNO6Wr"
      },
      "execution_count": 46,
      "outputs": []
    },
    {
      "cell_type": "code",
      "source": [
        "pickle.dump(model,open('language_model.pkl','wb'))"
      ],
      "metadata": {
        "id": "jzbaWk1YPH65"
      },
      "execution_count": 47,
      "outputs": []
    },
    {
      "cell_type": "code",
      "source": [
        "pickle.dump(tokenizer,open('lang_tokenizer.pkl','wb'))"
      ],
      "metadata": {
        "id": "AdkFtlybPHxQ"
      },
      "execution_count": 48,
      "outputs": []
    },
    {
      "cell_type": "markdown",
      "source": [
        "**Now testing the model with random texts**"
      ],
      "metadata": {
        "id": "KhFBjkj70sUP"
      }
    },
    {
      "cell_type": "code",
      "source": [
        "text=\"hey how are you\"\n",
        "sequence=tokenizer.texts_to_sequences([text])[0]\n",
        "pad=pad_sequences([sequence],maxlen=251,padding='pre')\n",
        "pred=model.predict(pad)\n",
        "print(pred)\n",
        "pred=np.argmax(pred)\n",
        "y.columns[pred]"
      ],
      "metadata": {
        "colab": {
          "base_uri": "https://localhost:8080/",
          "height": 70
        },
        "id": "zFOGnJxTtbHc",
        "outputId": "1b5bc69c-a2c1-44e0-a26f-8203520b753f"
      },
      "execution_count": 38,
      "outputs": [
        {
          "output_type": "stream",
          "name": "stdout",
          "text": [
            "1/1 [==============================] - 0s 405ms/step\n",
            "[[1.0000000e+00 4.5087944e-10 1.7999489e-09 2.0819265e-11]]\n"
          ]
        },
        {
          "output_type": "execute_result",
          "data": {
            "text/plain": [
              "'english'"
            ],
            "application/vnd.google.colaboratory.intrinsic+json": {
              "type": "string"
            }
          },
          "metadata": {},
          "execution_count": 38
        }
      ]
    },
    {
      "cell_type": "code",
      "source": [
        "text=\"hey wie geht es dir\"\n",
        "sequence=tokenizer.texts_to_sequences([text])[0]\n",
        "pad=pad_sequences([sequence],maxlen=251,padding='pre')\n",
        "pred=model.predict(pad)\n",
        "print(pred)\n",
        "pred=np.argmax(pred)\n",
        "y.columns[pred]"
      ],
      "metadata": {
        "colab": {
          "base_uri": "https://localhost:8080/",
          "height": 70
        },
        "id": "W_8WC127vKoD",
        "outputId": "00441975-5757-442d-bed5-8ea88a687bdc"
      },
      "execution_count": 39,
      "outputs": [
        {
          "output_type": "stream",
          "name": "stdout",
          "text": [
            "1/1 [==============================] - 0s 20ms/step\n",
            "[[1.3627700e-07 2.1866445e-07 9.9999928e-01 3.9904080e-07]]\n"
          ]
        },
        {
          "output_type": "execute_result",
          "data": {
            "text/plain": [
              "'german'"
            ],
            "application/vnd.google.colaboratory.intrinsic+json": {
              "type": "string"
            }
          },
          "metadata": {},
          "execution_count": 39
        }
      ]
    },
    {
      "cell_type": "code",
      "source": [
        "text=\"hola qué tal\"\n",
        "sequence=tokenizer.texts_to_sequences([text])[0]\n",
        "pad=pad_sequences([sequence],maxlen=251,padding='pre')\n",
        "pred=model.predict(pad)\n",
        "print(pred)\n",
        "pred=np.argmax(pred)\n",
        "y.columns[pred]"
      ],
      "metadata": {
        "colab": {
          "base_uri": "https://localhost:8080/",
          "height": 70
        },
        "id": "l2Zg9uWlwjG7",
        "outputId": "1e4a125a-a4b8-45dd-b20c-97b4137ad09e"
      },
      "execution_count": 40,
      "outputs": [
        {
          "output_type": "stream",
          "name": "stdout",
          "text": [
            "1/1 [==============================] - 0s 29ms/step\n",
            "[[4.9582006e-08 2.1591487e-07 4.1147774e-07 9.9999940e-01]]\n"
          ]
        },
        {
          "output_type": "execute_result",
          "data": {
            "text/plain": [
              "'spanish'"
            ],
            "application/vnd.google.colaboratory.intrinsic+json": {
              "type": "string"
            }
          },
          "metadata": {},
          "execution_count": 40
        }
      ]
    },
    {
      "cell_type": "code",
      "source": [
        "text=\"hey comment allez-vous\"\n",
        "sequence=tokenizer.texts_to_sequences([text])[0]\n",
        "pad=pad_sequences([sequence],maxlen=251,padding='pre')\n",
        "pred=model.predict(pad)\n",
        "print(pred)\n",
        "pred=np.argmax(pred)\n",
        "y.columns[pred]"
      ],
      "metadata": {
        "colab": {
          "base_uri": "https://localhost:8080/",
          "height": 70
        },
        "id": "Qp8z3hodw5U4",
        "outputId": "683ce66d-b03e-4059-9b53-93211dc54053"
      },
      "execution_count": 41,
      "outputs": [
        {
          "output_type": "stream",
          "name": "stdout",
          "text": [
            "1/1 [==============================] - 0s 27ms/step\n",
            "[[1.5122242e-07 9.9999940e-01 3.7872346e-07 1.1265216e-07]]\n"
          ]
        },
        {
          "output_type": "execute_result",
          "data": {
            "text/plain": [
              "'french'"
            ],
            "application/vnd.google.colaboratory.intrinsic+json": {
              "type": "string"
            }
          },
          "metadata": {},
          "execution_count": 41
        }
      ]
    },
    {
      "cell_type": "code",
      "source": [
        "text=\"ravi de vous rencontrer\"\n",
        "sequence=tokenizer.texts_to_sequences([text])[0]\n",
        "pad=pad_sequences([sequence],maxlen=251,padding='pre')\n",
        "pred=model.predict(pad)\n",
        "print(pred)\n",
        "pred=np.argmax(pred)\n",
        "y.columns[pred]"
      ],
      "metadata": {
        "colab": {
          "base_uri": "https://localhost:8080/",
          "height": 70
        },
        "id": "XhspN1okxFS1",
        "outputId": "e2b74f26-997b-459c-db6c-42095c117587"
      },
      "execution_count": 42,
      "outputs": [
        {
          "output_type": "stream",
          "name": "stdout",
          "text": [
            "1/1 [==============================] - 0s 30ms/step\n",
            "[[1.8963352e-07 9.9999690e-01 5.9182287e-07 2.2399236e-06]]\n"
          ]
        },
        {
          "output_type": "execute_result",
          "data": {
            "text/plain": [
              "'french'"
            ],
            "application/vnd.google.colaboratory.intrinsic+json": {
              "type": "string"
            }
          },
          "metadata": {},
          "execution_count": 42
        }
      ]
    },
    {
      "cell_type": "code",
      "source": [
        "text=\"nice to meet you\"\n",
        "sequence=tokenizer.texts_to_sequences([text])[0]\n",
        "pad=pad_sequences([sequence],maxlen=251,padding='pre')\n",
        "pred=model.predict(pad)\n",
        "print(pred)\n",
        "pred=np.argmax(pred)\n",
        "y.columns[pred]"
      ],
      "metadata": {
        "colab": {
          "base_uri": "https://localhost:8080/",
          "height": 70
        },
        "id": "XsU8PE1uxqqU",
        "outputId": "4e70079f-ea29-4fc9-e46f-0b7b315addd4"
      },
      "execution_count": 43,
      "outputs": [
        {
          "output_type": "stream",
          "name": "stdout",
          "text": [
            "1/1 [==============================] - 0s 32ms/step\n",
            "[[1.0000000e+00 2.9004510e-09 6.2102172e-09 1.2937737e-10]]\n"
          ]
        },
        {
          "output_type": "execute_result",
          "data": {
            "text/plain": [
              "'english'"
            ],
            "application/vnd.google.colaboratory.intrinsic+json": {
              "type": "string"
            }
          },
          "metadata": {},
          "execution_count": 43
        }
      ]
    },
    {
      "cell_type": "code",
      "source": [
        "text=\"encantada de conocerte\"\n",
        "sequence=tokenizer.texts_to_sequences([text])[0]\n",
        "pad=pad_sequences([sequence],maxlen=251,padding='pre')\n",
        "pred=model.predict(pad)\n",
        "print(pred)\n",
        "pred=np.argmax(pred)\n",
        "y.columns[pred]"
      ],
      "metadata": {
        "colab": {
          "base_uri": "https://localhost:8080/",
          "height": 70
        },
        "id": "183PEmwLyAtc",
        "outputId": "623c20eb-fef6-4896-d4cc-ecea4bc8d0f2"
      },
      "execution_count": 44,
      "outputs": [
        {
          "output_type": "stream",
          "name": "stdout",
          "text": [
            "1/1 [==============================] - 0s 21ms/step\n",
            "[[2.3195335e-04 7.5105749e-02 1.2954951e-03 9.2336690e-01]]\n"
          ]
        },
        {
          "output_type": "execute_result",
          "data": {
            "text/plain": [
              "'spanish'"
            ],
            "application/vnd.google.colaboratory.intrinsic+json": {
              "type": "string"
            }
          },
          "metadata": {},
          "execution_count": 44
        }
      ]
    },
    {
      "cell_type": "code",
      "source": [
        "text=\"schön dich kennenzulernen\"\n",
        "sequence=tokenizer.texts_to_sequences([text])[0]\n",
        "pad=pad_sequences([sequence],maxlen=251,padding='pre')\n",
        "pred=model.predict(pad)\n",
        "print(pred)\n",
        "pred=np.argmax(pred)\n",
        "y.columns[pred]"
      ],
      "metadata": {
        "colab": {
          "base_uri": "https://localhost:8080/",
          "height": 70
        },
        "id": "c7mgE_O7yGS2",
        "outputId": "79117405-5bfc-43ef-bb22-c6e1728d2f0b"
      },
      "execution_count": 45,
      "outputs": [
        {
          "output_type": "stream",
          "name": "stdout",
          "text": [
            "1/1 [==============================] - 0s 20ms/step\n",
            "[[1.6583881e-05 2.1212945e-05 9.9993098e-01 3.1266918e-05]]\n"
          ]
        },
        {
          "output_type": "execute_result",
          "data": {
            "text/plain": [
              "'german'"
            ],
            "application/vnd.google.colaboratory.intrinsic+json": {
              "type": "string"
            }
          },
          "metadata": {},
          "execution_count": 45
        }
      ]
    }
  ]
}