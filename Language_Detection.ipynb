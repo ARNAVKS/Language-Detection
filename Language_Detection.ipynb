{
  "nbformat": 4,
  "nbformat_minor": 0,
  "metadata": {
    "colab": {
      "provenance": [],
      "gpuType": "T4",
      "authorship_tag": "ABX9TyOWkxFBH1/Nyk98a1LBIdu+"
    },
    "kernelspec": {
      "name": "python3",
      "display_name": "Python 3"
    },
    "language_info": {
      "name": "python"
    },
    "accelerator": "GPU"
  },
  "cells": [
    {
      "cell_type": "markdown",
      "source": [
        "**Data Acquisition in form of zip file through Kaggle**"
      ],
      "metadata": {
        "id": "02mpHBPoyzui"
      }
    },
    {
      "cell_type": "code",
      "source": [
        "!mkdir -p ~/.kaggle\n",
        "!cp kaggle.json ~/.kaggle/\n",
        "!chmod 600 ~/.kaggle/kaggle.json"
      ],
      "metadata": {
        "id": "pgA7z6KNbOWg"
      },
      "execution_count": 226,
      "outputs": []
    },
    {
      "cell_type": "code",
      "execution_count": 227,
      "metadata": {
        "colab": {
          "base_uri": "https://localhost:8080/"
        },
        "id": "FwGGomQ4bNSZ",
        "outputId": "bef338cc-41e2-400c-b94a-f4b81223a389"
      },
      "outputs": [
        {
          "output_type": "stream",
          "name": "stdout",
          "text": [
            "language-detection-dataset.zip: Skipping, found more recently modified local copy (use --force to force download)\n"
          ]
        }
      ],
      "source": [
        "!kaggle datasets download -d ishantjuyal/language-detection-dataset"
      ]
    },
    {
      "cell_type": "markdown",
      "source": [
        "**Extracting the zip file**"
      ],
      "metadata": {
        "id": "7NrJS8SqzBZr"
      }
    },
    {
      "cell_type": "code",
      "source": [
        "from zipfile import ZipFile\n",
        "dataset = '/content/language-detection-dataset.zip'\n",
        "\n",
        "with ZipFile(dataset,'r') as zip:\n",
        "  zip.extractall()\n",
        "  print('Extracted')"
      ],
      "metadata": {
        "colab": {
          "base_uri": "https://localhost:8080/"
        },
        "id": "AhQ3-KZ_bX8o",
        "outputId": "dd9100c1-3641-4380-d0cb-fab1bc3d828b"
      },
      "execution_count": 228,
      "outputs": [
        {
          "output_type": "stream",
          "name": "stdout",
          "text": [
            "Extracted\n"
          ]
        }
      ]
    },
    {
      "cell_type": "code",
      "source": [
        "import pandas as pd"
      ],
      "metadata": {
        "id": "sn3DoNw3bdcl"
      },
      "execution_count": 229,
      "outputs": []
    },
    {
      "cell_type": "code",
      "source": [
        "import numpy as np"
      ],
      "metadata": {
        "id": "Cx9ka0R6v_bD"
      },
      "execution_count": 230,
      "outputs": []
    },
    {
      "cell_type": "markdown",
      "source": [
        "**Reading the CSV file**"
      ],
      "metadata": {
        "id": "3ZzmfOFAzR45"
      }
    },
    {
      "cell_type": "code",
      "source": [
        "table=pd.read_csv('languages.csv')"
      ],
      "metadata": {
        "id": "MEuMIHJtbg5C"
      },
      "execution_count": 231,
      "outputs": []
    },
    {
      "cell_type": "code",
      "source": [
        "table.head()"
      ],
      "metadata": {
        "colab": {
          "base_uri": "https://localhost:8080/",
          "height": 206
        },
        "id": "ovUJzK5AbkIv",
        "outputId": "4664bbec-b49e-406d-dd5a-9af5e34698ad"
      },
      "execution_count": 232,
      "outputs": [
        {
          "output_type": "execute_result",
          "data": {
            "text/plain": [
              "                                                text language\n",
              "0  ich denke es handelt sich hier um ein missvers...   german\n",
              "1                 ich habe tom gerade erst verlassen   german\n",
              "2                   tom versuchte mary nur zu ärgern   german\n",
              "3                       tom hat mir die hand geküsst   german\n",
              "4                    ich wusste dass dir das gefiele   german"
            ],
            "text/html": [
              "\n",
              "  <div id=\"df-620bd0c5-d161-4344-a426-6caf9c104ab6\" class=\"colab-df-container\">\n",
              "    <div>\n",
              "<style scoped>\n",
              "    .dataframe tbody tr th:only-of-type {\n",
              "        vertical-align: middle;\n",
              "    }\n",
              "\n",
              "    .dataframe tbody tr th {\n",
              "        vertical-align: top;\n",
              "    }\n",
              "\n",
              "    .dataframe thead th {\n",
              "        text-align: right;\n",
              "    }\n",
              "</style>\n",
              "<table border=\"1\" class=\"dataframe\">\n",
              "  <thead>\n",
              "    <tr style=\"text-align: right;\">\n",
              "      <th></th>\n",
              "      <th>text</th>\n",
              "      <th>language</th>\n",
              "    </tr>\n",
              "  </thead>\n",
              "  <tbody>\n",
              "    <tr>\n",
              "      <th>0</th>\n",
              "      <td>ich denke es handelt sich hier um ein missvers...</td>\n",
              "      <td>german</td>\n",
              "    </tr>\n",
              "    <tr>\n",
              "      <th>1</th>\n",
              "      <td>ich habe tom gerade erst verlassen</td>\n",
              "      <td>german</td>\n",
              "    </tr>\n",
              "    <tr>\n",
              "      <th>2</th>\n",
              "      <td>tom versuchte mary nur zu ärgern</td>\n",
              "      <td>german</td>\n",
              "    </tr>\n",
              "    <tr>\n",
              "      <th>3</th>\n",
              "      <td>tom hat mir die hand geküsst</td>\n",
              "      <td>german</td>\n",
              "    </tr>\n",
              "    <tr>\n",
              "      <th>4</th>\n",
              "      <td>ich wusste dass dir das gefiele</td>\n",
              "      <td>german</td>\n",
              "    </tr>\n",
              "  </tbody>\n",
              "</table>\n",
              "</div>\n",
              "    <div class=\"colab-df-buttons\">\n",
              "\n",
              "  <div class=\"colab-df-container\">\n",
              "    <button class=\"colab-df-convert\" onclick=\"convertToInteractive('df-620bd0c5-d161-4344-a426-6caf9c104ab6')\"\n",
              "            title=\"Convert this dataframe to an interactive table.\"\n",
              "            style=\"display:none;\">\n",
              "\n",
              "  <svg xmlns=\"http://www.w3.org/2000/svg\" height=\"24px\" viewBox=\"0 -960 960 960\">\n",
              "    <path d=\"M120-120v-720h720v720H120Zm60-500h600v-160H180v160Zm220 220h160v-160H400v160Zm0 220h160v-160H400v160ZM180-400h160v-160H180v160Zm440 0h160v-160H620v160ZM180-180h160v-160H180v160Zm440 0h160v-160H620v160Z\"/>\n",
              "  </svg>\n",
              "    </button>\n",
              "\n",
              "  <style>\n",
              "    .colab-df-container {\n",
              "      display:flex;\n",
              "      gap: 12px;\n",
              "    }\n",
              "\n",
              "    .colab-df-convert {\n",
              "      background-color: #E8F0FE;\n",
              "      border: none;\n",
              "      border-radius: 50%;\n",
              "      cursor: pointer;\n",
              "      display: none;\n",
              "      fill: #1967D2;\n",
              "      height: 32px;\n",
              "      padding: 0 0 0 0;\n",
              "      width: 32px;\n",
              "    }\n",
              "\n",
              "    .colab-df-convert:hover {\n",
              "      background-color: #E2EBFA;\n",
              "      box-shadow: 0px 1px 2px rgba(60, 64, 67, 0.3), 0px 1px 3px 1px rgba(60, 64, 67, 0.15);\n",
              "      fill: #174EA6;\n",
              "    }\n",
              "\n",
              "    .colab-df-buttons div {\n",
              "      margin-bottom: 4px;\n",
              "    }\n",
              "\n",
              "    [theme=dark] .colab-df-convert {\n",
              "      background-color: #3B4455;\n",
              "      fill: #D2E3FC;\n",
              "    }\n",
              "\n",
              "    [theme=dark] .colab-df-convert:hover {\n",
              "      background-color: #434B5C;\n",
              "      box-shadow: 0px 1px 3px 1px rgba(0, 0, 0, 0.15);\n",
              "      filter: drop-shadow(0px 1px 2px rgba(0, 0, 0, 0.3));\n",
              "      fill: #FFFFFF;\n",
              "    }\n",
              "  </style>\n",
              "\n",
              "    <script>\n",
              "      const buttonEl =\n",
              "        document.querySelector('#df-620bd0c5-d161-4344-a426-6caf9c104ab6 button.colab-df-convert');\n",
              "      buttonEl.style.display =\n",
              "        google.colab.kernel.accessAllowed ? 'block' : 'none';\n",
              "\n",
              "      async function convertToInteractive(key) {\n",
              "        const element = document.querySelector('#df-620bd0c5-d161-4344-a426-6caf9c104ab6');\n",
              "        const dataTable =\n",
              "          await google.colab.kernel.invokeFunction('convertToInteractive',\n",
              "                                                    [key], {});\n",
              "        if (!dataTable) return;\n",
              "\n",
              "        const docLinkHtml = 'Like what you see? Visit the ' +\n",
              "          '<a target=\"_blank\" href=https://colab.research.google.com/notebooks/data_table.ipynb>data table notebook</a>'\n",
              "          + ' to learn more about interactive tables.';\n",
              "        element.innerHTML = '';\n",
              "        dataTable['output_type'] = 'display_data';\n",
              "        await google.colab.output.renderOutput(dataTable, element);\n",
              "        const docLink = document.createElement('div');\n",
              "        docLink.innerHTML = docLinkHtml;\n",
              "        element.appendChild(docLink);\n",
              "      }\n",
              "    </script>\n",
              "  </div>\n",
              "\n",
              "\n",
              "<div id=\"df-27f6a8a2-d968-4c40-9c05-9fabf57ed6bd\">\n",
              "  <button class=\"colab-df-quickchart\" onclick=\"quickchart('df-27f6a8a2-d968-4c40-9c05-9fabf57ed6bd')\"\n",
              "            title=\"Suggest charts\"\n",
              "            style=\"display:none;\">\n",
              "\n",
              "<svg xmlns=\"http://www.w3.org/2000/svg\" height=\"24px\"viewBox=\"0 0 24 24\"\n",
              "     width=\"24px\">\n",
              "    <g>\n",
              "        <path d=\"M19 3H5c-1.1 0-2 .9-2 2v14c0 1.1.9 2 2 2h14c1.1 0 2-.9 2-2V5c0-1.1-.9-2-2-2zM9 17H7v-7h2v7zm4 0h-2V7h2v10zm4 0h-2v-4h2v4z\"/>\n",
              "    </g>\n",
              "</svg>\n",
              "  </button>\n",
              "\n",
              "<style>\n",
              "  .colab-df-quickchart {\n",
              "      --bg-color: #E8F0FE;\n",
              "      --fill-color: #1967D2;\n",
              "      --hover-bg-color: #E2EBFA;\n",
              "      --hover-fill-color: #174EA6;\n",
              "      --disabled-fill-color: #AAA;\n",
              "      --disabled-bg-color: #DDD;\n",
              "  }\n",
              "\n",
              "  [theme=dark] .colab-df-quickchart {\n",
              "      --bg-color: #3B4455;\n",
              "      --fill-color: #D2E3FC;\n",
              "      --hover-bg-color: #434B5C;\n",
              "      --hover-fill-color: #FFFFFF;\n",
              "      --disabled-bg-color: #3B4455;\n",
              "      --disabled-fill-color: #666;\n",
              "  }\n",
              "\n",
              "  .colab-df-quickchart {\n",
              "    background-color: var(--bg-color);\n",
              "    border: none;\n",
              "    border-radius: 50%;\n",
              "    cursor: pointer;\n",
              "    display: none;\n",
              "    fill: var(--fill-color);\n",
              "    height: 32px;\n",
              "    padding: 0;\n",
              "    width: 32px;\n",
              "  }\n",
              "\n",
              "  .colab-df-quickchart:hover {\n",
              "    background-color: var(--hover-bg-color);\n",
              "    box-shadow: 0 1px 2px rgba(60, 64, 67, 0.3), 0 1px 3px 1px rgba(60, 64, 67, 0.15);\n",
              "    fill: var(--button-hover-fill-color);\n",
              "  }\n",
              "\n",
              "  .colab-df-quickchart-complete:disabled,\n",
              "  .colab-df-quickchart-complete:disabled:hover {\n",
              "    background-color: var(--disabled-bg-color);\n",
              "    fill: var(--disabled-fill-color);\n",
              "    box-shadow: none;\n",
              "  }\n",
              "\n",
              "  .colab-df-spinner {\n",
              "    border: 2px solid var(--fill-color);\n",
              "    border-color: transparent;\n",
              "    border-bottom-color: var(--fill-color);\n",
              "    animation:\n",
              "      spin 1s steps(1) infinite;\n",
              "  }\n",
              "\n",
              "  @keyframes spin {\n",
              "    0% {\n",
              "      border-color: transparent;\n",
              "      border-bottom-color: var(--fill-color);\n",
              "      border-left-color: var(--fill-color);\n",
              "    }\n",
              "    20% {\n",
              "      border-color: transparent;\n",
              "      border-left-color: var(--fill-color);\n",
              "      border-top-color: var(--fill-color);\n",
              "    }\n",
              "    30% {\n",
              "      border-color: transparent;\n",
              "      border-left-color: var(--fill-color);\n",
              "      border-top-color: var(--fill-color);\n",
              "      border-right-color: var(--fill-color);\n",
              "    }\n",
              "    40% {\n",
              "      border-color: transparent;\n",
              "      border-right-color: var(--fill-color);\n",
              "      border-top-color: var(--fill-color);\n",
              "    }\n",
              "    60% {\n",
              "      border-color: transparent;\n",
              "      border-right-color: var(--fill-color);\n",
              "    }\n",
              "    80% {\n",
              "      border-color: transparent;\n",
              "      border-right-color: var(--fill-color);\n",
              "      border-bottom-color: var(--fill-color);\n",
              "    }\n",
              "    90% {\n",
              "      border-color: transparent;\n",
              "      border-bottom-color: var(--fill-color);\n",
              "    }\n",
              "  }\n",
              "</style>\n",
              "\n",
              "  <script>\n",
              "    async function quickchart(key) {\n",
              "      const quickchartButtonEl =\n",
              "        document.querySelector('#' + key + ' button');\n",
              "      quickchartButtonEl.disabled = true;  // To prevent multiple clicks.\n",
              "      quickchartButtonEl.classList.add('colab-df-spinner');\n",
              "      try {\n",
              "        const charts = await google.colab.kernel.invokeFunction(\n",
              "            'suggestCharts', [key], {});\n",
              "      } catch (error) {\n",
              "        console.error('Error during call to suggestCharts:', error);\n",
              "      }\n",
              "      quickchartButtonEl.classList.remove('colab-df-spinner');\n",
              "      quickchartButtonEl.classList.add('colab-df-quickchart-complete');\n",
              "    }\n",
              "    (() => {\n",
              "      let quickchartButtonEl =\n",
              "        document.querySelector('#df-27f6a8a2-d968-4c40-9c05-9fabf57ed6bd button');\n",
              "      quickchartButtonEl.style.display =\n",
              "        google.colab.kernel.accessAllowed ? 'block' : 'none';\n",
              "    })();\n",
              "  </script>\n",
              "</div>\n",
              "\n",
              "    </div>\n",
              "  </div>\n"
            ]
          },
          "metadata": {},
          "execution_count": 232
        }
      ]
    },
    {
      "cell_type": "code",
      "source": [
        "table.shape"
      ],
      "metadata": {
        "colab": {
          "base_uri": "https://localhost:8080/"
        },
        "id": "aiSAHdMzblN7",
        "outputId": "4c2a1dab-60d1-4894-e0be-15a2a8c5c169"
      },
      "execution_count": 233,
      "outputs": [
        {
          "output_type": "execute_result",
          "data": {
            "text/plain": [
              "(763684, 2)"
            ]
          },
          "metadata": {},
          "execution_count": 233
        }
      ]
    },
    {
      "cell_type": "markdown",
      "source": [
        "Dataset contain only 4 Languages :\n",
        "* English\n",
        "* German\n",
        "* French\n",
        "* Spanish"
      ],
      "metadata": {
        "id": "UKN3CZL60zmv"
      }
    },
    {
      "cell_type": "code",
      "source": [
        "table['language'].value_counts()"
      ],
      "metadata": {
        "colab": {
          "base_uri": "https://localhost:8080/"
        },
        "id": "nzjjSL4AboHv",
        "outputId": "2f6db1f5-1ef7-4344-cc65-e15cdc115c56"
      },
      "execution_count": 234,
      "outputs": [
        {
          "output_type": "execute_result",
          "data": {
            "text/plain": [
              "english    275687\n",
              "german     199618\n",
              "french     169693\n",
              "spanish    118686\n",
              "Name: language, dtype: int64"
            ]
          },
          "metadata": {},
          "execution_count": 234
        }
      ]
    },
    {
      "cell_type": "code",
      "source": [
        "max([len(x) for x in table['text']])"
      ],
      "metadata": {
        "colab": {
          "base_uri": "https://localhost:8080/"
        },
        "id": "pA2hT926bwRQ",
        "outputId": "a39aedfb-9758-4046-f9a8-7742c31d23a1"
      },
      "execution_count": 235,
      "outputs": [
        {
          "output_type": "execute_result",
          "data": {
            "text/plain": [
              "527"
            ]
          },
          "metadata": {},
          "execution_count": 235
        }
      ]
    },
    {
      "cell_type": "markdown",
      "source": [
        "**Shufflling the dataset rows**"
      ],
      "metadata": {
        "id": "-oqHHBPFzhM-"
      }
    },
    {
      "cell_type": "code",
      "source": [
        "table=table.sample(frac=1)"
      ],
      "metadata": {
        "id": "7kMir3hGfnRo"
      },
      "execution_count": 236,
      "outputs": []
    },
    {
      "cell_type": "code",
      "source": [
        "table.head()"
      ],
      "metadata": {
        "colab": {
          "base_uri": "https://localhost:8080/",
          "height": 206
        },
        "id": "sKcU-kjLgK8t",
        "outputId": "6f67adac-d99a-47b9-88f8-c53aa75f162a"
      },
      "execution_count": 237,
      "outputs": [
        {
          "output_type": "execute_result",
          "data": {
            "text/plain": [
              "                                                     text language\n",
              "124154  leg das nicht dorthin es könnte jemand darüber...   german\n",
              "137950  man sollte nicht über seine freunde hinter der...   german\n",
              "650514   tom and i sat on the beach watching the seagulls  english\n",
              "281206  elle fait suivre à son chien un régime sans vi...   french\n",
              "222523                                   je nage beaucoup   french"
            ],
            "text/html": [
              "\n",
              "  <div id=\"df-955073c9-1d16-478a-9394-0c51d43f5ebb\" class=\"colab-df-container\">\n",
              "    <div>\n",
              "<style scoped>\n",
              "    .dataframe tbody tr th:only-of-type {\n",
              "        vertical-align: middle;\n",
              "    }\n",
              "\n",
              "    .dataframe tbody tr th {\n",
              "        vertical-align: top;\n",
              "    }\n",
              "\n",
              "    .dataframe thead th {\n",
              "        text-align: right;\n",
              "    }\n",
              "</style>\n",
              "<table border=\"1\" class=\"dataframe\">\n",
              "  <thead>\n",
              "    <tr style=\"text-align: right;\">\n",
              "      <th></th>\n",
              "      <th>text</th>\n",
              "      <th>language</th>\n",
              "    </tr>\n",
              "  </thead>\n",
              "  <tbody>\n",
              "    <tr>\n",
              "      <th>124154</th>\n",
              "      <td>leg das nicht dorthin es könnte jemand darüber...</td>\n",
              "      <td>german</td>\n",
              "    </tr>\n",
              "    <tr>\n",
              "      <th>137950</th>\n",
              "      <td>man sollte nicht über seine freunde hinter der...</td>\n",
              "      <td>german</td>\n",
              "    </tr>\n",
              "    <tr>\n",
              "      <th>650514</th>\n",
              "      <td>tom and i sat on the beach watching the seagulls</td>\n",
              "      <td>english</td>\n",
              "    </tr>\n",
              "    <tr>\n",
              "      <th>281206</th>\n",
              "      <td>elle fait suivre à son chien un régime sans vi...</td>\n",
              "      <td>french</td>\n",
              "    </tr>\n",
              "    <tr>\n",
              "      <th>222523</th>\n",
              "      <td>je nage beaucoup</td>\n",
              "      <td>french</td>\n",
              "    </tr>\n",
              "  </tbody>\n",
              "</table>\n",
              "</div>\n",
              "    <div class=\"colab-df-buttons\">\n",
              "\n",
              "  <div class=\"colab-df-container\">\n",
              "    <button class=\"colab-df-convert\" onclick=\"convertToInteractive('df-955073c9-1d16-478a-9394-0c51d43f5ebb')\"\n",
              "            title=\"Convert this dataframe to an interactive table.\"\n",
              "            style=\"display:none;\">\n",
              "\n",
              "  <svg xmlns=\"http://www.w3.org/2000/svg\" height=\"24px\" viewBox=\"0 -960 960 960\">\n",
              "    <path d=\"M120-120v-720h720v720H120Zm60-500h600v-160H180v160Zm220 220h160v-160H400v160Zm0 220h160v-160H400v160ZM180-400h160v-160H180v160Zm440 0h160v-160H620v160ZM180-180h160v-160H180v160Zm440 0h160v-160H620v160Z\"/>\n",
              "  </svg>\n",
              "    </button>\n",
              "\n",
              "  <style>\n",
              "    .colab-df-container {\n",
              "      display:flex;\n",
              "      gap: 12px;\n",
              "    }\n",
              "\n",
              "    .colab-df-convert {\n",
              "      background-color: #E8F0FE;\n",
              "      border: none;\n",
              "      border-radius: 50%;\n",
              "      cursor: pointer;\n",
              "      display: none;\n",
              "      fill: #1967D2;\n",
              "      height: 32px;\n",
              "      padding: 0 0 0 0;\n",
              "      width: 32px;\n",
              "    }\n",
              "\n",
              "    .colab-df-convert:hover {\n",
              "      background-color: #E2EBFA;\n",
              "      box-shadow: 0px 1px 2px rgba(60, 64, 67, 0.3), 0px 1px 3px 1px rgba(60, 64, 67, 0.15);\n",
              "      fill: #174EA6;\n",
              "    }\n",
              "\n",
              "    .colab-df-buttons div {\n",
              "      margin-bottom: 4px;\n",
              "    }\n",
              "\n",
              "    [theme=dark] .colab-df-convert {\n",
              "      background-color: #3B4455;\n",
              "      fill: #D2E3FC;\n",
              "    }\n",
              "\n",
              "    [theme=dark] .colab-df-convert:hover {\n",
              "      background-color: #434B5C;\n",
              "      box-shadow: 0px 1px 3px 1px rgba(0, 0, 0, 0.15);\n",
              "      filter: drop-shadow(0px 1px 2px rgba(0, 0, 0, 0.3));\n",
              "      fill: #FFFFFF;\n",
              "    }\n",
              "  </style>\n",
              "\n",
              "    <script>\n",
              "      const buttonEl =\n",
              "        document.querySelector('#df-955073c9-1d16-478a-9394-0c51d43f5ebb button.colab-df-convert');\n",
              "      buttonEl.style.display =\n",
              "        google.colab.kernel.accessAllowed ? 'block' : 'none';\n",
              "\n",
              "      async function convertToInteractive(key) {\n",
              "        const element = document.querySelector('#df-955073c9-1d16-478a-9394-0c51d43f5ebb');\n",
              "        const dataTable =\n",
              "          await google.colab.kernel.invokeFunction('convertToInteractive',\n",
              "                                                    [key], {});\n",
              "        if (!dataTable) return;\n",
              "\n",
              "        const docLinkHtml = 'Like what you see? Visit the ' +\n",
              "          '<a target=\"_blank\" href=https://colab.research.google.com/notebooks/data_table.ipynb>data table notebook</a>'\n",
              "          + ' to learn more about interactive tables.';\n",
              "        element.innerHTML = '';\n",
              "        dataTable['output_type'] = 'display_data';\n",
              "        await google.colab.output.renderOutput(dataTable, element);\n",
              "        const docLink = document.createElement('div');\n",
              "        docLink.innerHTML = docLinkHtml;\n",
              "        element.appendChild(docLink);\n",
              "      }\n",
              "    </script>\n",
              "  </div>\n",
              "\n",
              "\n",
              "<div id=\"df-e36aa342-3473-4065-a5bf-91038176462e\">\n",
              "  <button class=\"colab-df-quickchart\" onclick=\"quickchart('df-e36aa342-3473-4065-a5bf-91038176462e')\"\n",
              "            title=\"Suggest charts\"\n",
              "            style=\"display:none;\">\n",
              "\n",
              "<svg xmlns=\"http://www.w3.org/2000/svg\" height=\"24px\"viewBox=\"0 0 24 24\"\n",
              "     width=\"24px\">\n",
              "    <g>\n",
              "        <path d=\"M19 3H5c-1.1 0-2 .9-2 2v14c0 1.1.9 2 2 2h14c1.1 0 2-.9 2-2V5c0-1.1-.9-2-2-2zM9 17H7v-7h2v7zm4 0h-2V7h2v10zm4 0h-2v-4h2v4z\"/>\n",
              "    </g>\n",
              "</svg>\n",
              "  </button>\n",
              "\n",
              "<style>\n",
              "  .colab-df-quickchart {\n",
              "      --bg-color: #E8F0FE;\n",
              "      --fill-color: #1967D2;\n",
              "      --hover-bg-color: #E2EBFA;\n",
              "      --hover-fill-color: #174EA6;\n",
              "      --disabled-fill-color: #AAA;\n",
              "      --disabled-bg-color: #DDD;\n",
              "  }\n",
              "\n",
              "  [theme=dark] .colab-df-quickchart {\n",
              "      --bg-color: #3B4455;\n",
              "      --fill-color: #D2E3FC;\n",
              "      --hover-bg-color: #434B5C;\n",
              "      --hover-fill-color: #FFFFFF;\n",
              "      --disabled-bg-color: #3B4455;\n",
              "      --disabled-fill-color: #666;\n",
              "  }\n",
              "\n",
              "  .colab-df-quickchart {\n",
              "    background-color: var(--bg-color);\n",
              "    border: none;\n",
              "    border-radius: 50%;\n",
              "    cursor: pointer;\n",
              "    display: none;\n",
              "    fill: var(--fill-color);\n",
              "    height: 32px;\n",
              "    padding: 0;\n",
              "    width: 32px;\n",
              "  }\n",
              "\n",
              "  .colab-df-quickchart:hover {\n",
              "    background-color: var(--hover-bg-color);\n",
              "    box-shadow: 0 1px 2px rgba(60, 64, 67, 0.3), 0 1px 3px 1px rgba(60, 64, 67, 0.15);\n",
              "    fill: var(--button-hover-fill-color);\n",
              "  }\n",
              "\n",
              "  .colab-df-quickchart-complete:disabled,\n",
              "  .colab-df-quickchart-complete:disabled:hover {\n",
              "    background-color: var(--disabled-bg-color);\n",
              "    fill: var(--disabled-fill-color);\n",
              "    box-shadow: none;\n",
              "  }\n",
              "\n",
              "  .colab-df-spinner {\n",
              "    border: 2px solid var(--fill-color);\n",
              "    border-color: transparent;\n",
              "    border-bottom-color: var(--fill-color);\n",
              "    animation:\n",
              "      spin 1s steps(1) infinite;\n",
              "  }\n",
              "\n",
              "  @keyframes spin {\n",
              "    0% {\n",
              "      border-color: transparent;\n",
              "      border-bottom-color: var(--fill-color);\n",
              "      border-left-color: var(--fill-color);\n",
              "    }\n",
              "    20% {\n",
              "      border-color: transparent;\n",
              "      border-left-color: var(--fill-color);\n",
              "      border-top-color: var(--fill-color);\n",
              "    }\n",
              "    30% {\n",
              "      border-color: transparent;\n",
              "      border-left-color: var(--fill-color);\n",
              "      border-top-color: var(--fill-color);\n",
              "      border-right-color: var(--fill-color);\n",
              "    }\n",
              "    40% {\n",
              "      border-color: transparent;\n",
              "      border-right-color: var(--fill-color);\n",
              "      border-top-color: var(--fill-color);\n",
              "    }\n",
              "    60% {\n",
              "      border-color: transparent;\n",
              "      border-right-color: var(--fill-color);\n",
              "    }\n",
              "    80% {\n",
              "      border-color: transparent;\n",
              "      border-right-color: var(--fill-color);\n",
              "      border-bottom-color: var(--fill-color);\n",
              "    }\n",
              "    90% {\n",
              "      border-color: transparent;\n",
              "      border-bottom-color: var(--fill-color);\n",
              "    }\n",
              "  }\n",
              "</style>\n",
              "\n",
              "  <script>\n",
              "    async function quickchart(key) {\n",
              "      const quickchartButtonEl =\n",
              "        document.querySelector('#' + key + ' button');\n",
              "      quickchartButtonEl.disabled = true;  // To prevent multiple clicks.\n",
              "      quickchartButtonEl.classList.add('colab-df-spinner');\n",
              "      try {\n",
              "        const charts = await google.colab.kernel.invokeFunction(\n",
              "            'suggestCharts', [key], {});\n",
              "      } catch (error) {\n",
              "        console.error('Error during call to suggestCharts:', error);\n",
              "      }\n",
              "      quickchartButtonEl.classList.remove('colab-df-spinner');\n",
              "      quickchartButtonEl.classList.add('colab-df-quickchart-complete');\n",
              "    }\n",
              "    (() => {\n",
              "      let quickchartButtonEl =\n",
              "        document.querySelector('#df-e36aa342-3473-4065-a5bf-91038176462e button');\n",
              "      quickchartButtonEl.style.display =\n",
              "        google.colab.kernel.accessAllowed ? 'block' : 'none';\n",
              "    })();\n",
              "  </script>\n",
              "</div>\n",
              "\n",
              "    </div>\n",
              "  </div>\n"
            ]
          },
          "metadata": {},
          "execution_count": 237
        }
      ]
    },
    {
      "cell_type": "code",
      "source": [
        "table=table.head(100000)"
      ],
      "metadata": {
        "id": "Fm3-4XY6gMgH"
      },
      "execution_count": 238,
      "outputs": []
    },
    {
      "cell_type": "code",
      "source": [
        "table.head()"
      ],
      "metadata": {
        "colab": {
          "base_uri": "https://localhost:8080/",
          "height": 206
        },
        "id": "rWl3t5LzgfuC",
        "outputId": "7c8c6d07-733b-4a35-85de-59816133cfd8"
      },
      "execution_count": 239,
      "outputs": [
        {
          "output_type": "execute_result",
          "data": {
            "text/plain": [
              "                                                     text language\n",
              "124154  leg das nicht dorthin es könnte jemand darüber...   german\n",
              "137950  man sollte nicht über seine freunde hinter der...   german\n",
              "650514   tom and i sat on the beach watching the seagulls  english\n",
              "281206  elle fait suivre à son chien un régime sans vi...   french\n",
              "222523                                   je nage beaucoup   french"
            ],
            "text/html": [
              "\n",
              "  <div id=\"df-bf93bdd9-39ed-4d08-b671-9c269c1f5de5\" class=\"colab-df-container\">\n",
              "    <div>\n",
              "<style scoped>\n",
              "    .dataframe tbody tr th:only-of-type {\n",
              "        vertical-align: middle;\n",
              "    }\n",
              "\n",
              "    .dataframe tbody tr th {\n",
              "        vertical-align: top;\n",
              "    }\n",
              "\n",
              "    .dataframe thead th {\n",
              "        text-align: right;\n",
              "    }\n",
              "</style>\n",
              "<table border=\"1\" class=\"dataframe\">\n",
              "  <thead>\n",
              "    <tr style=\"text-align: right;\">\n",
              "      <th></th>\n",
              "      <th>text</th>\n",
              "      <th>language</th>\n",
              "    </tr>\n",
              "  </thead>\n",
              "  <tbody>\n",
              "    <tr>\n",
              "      <th>124154</th>\n",
              "      <td>leg das nicht dorthin es könnte jemand darüber...</td>\n",
              "      <td>german</td>\n",
              "    </tr>\n",
              "    <tr>\n",
              "      <th>137950</th>\n",
              "      <td>man sollte nicht über seine freunde hinter der...</td>\n",
              "      <td>german</td>\n",
              "    </tr>\n",
              "    <tr>\n",
              "      <th>650514</th>\n",
              "      <td>tom and i sat on the beach watching the seagulls</td>\n",
              "      <td>english</td>\n",
              "    </tr>\n",
              "    <tr>\n",
              "      <th>281206</th>\n",
              "      <td>elle fait suivre à son chien un régime sans vi...</td>\n",
              "      <td>french</td>\n",
              "    </tr>\n",
              "    <tr>\n",
              "      <th>222523</th>\n",
              "      <td>je nage beaucoup</td>\n",
              "      <td>french</td>\n",
              "    </tr>\n",
              "  </tbody>\n",
              "</table>\n",
              "</div>\n",
              "    <div class=\"colab-df-buttons\">\n",
              "\n",
              "  <div class=\"colab-df-container\">\n",
              "    <button class=\"colab-df-convert\" onclick=\"convertToInteractive('df-bf93bdd9-39ed-4d08-b671-9c269c1f5de5')\"\n",
              "            title=\"Convert this dataframe to an interactive table.\"\n",
              "            style=\"display:none;\">\n",
              "\n",
              "  <svg xmlns=\"http://www.w3.org/2000/svg\" height=\"24px\" viewBox=\"0 -960 960 960\">\n",
              "    <path d=\"M120-120v-720h720v720H120Zm60-500h600v-160H180v160Zm220 220h160v-160H400v160Zm0 220h160v-160H400v160ZM180-400h160v-160H180v160Zm440 0h160v-160H620v160ZM180-180h160v-160H180v160Zm440 0h160v-160H620v160Z\"/>\n",
              "  </svg>\n",
              "    </button>\n",
              "\n",
              "  <style>\n",
              "    .colab-df-container {\n",
              "      display:flex;\n",
              "      gap: 12px;\n",
              "    }\n",
              "\n",
              "    .colab-df-convert {\n",
              "      background-color: #E8F0FE;\n",
              "      border: none;\n",
              "      border-radius: 50%;\n",
              "      cursor: pointer;\n",
              "      display: none;\n",
              "      fill: #1967D2;\n",
              "      height: 32px;\n",
              "      padding: 0 0 0 0;\n",
              "      width: 32px;\n",
              "    }\n",
              "\n",
              "    .colab-df-convert:hover {\n",
              "      background-color: #E2EBFA;\n",
              "      box-shadow: 0px 1px 2px rgba(60, 64, 67, 0.3), 0px 1px 3px 1px rgba(60, 64, 67, 0.15);\n",
              "      fill: #174EA6;\n",
              "    }\n",
              "\n",
              "    .colab-df-buttons div {\n",
              "      margin-bottom: 4px;\n",
              "    }\n",
              "\n",
              "    [theme=dark] .colab-df-convert {\n",
              "      background-color: #3B4455;\n",
              "      fill: #D2E3FC;\n",
              "    }\n",
              "\n",
              "    [theme=dark] .colab-df-convert:hover {\n",
              "      background-color: #434B5C;\n",
              "      box-shadow: 0px 1px 3px 1px rgba(0, 0, 0, 0.15);\n",
              "      filter: drop-shadow(0px 1px 2px rgba(0, 0, 0, 0.3));\n",
              "      fill: #FFFFFF;\n",
              "    }\n",
              "  </style>\n",
              "\n",
              "    <script>\n",
              "      const buttonEl =\n",
              "        document.querySelector('#df-bf93bdd9-39ed-4d08-b671-9c269c1f5de5 button.colab-df-convert');\n",
              "      buttonEl.style.display =\n",
              "        google.colab.kernel.accessAllowed ? 'block' : 'none';\n",
              "\n",
              "      async function convertToInteractive(key) {\n",
              "        const element = document.querySelector('#df-bf93bdd9-39ed-4d08-b671-9c269c1f5de5');\n",
              "        const dataTable =\n",
              "          await google.colab.kernel.invokeFunction('convertToInteractive',\n",
              "                                                    [key], {});\n",
              "        if (!dataTable) return;\n",
              "\n",
              "        const docLinkHtml = 'Like what you see? Visit the ' +\n",
              "          '<a target=\"_blank\" href=https://colab.research.google.com/notebooks/data_table.ipynb>data table notebook</a>'\n",
              "          + ' to learn more about interactive tables.';\n",
              "        element.innerHTML = '';\n",
              "        dataTable['output_type'] = 'display_data';\n",
              "        await google.colab.output.renderOutput(dataTable, element);\n",
              "        const docLink = document.createElement('div');\n",
              "        docLink.innerHTML = docLinkHtml;\n",
              "        element.appendChild(docLink);\n",
              "      }\n",
              "    </script>\n",
              "  </div>\n",
              "\n",
              "\n",
              "<div id=\"df-15be35ae-3457-429d-9076-003cf3a6e846\">\n",
              "  <button class=\"colab-df-quickchart\" onclick=\"quickchart('df-15be35ae-3457-429d-9076-003cf3a6e846')\"\n",
              "            title=\"Suggest charts\"\n",
              "            style=\"display:none;\">\n",
              "\n",
              "<svg xmlns=\"http://www.w3.org/2000/svg\" height=\"24px\"viewBox=\"0 0 24 24\"\n",
              "     width=\"24px\">\n",
              "    <g>\n",
              "        <path d=\"M19 3H5c-1.1 0-2 .9-2 2v14c0 1.1.9 2 2 2h14c1.1 0 2-.9 2-2V5c0-1.1-.9-2-2-2zM9 17H7v-7h2v7zm4 0h-2V7h2v10zm4 0h-2v-4h2v4z\"/>\n",
              "    </g>\n",
              "</svg>\n",
              "  </button>\n",
              "\n",
              "<style>\n",
              "  .colab-df-quickchart {\n",
              "      --bg-color: #E8F0FE;\n",
              "      --fill-color: #1967D2;\n",
              "      --hover-bg-color: #E2EBFA;\n",
              "      --hover-fill-color: #174EA6;\n",
              "      --disabled-fill-color: #AAA;\n",
              "      --disabled-bg-color: #DDD;\n",
              "  }\n",
              "\n",
              "  [theme=dark] .colab-df-quickchart {\n",
              "      --bg-color: #3B4455;\n",
              "      --fill-color: #D2E3FC;\n",
              "      --hover-bg-color: #434B5C;\n",
              "      --hover-fill-color: #FFFFFF;\n",
              "      --disabled-bg-color: #3B4455;\n",
              "      --disabled-fill-color: #666;\n",
              "  }\n",
              "\n",
              "  .colab-df-quickchart {\n",
              "    background-color: var(--bg-color);\n",
              "    border: none;\n",
              "    border-radius: 50%;\n",
              "    cursor: pointer;\n",
              "    display: none;\n",
              "    fill: var(--fill-color);\n",
              "    height: 32px;\n",
              "    padding: 0;\n",
              "    width: 32px;\n",
              "  }\n",
              "\n",
              "  .colab-df-quickchart:hover {\n",
              "    background-color: var(--hover-bg-color);\n",
              "    box-shadow: 0 1px 2px rgba(60, 64, 67, 0.3), 0 1px 3px 1px rgba(60, 64, 67, 0.15);\n",
              "    fill: var(--button-hover-fill-color);\n",
              "  }\n",
              "\n",
              "  .colab-df-quickchart-complete:disabled,\n",
              "  .colab-df-quickchart-complete:disabled:hover {\n",
              "    background-color: var(--disabled-bg-color);\n",
              "    fill: var(--disabled-fill-color);\n",
              "    box-shadow: none;\n",
              "  }\n",
              "\n",
              "  .colab-df-spinner {\n",
              "    border: 2px solid var(--fill-color);\n",
              "    border-color: transparent;\n",
              "    border-bottom-color: var(--fill-color);\n",
              "    animation:\n",
              "      spin 1s steps(1) infinite;\n",
              "  }\n",
              "\n",
              "  @keyframes spin {\n",
              "    0% {\n",
              "      border-color: transparent;\n",
              "      border-bottom-color: var(--fill-color);\n",
              "      border-left-color: var(--fill-color);\n",
              "    }\n",
              "    20% {\n",
              "      border-color: transparent;\n",
              "      border-left-color: var(--fill-color);\n",
              "      border-top-color: var(--fill-color);\n",
              "    }\n",
              "    30% {\n",
              "      border-color: transparent;\n",
              "      border-left-color: var(--fill-color);\n",
              "      border-top-color: var(--fill-color);\n",
              "      border-right-color: var(--fill-color);\n",
              "    }\n",
              "    40% {\n",
              "      border-color: transparent;\n",
              "      border-right-color: var(--fill-color);\n",
              "      border-top-color: var(--fill-color);\n",
              "    }\n",
              "    60% {\n",
              "      border-color: transparent;\n",
              "      border-right-color: var(--fill-color);\n",
              "    }\n",
              "    80% {\n",
              "      border-color: transparent;\n",
              "      border-right-color: var(--fill-color);\n",
              "      border-bottom-color: var(--fill-color);\n",
              "    }\n",
              "    90% {\n",
              "      border-color: transparent;\n",
              "      border-bottom-color: var(--fill-color);\n",
              "    }\n",
              "  }\n",
              "</style>\n",
              "\n",
              "  <script>\n",
              "    async function quickchart(key) {\n",
              "      const quickchartButtonEl =\n",
              "        document.querySelector('#' + key + ' button');\n",
              "      quickchartButtonEl.disabled = true;  // To prevent multiple clicks.\n",
              "      quickchartButtonEl.classList.add('colab-df-spinner');\n",
              "      try {\n",
              "        const charts = await google.colab.kernel.invokeFunction(\n",
              "            'suggestCharts', [key], {});\n",
              "      } catch (error) {\n",
              "        console.error('Error during call to suggestCharts:', error);\n",
              "      }\n",
              "      quickchartButtonEl.classList.remove('colab-df-spinner');\n",
              "      quickchartButtonEl.classList.add('colab-df-quickchart-complete');\n",
              "    }\n",
              "    (() => {\n",
              "      let quickchartButtonEl =\n",
              "        document.querySelector('#df-15be35ae-3457-429d-9076-003cf3a6e846 button');\n",
              "      quickchartButtonEl.style.display =\n",
              "        google.colab.kernel.accessAllowed ? 'block' : 'none';\n",
              "    })();\n",
              "  </script>\n",
              "</div>\n",
              "\n",
              "    </div>\n",
              "  </div>\n"
            ]
          },
          "metadata": {},
          "execution_count": 239
        }
      ]
    },
    {
      "cell_type": "code",
      "source": [
        "table['language'].value_counts()"
      ],
      "metadata": {
        "colab": {
          "base_uri": "https://localhost:8080/"
        },
        "id": "wFPrEXnsghZa",
        "outputId": "3b44d250-210e-4e42-f646-6a3dacc2cb6a"
      },
      "execution_count": 240,
      "outputs": [
        {
          "output_type": "execute_result",
          "data": {
            "text/plain": [
              "english    35966\n",
              "german     26348\n",
              "french     22222\n",
              "spanish    15464\n",
              "Name: language, dtype: int64"
            ]
          },
          "metadata": {},
          "execution_count": 240
        }
      ]
    },
    {
      "cell_type": "code",
      "source": [
        "from tensorflow.keras.preprocessing.text import Tokenizer"
      ],
      "metadata": {
        "id": "KKGP78gFgnq0"
      },
      "execution_count": 241,
      "outputs": []
    },
    {
      "cell_type": "code",
      "source": [
        "tokenizer=Tokenizer()"
      ],
      "metadata": {
        "id": "p7uqlZV-hLdE"
      },
      "execution_count": 242,
      "outputs": []
    },
    {
      "cell_type": "markdown",
      "source": [
        "**Fitting text in tokenizer**"
      ],
      "metadata": {
        "id": "oJHLz69Fzybd"
      }
    },
    {
      "cell_type": "code",
      "source": [
        "tokenizer.fit_on_texts(table['text'])"
      ],
      "metadata": {
        "id": "9sMpGB7whXfF"
      },
      "execution_count": 243,
      "outputs": []
    },
    {
      "cell_type": "code",
      "source": [
        "len(tokenizer.word_index)"
      ],
      "metadata": {
        "colab": {
          "base_uri": "https://localhost:8080/"
        },
        "id": "qx2YDk3oiT3O",
        "outputId": "97bc65aa-a38d-432a-e9e9-e6255140e44b"
      },
      "execution_count": 244,
      "outputs": [
        {
          "output_type": "execute_result",
          "data": {
            "text/plain": [
              "42643"
            ]
          },
          "metadata": {},
          "execution_count": 244
        }
      ]
    },
    {
      "cell_type": "markdown",
      "source": [
        "**Splitting language columns in individual languages columns**"
      ],
      "metadata": {
        "id": "D2GC3IJ7z3if"
      }
    },
    {
      "cell_type": "code",
      "source": [
        "y=pd.get_dummies(table['language'])"
      ],
      "metadata": {
        "id": "VuLVvPiMhi72"
      },
      "execution_count": 245,
      "outputs": []
    },
    {
      "cell_type": "markdown",
      "source": [
        "**Now transforming all the text into sequences**"
      ],
      "metadata": {
        "id": "EYj-j0d80Cax"
      }
    },
    {
      "cell_type": "code",
      "source": [
        "input_sequences=[]\n",
        "for text in table['text']:\n",
        "  sequences=tokenizer.texts_to_sequences([text])[0]\n",
        "  input_sequences.append(sequences)"
      ],
      "metadata": {
        "id": "NNVetQq4hfcB"
      },
      "execution_count": 246,
      "outputs": []
    },
    {
      "cell_type": "code",
      "source": [
        "len(input_sequences)"
      ],
      "metadata": {
        "colab": {
          "base_uri": "https://localhost:8080/"
        },
        "id": "msWhUV6ViKwu",
        "outputId": "52b33618-97e0-4e97-96be-02910bfc8292"
      },
      "execution_count": 247,
      "outputs": [
        {
          "output_type": "execute_result",
          "data": {
            "text/plain": [
              "100000"
            ]
          },
          "metadata": {},
          "execution_count": 247
        }
      ]
    },
    {
      "cell_type": "code",
      "source": [
        "input_sequences"
      ],
      "metadata": {
        "colab": {
          "base_uri": "https://localhost:8080/"
        },
        "id": "qeXBi65BiNya",
        "outputId": "035ef6a8-8079-4bc1-acfe-0df444ced302"
      },
      "execution_count": 248,
      "outputs": [
        {
          "output_type": "execute_result",
          "data": {
            "text/plain": [
              "[[2702, 25, 16, 1685, 14, 682, 829, 959, 21146],\n",
              " [183, 835, 16, 316, 286, 1141, 1402, 14747, 4153, 949],\n",
              " [1, 63, 3, 1293, 52, 5, 1891, 1850, 5, 21147],\n",
              " [104, 174, 3939, 29, 133, 836, 26, 8411, 786, 4371],\n",
              " [10, 7420, 366],\n",
              " [9697, 53, 6706, 186, 21148, 27, 3273],\n",
              " [7, 714, 1426, 19, 56, 2622, 907],\n",
              " [53, 9698, 33, 4154, 33, 3744, 639],\n",
              " [69, 19, 311, 289, 4372, 3745, 31, 960, 93, 272, 31, 229],\n",
              " [1, 21149, 61, 2796, 63, 1333, 36],\n",
              " [1, 210, 28, 377, 4, 197, 198],\n",
              " [218, 21, 15, 21150],\n",
              " [30, 78, 740, 17, 6, 3006, 178, 1223, 6, 53, 9, 81, 174],\n",
              " [143, 33, 2, 8412],\n",
              " [1762, 6126, 11, 3007, 6, 21, 646],\n",
              " [2089, 2195, 6, 21151, 86, 6707, 21152],\n",
              " [1, 468, 9699, 63, 546, 4, 2090, 61, 1334],\n",
              " [1, 55, 89, 14748, 2, 34],\n",
              " [1, 186, 721, 55, 14749, 222, 29, 5688],\n",
              " [7, 80, 56, 481, 1403],\n",
              " [152, 2901, 6127, 1646, 445, 9700, 11, 2797],\n",
              " [1729, 57, 921, 4, 1562, 39, 359, 180, 8413],\n",
              " [749, 9701, 131, 14750],\n",
              " [46, 6128, 11602, 19, 181, 1169],\n",
              " [7, 213, 54, 1, 931, 255],\n",
              " [28, 2623, 4373, 66, 469],\n",
              " [77, 188, 460, 4, 15],\n",
              " [3, 151, 774, 39, 4374],\n",
              " [40, 30, 5689, 17, 808, 987, 90, 1478],\n",
              " [204, 631, 2, 251, 120, 36],\n",
              " [20, 436, 290, 14751, 598, 424, 5690],\n",
              " [38, 7421, 4908, 3593, 101, 1892, 3007],\n",
              " [2, 150, 732, 22, 463, 131, 640],\n",
              " [1, 2703, 706, 278, 9702],\n",
              " [21, 313, 14752, 2, 34, 618, 11, 4909],\n",
              " [3746, 1, 94, 34, 610, 6, 3747],\n",
              " [244, 20, 75, 165, 1],\n",
              " [199, 95, 25, 21153, 182, 23, 114, 14753, 1049],\n",
              " [1, 18, 169, 750],\n",
              " [218, 347, 11603],\n",
              " [8, 318, 4, 116, 117, 8],\n",
              " [40, 55, 6129, 178, 5691, 6, 11, 4617],\n",
              " [3, 513, 120, 282, 973, 176, 116],\n",
              " [39, 296, 67, 283, 15, 432],\n",
              " [369, 14, 370, 89, 9, 6, 1730, 347, 1050],\n",
              " [81, 380, 885, 14754, 4910],\n",
              " [7, 4375, 16, 374, 21154, 21155],\n",
              " [1, 200, 3008],\n",
              " [8, 151, 169, 423, 15, 124, 4, 37],\n",
              " [58, 189, 4, 14755, 2, 722, 3274],\n",
              " [3748, 751, 1990, 210, 24],\n",
              " [1, 200, 62, 14756, 45, 5, 21156, 6130, 84, 61, 1294],\n",
              " [59, 171, 8, 73, 45, 1051],\n",
              " [1, 14, 150, 14757, 27, 11, 3009],\n",
              " [3, 105, 58, 215, 57, 750, 507],\n",
              " [157, 12, 39, 565, 774],\n",
              " [1, 18, 4911, 4, 855, 24, 34, 122, 908],\n",
              " [1131, 5278, 115, 14758],\n",
              " [224, 14759],\n",
              " [3, 73, 71, 1479],\n",
              " [212, 547, 2, 234, 21157, 178, 2624],\n",
              " [2323, 12, 67, 62, 6131],\n",
              " [40, 605, 78, 1686, 26, 1647, 6, 1404],\n",
              " [14760, 752, 1027, 424, 1121, 641],\n",
              " [10, 78, 21158],\n",
              " [1, 19, 31, 1011, 140, 161],\n",
              " [765, 185, 3142, 39],\n",
              " [36, 18, 21159, 24, 14761, 14762, 4376, 162, 32, 5, 867, 1816, 4618, 4912],\n",
              " [402, 84, 24, 1170],\n",
              " [1, 19, 2798, 46, 290, 1348, 1529, 50],\n",
              " [12, 24, 157, 8, 571],\n",
              " [4619, 837, 14763],\n",
              " [1, 6708, 2, 34],\n",
              " [232, 503, 19, 83, 136, 1335],\n",
              " [1, 93, 145, 4913, 107, 88, 21160, 398, 245, 56, 838, 1373, 1503],\n",
              " [1, 741, 41, 1374, 2799, 1063, 2395],\n",
              " [129, 174, 1787, 222],\n",
              " [53, 1273, 81, 6132, 22, 275, 9, 10, 2396, 4914],\n",
              " [52, 55, 21161, 64, 3275],\n",
              " [133, 5279, 30, 3594, 17, 6, 9703],\n",
              " [1, 12, 62, 14764, 225, 28],\n",
              " [7, 68, 394, 37, 21162, 5280],\n",
              " [868, 715, 310, 21163],\n",
              " [313, 683, 138, 38, 8414],\n",
              " [3, 274, 8, 103, 134, 4, 57, 84, 5, 599, 278, 464],\n",
              " [5281, 14765, 885, 11604],\n",
              " [98, 2143, 555, 4155, 21164, 138, 131, 974, 856],\n",
              " [43, 1731, 639, 6, 30, 17, 22, 102],\n",
              " [3, 175, 742, 548, 80, 223, 2, 1132, 45, 5, 2033],\n",
              " [3, 122, 631, 24, 28, 18, 4156, 209, 3, 117, 105, 28, 171, 57, 24, 4156],\n",
              " [1, 213, 54, 95, 93, 1687, 16, 231, 869, 115],\n",
              " [7, 123, 14, 16, 231, 6709],\n",
              " [10, 821, 8415, 155, 248],\n",
              " [11, 2196, 909, 226, 14766, 886],\n",
              " [14, 226, 21165, 445, 22, 21166, 101, 1427, 14767],\n",
              " [40, 5692, 2800, 6, 1945, 29, 11, 5282],\n",
              " [225, 36, 2, 5693, 24, 1, 63, 34, 151, 153, 1504, 66, 688, 417],\n",
              " [6133, 391, 13, 88, 1224],\n",
              " [14, 19, 91, 2091, 4915],\n",
              " [2197, 7422],\n",
              " [5, 183, 9704],\n",
              " [121, 60, 21167, 32, 4916, 13, 5, 2198],\n",
              " [172, 21168, 6, 14768, 470, 5694, 20, 3749],\n",
              " [141, 11605, 198, 52, 341, 7423],\n",
              " [3143, 625, 781, 188, 9705, 4157, 166],\n",
              " [3, 2324, 24, 8, 103, 6134, 84, 15],\n",
              " [152, 2901, 297, 43, 732],\n",
              " [12, 1, 320, 73, 39],\n",
              " [1, 22, 8416, 38, 7424, 325, 5695, 2, 34],\n",
              " [77, 122, 119, 5696, 3595, 4, 5, 2625],\n",
              " [51, 14769, 6, 102, 217],\n",
              " [10, 9706, 267, 53, 1028],\n",
              " [98, 14, 26, 950, 8417, 3940, 142, 3596, 6, 6135],\n",
              " [5, 1142, 14770, 4917, 5, 1648],\n",
              " [1, 19, 31, 6136, 317, 2801],\n",
              " [48, 439, 2397, 15, 124, 180, 263],\n",
              " [144, 5, 2325, 103, 4, 110, 154, 109, 1203, 548, 171, 37],\n",
              " [18, 19, 37, 14771, 173, 3010],\n",
              " [1317, 10, 30, 1446, 17, 1349],\n",
              " [39, 825, 12, 5, 606, 96, 24, 162],\n",
              " [41, 19, 56, 6137],\n",
              " [3, 1093, 362, 1],\n",
              " [14772, 549, 17, 1946, 27, 5697, 14773, 1],\n",
              " [556, 14774, 1563, 11606],\n",
              " [9707, 133, 3276],\n",
              " [7, 4918, 14, 2802, 161, 16, 410],\n",
              " [1, 378, 475, 1350, 59, 550, 344],\n",
              " [46, 11607, 300, 139, 355, 3422, 8418, 21169, 7425, 4620],\n",
              " [64, 8419, 6, 6710, 30, 3597, 17, 6711, 9, 51, 64, 3941, 21170],\n",
              " [11, 2326, 7426, 21171, 348, 14775, 86, 21172],\n",
              " [192, 21173],\n",
              " [224, 1143, 794, 53, 9, 10, 97, 27, 275, 6, 2092],\n",
              " [38, 3750, 142, 5698],\n",
              " [28, 12, 67, 96, 3011, 96, 61, 1564, 941],\n",
              " [3746, 577, 21174],\n",
              " [1, 80, 161, 3942, 594],\n",
              " [1, 9708, 1405, 6, 11, 1851],\n",
              " [298, 21175, 70, 2626],\n",
              " [626, 3277, 15, 600, 59, 18, 134, 52],\n",
              " [101, 4158, 6, 14776, 6712, 9, 418, 6713],\n",
              " [1406, 531, 15, 14777, 556, 21176],\n",
              " [85, 1447, 20, 374, 5699, 273],\n",
              " [5, 5700, 176, 39, 5282, 12, 21177],\n",
              " [167, 4919, 839, 167, 1122, 281],\n",
              " [10, 97, 1732, 6, 177, 809],\n",
              " [10, 4621, 26, 2902, 29, 9709, 29, 172, 1064],\n",
              " [1065, 514, 3277, 1, 63, 15],\n",
              " [40, 1448, 1505, 9, 619],\n",
              " [21, 347, 21178, 1225, 4622, 369, 167, 975],\n",
              " [256, 60, 4623, 176, 5, 21179, 32, 5, 546, 11608],\n",
              " [330, 389, 1947, 22, 591],\n",
              " [298, 2398, 6, 342, 21180, 108],\n",
              " [203, 1, 4, 488, 219, 28, 12],\n",
              " [44, 742, 3, 42, 673, 1375],\n",
              " [1, 662, 14778],\n",
              " [141, 1565, 219, 141, 103],\n",
              " [532, 9, 14, 1649, 618, 5701, 2, 11, 312],\n",
              " [100, 8, 1688, 5, 2323],\n",
              " [7, 2903, 598, 1650, 11609, 21181, 13, 457, 21182],\n",
              " [7, 4624, 246, 1121, 83],\n",
              " [11, 5702, 2144, 191, 3751],\n",
              " [1, 215, 855, 34, 14779, 13, 5, 492, 364],\n",
              " [28, 18, 3943, 2, 2527],\n",
              " [21, 15, 299, 2, 3752, 749],\n",
              " [1, 9710, 154, 32, 795],\n",
              " [14, 26, 1204, 11610, 6, 291, 1240],\n",
              " [77, 276, 132, 24, 77, 18, 1893],\n",
              " [70, 11611, 129, 78, 253],\n",
              " [7, 68, 4920, 7, 326, 374, 91, 1733, 1001],\n",
              " [7, 213, 11612, 54, 23, 1152, 857, 21183],\n",
              " [104, 3144, 106, 2904, 6, 4377, 21184],\n",
              " [1, 741, 95, 68, 4159],\n",
              " [209, 113, 296, 39, 1295, 1734],\n",
              " [43, 1731, 639, 6, 78, 102, 9711, 302, 26, 3012],\n",
              " [1, 2, 366, 6, 2327],\n",
              " [1, 117, 1226, 126, 1566, 13, 134, 4, 5, 1351, 66, 198],\n",
              " [405, 39, 426, 120],\n",
              " [13, 498, 4160, 534, 14, 4378, 14780],\n",
              " [290, 1991, 115, 411],\n",
              " [1, 1894, 9712],\n",
              " [10, 97, 27, 3145, 6, 7427, 11, 3146, 29, 11, 7420],\n",
              " [3, 1205, 1852, 52, 5, 4379],\n",
              " [3, 189, 36, 344],\n",
              " [3423, 26, 988, 698, 6, 21185],\n",
              " [634, 9, 716, 11613],\n",
              " [171, 8, 73, 4, 578, 3424, 66, 198],\n",
              " [21, 78, 21186, 9, 15, 6138, 1066],\n",
              " [21187, 6, 7428, 1206, 11614],\n",
              " [707, 108, 248, 143, 21188],\n",
              " [341, 275, 314, 961, 4, 657, 45, 5, 14781, 32, 775, 275],\n",
              " [313, 1227, 345, 620],\n",
              " [3, 80, 57, 126, 432, 4, 3425, 71, 4380],\n",
              " [47, 1350, 71, 2399, 14782],\n",
              " [77, 171, 67, 2034, 48, 1097],\n",
              " [1, 18, 14779],\n",
              " [28, 6139, 67, 4, 753, 810],\n",
              " [7, 994, 114, 2905, 1992],\n",
              " [587, 1171, 7, 158, 372, 249],\n",
              " [23, 50, 21189, 1257, 900, 6714, 2328],\n",
              " [3278, 86, 1],\n",
              " [39, 12, 2, 1077, 21190, 45, 494],\n",
              " [7, 4381, 541, 2627, 1853, 7429],\n",
              " [21191, 369],\n",
              " [1, 188, 73, 256, 11615, 61, 3013],\n",
              " [14783, 12, 241, 24, 1123, 8, 2329],\n",
              " [7430, 1376, 11, 1153, 3598],\n",
              " [10, 22, 740, 90, 352],\n",
              " [40, 49, 1817, 6, 803, 6, 11, 4625, 155, 70, 14784],\n",
              " [10, 30, 97, 4161, 17, 214, 1064],\n",
              " [3, 151, 542, 44, 1788, 8, 39],\n",
              " [18, 1506, 20, 424],\n",
              " [10, 2330, 343, 29, 11616, 90, 352],\n",
              " [3, 175, 126, 1566, 13, 508, 6715],\n",
              " [1, 50, 272, 21192, 663],\n",
              " [3, 117, 72, 24, 18, 1052],\n",
              " [40, 49, 178, 2624, 1094, 619, 951],\n",
              " [7,\n",
              "  331,\n",
              "  284,\n",
              "  16,\n",
              "  2803,\n",
              "  229,\n",
              "  403,\n",
              "  199,\n",
              "  99,\n",
              "  69,\n",
              "  13,\n",
              "  37,\n",
              "  21193,\n",
              "  583,\n",
              "  68,\n",
              "  7,\n",
              "  303,\n",
              "  1144,\n",
              "  2804],\n",
              " [642, 9, 98, 142, 7431],\n",
              " [35, 8, 187, 76, 36],\n",
              " [537, 952, 82, 14, 16, 181, 2035],\n",
              " [2, 556, 1449, 21, 64, 463, 150, 3944],\n",
              " [3, 360, 6140],\n",
              " [5283, 23, 62],\n",
              " [10, 233, 9, 43, 292, 53, 9, 43, 766, 102],\n",
              " [9713, 69, 54, 20, 1, 272, 3279],\n",
              " [1, 189, 67, 42, 2093],\n",
              " [21, 976, 2464, 1616, 9, 22, 21194],\n",
              " [332, 607, 58, 100, 3147, 39, 301, 13, 5, 2528],\n",
              " [867, 32, 5, 6140, 908],\n",
              " [365, 1207, 5703],\n",
              " [21, 1993, 3280, 1405, 437, 815],\n",
              " [1, 21195, 74, 473, 95, 31],\n",
              " [21196, 64, 5284, 135, 1228],\n",
              " [878, 1993, 21197, 839, 55, 21198],\n",
              " [1, 186, 34, 453, 9714, 1507, 3599, 2199],\n",
              " [26, 1229, 21199, 26, 1689, 227, 11, 4626],\n",
              " [278, 1651, 3, 122, 2, 595, 4, 110, 4, 116, 209, 3, 117, 110],\n",
              " [717, 9, 3281, 716, 11617],\n",
              " [7, 68, 1, 13, 88, 1154, 14785, 466],\n",
              " [10, 30, 33, 572, 267, 1994],\n",
              " [1065, 377, 4, 153, 137, 176, 5, 825],\n",
              " [796, 21200],\n",
              " [11, 6716, 14, 2, 179, 3945, 27, 2400],\n",
              " [664, 2036, 11, 28, 1763, 767],\n",
              " [51, 422, 21201],\n",
              " [33, 349, 21202, 858, 14786],\n",
              " [1652, 45, 7432, 15, 113, 4, 35, 24],\n",
              " [58, 60, 3946, 407, 5, 11618],\n",
              " [108, 26, 21203],\n",
              " [27, 174, 43, 78, 11619],\n",
              " [1, 9715, 38, 21204, 6, 34, 167, 1617],\n",
              " [7, 128, 1241, 5285],\n",
              " [2465, 26, 302, 6, 9716],\n",
              " [2, 975, 1735, 15, 1995, 125, 11620],\n",
              " [1, 21, 1567, 191, 14787, 9, 6141, 2, 34, 9, 22, 5704],\n",
              " [33, 30, 3753, 17, 228, 1098],\n",
              " [28, 12, 797, 32, 134, 4, 7433, 39, 1789],\n",
              " [5, 762, 276, 15, 3, 122, 4, 635, 1450],\n",
              " [330, 350, 21205],\n",
              " [118, 3, 169, 35, 24],\n",
              " [1, 961, 237, 3947],\n",
              " [51, 1155, 14788, 53, 5286, 90, 22, 1790, 2466],\n",
              " [28, 1508, 608, 13, 5, 21206],\n",
              " [1, 93, 95, 249, 689, 3148, 13, 37, 4162],\n",
              " [25, 50, 37, 4627, 4382, 85, 8420],\n",
              " [43, 30, 292, 17, 11621, 7434],\n",
              " [25, 19, 21207],\n",
              " [962, 2094, 3754],\n",
              " [1, 367, 41, 68, 16, 995, 321, 168, 74, 804, 25, 2906, 11622],\n",
              " [98, 14, 1242, 6, 9717],\n",
              " [3, 215, 197],\n",
              " [7, 123, 25, 811],\n",
              " [81, 1349, 356, 9, 43, 1509, 538, 27, 591],\n",
              " [1, 300, 317, 21208, 4163],\n",
              " [9, 3014, 102, 90, 2704, 22, 21209],\n",
              " [14, 932, 16, 79, 181, 2803],\n",
              " [10, 159, 78, 102, 1791],\n",
              " [18, 107, 23, 13, 21210, 83, 335, 301, 31, 336],\n",
              " [11623, 161, 768, 93, 21211, 37, 8421],\n",
              " [51, 30, 22, 2628, 17, 228, 1053],\n",
              " [193, 3015, 383],\n",
              " [1, 87, 2, 166, 359],\n",
              " [887, 803, 6, 11, 4371],\n",
              " [22, 699],\n",
              " [207, 763, 50, 69, 56, 21212, 4383],\n",
              " [21, 9718, 202, 8422],\n",
              " [29, 342, 1099, 94, 433, 8423],\n",
              " [405, 5, 769, 329, 4, 8424, 2, 526],\n",
              " [21213, 7435, 54, 37, 321, 9719, 140, 37, 14789, 82],\n",
              " [77, 1451, 62, 6717],\n",
              " [609, 517, 22, 21214, 643, 2, 749],\n",
              " [163, 21215, 38, 2529],\n",
              " [46, 3948, 82, 79, 2805, 54, 41, 37, 4921, 21216],\n",
              " [10, 30, 266, 646, 178, 535, 707],\n",
              " [83, 161, 901, 56, 6718, 4164],\n",
              " [1, 82, 196, 9720],\n",
              " [21217, 7436, 9721],\n",
              " [44, 67, 52, 665, 429],\n",
              " [21218, 375, 9722],\n",
              " [14790, 281],\n",
              " [20, 156, 14, 1172],\n",
              " [7, 68, 56, 503, 25, 222, 6719, 273, 4922],\n",
              " [28, 12, 259, 6720, 4, 3600, 1854],\n",
              " [15, 4628, 9, 21219, 38, 3426],\n",
              " [7, 3282, 592, 305, 5705],\n",
              " [531, 55, 3283, 43, 2907],\n",
              " [4165, 23, 2331, 199, 7, 175, 594, 128],\n",
              " [2, 125, 1100, 64, 2467, 21220, 27, 11, 7437],\n",
              " [23, 19, 181, 2908, 8425, 543, 23, 2258, 907],\n",
              " [14, 82, 14791],\n",
              " [40, 2, 14792, 339, 5287, 155, 6, 1945],\n",
              " [723, 13, 1530, 1, 1377, 13, 5, 2332],\n",
              " [3, 151, 2629, 36, 472],\n",
              " [108, 164, 53, 8426, 253, 1],\n",
              " [1, 19, 56, 21221],\n",
              " [1065, 215, 542, 36],\n",
              " [298, 4629, 33, 4923],\n",
              " [111, 2, 1690],\n",
              " [7, 123, 16, 1012, 54, 829, 46, 232, 977, 145, 80, 3427, 2530, 316, 92, 741],\n",
              " [1, 225, 73, 417, 1736],\n",
              " [28, 662, 465, 32, 6142],\n",
              " [446, 1156, 3149, 859],\n",
              " [3, 14793, 2468, 5, 1378],\n",
              " [1, 210, 28, 274, 34, 18, 3949],\n",
              " [143, 49, 22, 1101, 5288, 846, 6143, 2401, 9723, 143, 1895, 6, 11, 4626],\n",
              " [3144, 310, 21222],\n",
              " [1, 5706, 61, 21223, 4, 584, 21224],\n",
              " [3, 847, 144, 1, 684, 34],\n",
              " [3, 47, 42, 2, 327, 810],\n",
              " [65, 1691, 922, 1141],\n",
              " [743, 1948, 9, 43, 4630, 953, 786, 356, 178, 2333],\n",
              " [3, 47, 42, 2, 440, 2095],\n",
              " [20, 156, 1949, 91, 495, 31, 107],\n",
              " [8, 42, 4, 57, 1996],\n",
              " [108, 22, 1896, 1013, 6, 4631, 6, 4166, 20, 8427],\n",
              " [337, 4924, 1258, 21, 28, 21225],\n",
              " [44, 5707, 4, 11624],\n",
              " [3, 669, 48, 1692],\n",
              " [113, 100, 58, 197, 1],\n",
              " [13, 2259, 241, 1950, 4, 15, 319, 73, 8, 4, 223, 840, 32, 48, 494],\n",
              " [311, 19, 149, 3428, 21226],\n",
              " [1591, 21227],\n",
              " [319, 73, 4, 110, 4, 2531, 9724],\n",
              " [1243, 6, 21228, 125, 5708, 634, 9, 21229, 11, 4632],\n",
              " [361, 30, 2469, 78, 2800],\n",
              " [2402, 1951, 20, 54, 46, 21230, 3284],\n",
              " [10, 159, 2333, 53, 1014],\n",
              " [59, 58, 4167, 137, 3429, 18, 24, 5, 2403, 122, 184, 14794],\n",
              " [40, 2, 2532, 70, 1428, 21231],\n",
              " [36, 12, 67, 2909, 45, 198, 4, 2705, 5, 978],\n",
              " [254, 2, 21232],\n",
              " [1, 93, 95, 4168, 2470, 410],\n",
              " [80, 8, 368, 15, 237, 127],\n",
              " [44, 149, 439],\n",
              " [1, 188, 76, 4, 37],\n",
              " [44, 441, 1897, 80, 35, 24],\n",
              " [365, 1318, 63, 6144],\n",
              " [290, 4925, 11625, 521, 140, 161],\n",
              " [60, 121, 314, 237, 2910, 6145],\n",
              " [1, 1693, 25, 2911, 21233],\n",
              " [8, 100, 524, 15, 264, 8, 73],\n",
              " [21, 11626, 38, 996],\n",
              " [112, 53, 1274, 17, 90, 22, 3016, 51, 30, 4926, 17, 1478, 20, 164],\n",
              " [3, 8428, 1097],\n",
              " [14, 5709, 7438, 396, 1531],\n",
              " [7439, 2, 1, 1568],\n",
              " [1, 55, 3950, 345, 26, 4927],\n",
              " [60, 8, 1618, 507, 124],\n",
              " [77, 18, 441, 5, 183, 18, 1788, 2, 1898],\n",
              " [2260, 1296, 6, 2901, 14795, 27, 9725, 6, 9726, 1319, 644],\n",
              " [79, 1379, 58, 293, 42, 282, 7440],\n",
              " [61, 2145, 18, 8429, 21234],\n",
              " [1, 2706, 54, 14, 2146, 82, 18, 7, 529, 68],\n",
              " [3, 100, 384, 548, 13, 2, 1378],\n",
              " [1, 1894, 91, 3601, 3150, 13, 5289],\n",
              " [204, 3755],\n",
              " [44, 333, 478, 3, 100, 4, 3147, 8430, 2, 658],\n",
              " [724, 8, 63, 3, 507],\n",
              " [1, 122, 770, 3755, 109, 120, 59, 122, 550],\n",
              " [826, 59, 1, 276, 198],\n",
              " [214, 1156, 49, 269],\n",
              " [59, 35, 8, 76, 15, 4, 203, 1],\n",
              " [1899, 1592, 88, 1737],\n",
              " [420, 471, 13, 48, 1738],\n",
              " [5, 263, 1997, 2, 1230],\n",
              " [44, 1532, 192, 2533],\n",
              " [442, 9, 21, 15, 21235],\n",
              " [143, 9, 53, 559, 1259, 1186, 178, 4169, 6, 129],\n",
              " [19, 160, 44, 1154, 242, 522, 5710, 1694],\n",
              " [536, 11627, 325, 954, 3951],\n",
              " [44, 134, 4, 5, 3602, 4, 35, 237, 1952],\n",
              " [6721, 1953, 13, 5, 338, 1380],\n",
              " [218, 2, 963, 22, 2707],\n",
              " [5290, 767, 6, 9, 1646, 21236, 281],\n",
              " [39, 1452, 8431, 15, 32, 751],\n",
              " [901, 23, 146, 83, 92],\n",
              " [3, 47, 375, 3952],\n",
              " [38, 3756, 1067, 34, 94, 218, 7441, 1764, 2, 11, 3285],\n",
              " [14796, 29, 51],\n",
              " [7, 287, 161, 305, 79, 85, 1, 6722],\n",
              " [192, 62, 7442],\n",
              " [44, 742, 32, 7443],\n",
              " [5711, 9, 125, 21237, 6, 21238, 3017, 916, 6146],\n",
              " [14, 534, 246, 56, 2806, 222],\n",
              " [108, 70, 8432, 3953],\n",
              " [1, 496, 16, 2534, 782, 512, 4162],\n",
              " [108, 21239, 6, 446, 698, 6, 356, 129],\n",
              " [10, 1446, 253, 9, 10, 2037, 17, 1998],\n",
              " [217, 30, 470, 17, 449, 2535],\n",
              " [111, 126, 7444],\n",
              " [1002, 15, 775, 3954],\n",
              " [58, 6723, 2, 251],\n",
              " [10, 1792, 3430],\n",
              " [47, 1350, 24, 1, 314, 1739, 8],\n",
              " [1954, 26, 640],\n",
              " [3, 421, 57, 3018, 241],\n",
              " [7, 381, 92, 289, 5712],\n",
              " [28, 684, 24, 3431, 1336, 126, 238],\n",
              " [150, 974, 1619, 14, 191, 14797, 9, 150, 9727, 1619],\n",
              " [1, 87, 184, 124, 66, 34, 358, 1015],\n",
              " [48, 4928, 12, 14798],\n",
              " [28, 18, 1793, 13, 5, 82],\n",
              " [21240, 664, 14799],\n",
              " [39, 12, 2, 1653, 11628],\n",
              " [144, 8, 151, 627, 111, 67, 48, 3019],\n",
              " [108, 26, 538, 9728],\n",
              " [1, 318, 4, 2, 827, 11629, 278, 1320],\n",
              " [51, 353, 3432, 11, 6724],\n",
              " [43, 14, 8433],\n",
              " [254, 157, 256, 205, 124],\n",
              " [1, 5291, 74, 804, 88, 6147, 3757, 173],\n",
              " [40, 2, 11630, 690],\n",
              " [33, 632, 1695, 6, 3433, 64, 4929, 725, 6, 2261, 22, 1696, 7445, 2199],\n",
              " [33, 1054, 17, 14800, 88, 482, 112, 33, 30, 22, 1429, 17],\n",
              " [798, 3281, 11631, 21241],\n",
              " [2536, 1240],\n",
              " [628, 2537, 21242, 9729],\n",
              " [52, 253, 194, 2, 174, 2807, 130, 22, 21243],\n",
              " [3, 274, 319, 669, 48, 2147],\n",
              " [3, 105, 24, 28, 12, 308],\n",
              " [14, 2404, 165, 410, 272, 2538, 3955],\n",
              " [104, 1244, 230, 14801, 130, 212, 3286, 6, 8434],\n",
              " [3, 360, 1231, 3956],\n",
              " [36, 12, 733, 28, 12, 3603, 24, 3, 9730, 132],\n",
              " [10, 292, 1955, 53, 9, 10, 1187],\n",
              " [113, 1379, 100, 8, 4384, 71, 2539, 137, 71, 4633],\n",
              " [1990, 5, 301, 225, 322],\n",
              " [64, 3434, 21244, 17, 1900],\n",
              " [3, 72, 365, 5, 162, 206, 118, 36],\n",
              " [156, 20, 75, 69, 1956],\n",
              " [1, 19, 4634],\n",
              " [40, 49, 3604, 6, 4930, 4170, 8435],\n",
              " [1, 4931, 5, 7446],\n",
              " [285, 4635, 27, 11, 21245, 14802],\n",
              " [1, 3287, 74, 14803],\n",
              " [81, 234, 21246],\n",
              " [620, 9731, 348, 1892, 1258, 21247, 425, 125, 4385, 21248, 86, 38, 14804],\n",
              " [11632, 499, 28, 1102, 154, 4, 57, 2, 3957],\n",
              " [1, 816, 262],\n",
              " [11633, 21249, 2, 1297, 3758],\n",
              " [3, 519, 3949],\n",
              " [647, 71, 197, 3, 42, 21, 595],\n",
              " [1, 12, 67, 399, 499],\n",
              " [350, 22, 538, 1957, 2334, 8436, 21250],\n",
              " [1, 2262, 34, 1510, 5, 21251],\n",
              " [11, 14805, 6, 3435, 3436, 297, 9732, 6725],\n",
              " [21, 14806, 21252],\n",
              " [86, 152, 21, 419, 14807, 94, 89, 6726],\n",
              " [51, 422, 14808, 6, 33, 489],\n",
              " [3, 105, 24, 111, 764, 4, 203, 5, 888],\n",
              " [33, 3759, 787, 22, 356, 135, 979],\n",
              " [3760, 310, 3605],\n",
              " [1, 4386, 74, 69, 37, 708, 31, 860],\n",
              " [1245, 14, 38, 21253],\n",
              " [1, 50, 1620, 44, 9733],\n",
              " [37, 5713, 1352, 752, 1789, 316, 136, 21254],\n",
              " [3, 47, 201, 277, 329, 32, 8437, 1, 176, 333, 24],\n",
              " [8, 421, 42, 1765, 6727, 3958, 84, 8, 109, 5, 127],\n",
              " [286, 1511, 148, 9734, 115, 21255],\n",
              " [1, 631, 2, 3959, 3761],\n",
              " [1143, 27, 3288],\n",
              " [569, 1569, 1512, 7436, 9, 419, 14809, 1337, 2540, 4932, 1593],\n",
              " [1, 560, 2, 402, 718, 5, 364],\n",
              " [35, 8, 105, 1, 171, 73, 4, 110, 2471, 66, 198, 492, 1320],\n",
              " [21256, 2, 5292, 9721],\n",
              " [5, 397, 1480, 103, 126, 9735],\n",
              " [1, 188, 566, 113, 4, 744, 2, 1188],\n",
              " [3, 47, 519, 73, 333, 36, 344],\n",
              " [3151, 4, 676],\n",
              " [10, 97, 2038, 27, 14810],\n",
              " [342, 49, 446, 7447, 21257],\n",
              " [171, 8, 240, 11634, 71, 2472],\n",
              " [8, 47, 3960, 124],\n",
              " [155, 11, 14811, 40, 11635, 29, 70, 1156],\n",
              " [15, 6728, 2473, 9, 14812],\n",
              " [86, 408, 14813, 2, 150, 2096],\n",
              " [224, 1448, 21258, 17, 302, 6729],\n",
              " [240, 1690, 765, 185, 35, 24, 383],\n",
              " [7, 8438, 245, 54, 23, 1381, 4636],\n",
              " [44, 79, 432, 192, 124],\n",
              " [36, 12, 126, 1697],\n",
              " [879, 1850, 1],\n",
              " [1, 122, 21, 250, 4, 776, 45, 2, 6730],\n",
              " [118, 8, 153, 241, 4, 375],\n",
              " [46, 1999, 19, 9736, 148, 46, 1353],\n",
              " [2094, 1122, 191, 21259],\n",
              " [170, 118, 5, 2148, 933, 82, 1208],\n",
              " [3, 76, 4, 2200, 5, 7448, 3762],\n",
              " [1, 21, 2912, 9, 2149, 4933],\n",
              " [1, 21260, 137, 5, 14814, 625, 45, 5, 6148, 2541, 6149],\n",
              " [14, 82, 1, 46, 95, 21261, 50],\n",
              " [109, 3, 42, 12, 980],\n",
              " [1227, 6, 611, 837, 3152, 14, 3961, 94, 125, 2405, 9737],\n",
              " [36, 117, 257, 45, 15, 1901],\n",
              " [1621, 161, 1570],\n",
              " [3606, 98, 5714, 38, 9738],\n",
              " [152, 2913, 6, 21262, 14, 43, 6150],\n",
              " [6, 8439, 1016, 55, 14815, 786, 6731],\n",
              " [104, 243, 174, 1791],\n",
              " [3020, 23, 290, 21263, 16, 14816, 11636, 173],\n",
              " [2097, 1453, 6732, 5715],\n",
              " [150, 8422, 55, 11637, 325, 3289],\n",
              " [10, 821, 174, 90, 352],\n",
              " [870, 1533, 158, 19, 387, 91, 1103, 31, 14817, 2708],\n",
              " [143, 964, 26, 4171, 6, 3153],\n",
              " [1, 297, 101, 9739, 226, 6151],\n",
              " [6733, 2, 14818, 6, 2542, 9740, 21264],\n",
              " [659, 2, 1430, 2630, 52, 132],\n",
              " [59, 8, 42, 210, 9741, 293, 4, 3607, 1765],\n",
              " [21, 3154, 268, 1534],\n",
              " [1, 962, 21, 55, 306, 1855, 9, 142, 27, 1902],\n",
              " [44, 441, 24, 3, 378, 57, 96, 700, 429, 96, 3, 18, 344],\n",
              " [7, 123, 88, 1188, 16, 3155],\n",
              " [40, 685, 2, 17, 6, 7449, 6, 5716],\n",
              " [1, 50, 612, 483],\n",
              " [21265, 63, 14819, 9742, 82],\n",
              " [35, 36, 308, 190, 362, 8, 1350],\n",
              " [150, 2709, 14, 518, 1513],\n",
              " [2710, 11638, 634, 27, 312],\n",
              " [10, 30, 97, 17, 9743, 29, 2039],\n",
              " [65, 273, 23, 13, 1407, 21266, 1958, 11639],\n",
              " [21, 2914, 21267, 6, 131, 2040],\n",
              " [265, 1535, 1203, 13, 116],\n",
              " [7, 68, 160, 1001, 3763],\n",
              " [3, 47, 72, 206, 24, 21268, 12],\n",
              " [405, 5, 871, 32, 1068, 124],\n",
              " [1, 754, 57, 2150, 190],\n",
              " [3, 189, 4, 2090, 48, 1232],\n",
              " [204, 184, 923, 52, 39, 45, 169, 45, 2, 1654, 32, 726],\n",
              " [7, 1044, 7, 326, 56, 5717, 629],\n",
              " [87, 6734, 150, 3290, 6, 3156],\n",
              " [3157, 396, 1766, 3021, 93, 3764, 115, 21269, 4637],\n",
              " [15, 5718, 38, 6152, 14820],\n",
              " [1, 87, 2, 21270, 8440],\n",
              " [48, 439, 14821, 15],\n",
              " [2915, 510, 99, 2474],\n",
              " [108, 3291, 6, 412, 989],\n",
              " [304, 208, 2000],\n",
              " [3, 122, 5, 2808, 2098, 48, 3158],\n",
              " [3, 276, 1, 478],\n",
              " [42, 5, 756, 184, 1034],\n",
              " [101, 4638, 21271, 15, 6735, 427, 2, 11, 1794, 2, 21272],\n",
              " [28, 18, 2543, 13, 1536, 32, 15],\n",
              " [1, 19, 1903, 31, 372],\n",
              " [21273, 14822, 2916, 613, 344, 84, 5, 1818, 32, 21274],\n",
              " [5, 872, 87, 2, 4387],\n",
              " [405, 71, 1124, 3437],\n",
              " [23, 9744, 37, 1454],\n",
              " [4388, 9, 646, 1173],\n",
              " [40, 1274, 17, 2041, 9, 33, 21275],\n",
              " [1, 2, 2631, 476, 9745, 21276, 40, 94, 2, 619, 951],\n",
              " [3, 2544, 144, 28, 80, 2809],\n",
              " [111, 120, 282, 9746, 13, 21277],\n",
              " [58, 221, 6736, 1, 2, 2475],\n",
              " [1, 19, 584, 14823],\n",
              " [33, 632, 26, 11640, 14824],\n",
              " [23, 2476, 3022, 411, 11641, 31, 3023],\n",
              " [10,\n",
              "  292,\n",
              "  9,\n",
              "  43,\n",
              "  30,\n",
              "  740,\n",
              "  21278,\n",
              "  6,\n",
              "  1686,\n",
              "  26,\n",
              "  1647,\n",
              "  6,\n",
              "  1404,\n",
              "  186,\n",
              "  10,\n",
              "  734,\n",
              "  97,\n",
              "  4389],\n",
              " [37, 21279, 19, 2201],\n",
              " [10, 78, 9747, 3599, 1790],\n",
              " [14825, 14826, 247, 14827, 20, 21280, 27, 2531, 27, 14828],\n",
              " [3, 571, 4, 400, 120, 1],\n",
              " [113, 358, 2632, 63, 2810, 296, 1, 42],\n",
              " [86, 152, 14, 437, 14829],\n",
              " [1,\n",
              "  2,\n",
              "  253,\n",
              "  29,\n",
              "  34,\n",
              "  194,\n",
              "  6737,\n",
              "  2406,\n",
              "  21281,\n",
              "  2477,\n",
              "  4639,\n",
              "  29,\n",
              "  70,\n",
              "  5716,\n",
              "  14830,\n",
              "  2711,\n",
              "  11642,\n",
              "  302,\n",
              "  1099],\n",
              " [12, 39, 3159, 250],\n",
              " [335, 11643, 19, 289, 140, 88, 14831, 21282, 2042],\n",
              " [313, 21283, 101, 1740, 167, 2712, 2, 179, 2713],\n",
              " [350, 2001, 208, 21284],\n",
              " [18, 917, 20, 229],\n",
              " [3, 76, 4, 72, 59, 8, 118, 39, 1651],\n",
              " [20, 1506, 160, 1655],\n",
              " [3, 200, 126, 3949],\n",
              " [40, 3292, 164, 133, 1856, 846, 9748, 6, 14832],\n",
              " [1104, 143, 22, 21285],\n",
              " [3, 42, 2, 3438],\n",
              " [3765, 3962, 142, 21286, 6, 4172, 1337, 370, 38, 1622],\n",
              " [430, 15, 205, 407],\n",
              " [1, 3287, 74, 9749, 7450],\n",
              " [10, 97, 6153, 29, 4173],\n",
              " [1, 684, 61, 551],\n",
              " [211, 21287, 20, 69],\n",
              " [1455, 20, 16, 530, 91, 857, 901, 315],\n",
              " [2714, 4640, 103, 6154, 13, 5, 278, 3963],\n",
              " [8441, 59, 8, 295, 3, 47, 542, 8],\n",
              " [40, 2, 787, 3024, 130, 212, 1233],\n",
              " [28, 4934, 282, 1015, 216, 220, 3, 35],\n",
              " [28, 117, 42, 96, 238, 1234, 7451, 2, 359, 96, 28, 274, 28, 171],\n",
              " [118, 141, 110, 4, 5, 6155],\n",
              " [40, 15, 3025, 53, 9, 1189, 174],\n",
              " [1, 50, 95, 16, 3766, 211, 41, 25, 529, 50],\n",
              " [81, 21288, 64, 8442, 6156, 10, 64, 572, 21289],\n",
              " [59, 757, 100, 3, 35],\n",
              " [44, 79, 6157],\n",
              " [21, 21290, 27, 9, 2405, 78, 14833],\n",
              " [561, 796, 2043],\n",
              " [157, 35, 8, 105, 1, 188, 73, 36],\n",
              " [2202, 527, 78, 965],\n",
              " [1945, 21291, 1904, 22, 4174],\n",
              " [5, 21292, 18, 166],\n",
              " [21, 15, 347, 4641, 281],\n",
              " [77, 188, 73, 4, 1819, 2203, 3767],\n",
              " [150, 732, 2044, 2715, 1003, 815, 86, 11, 902],\n",
              " [741, 69, 309, 46, 2633, 19],\n",
              " [436, 20, 16, 1275, 594],\n",
              " [1, 50, 473, 18, 3964, 529],\n",
              " [40, 1514, 133, 239, 29, 2039, 476, 21293],\n",
              " [1, 12, 282, 443, 1564, 220, 34, 12],\n",
              " [3, 47, 201, 238, 32, 132],\n",
              " [425, 1246, 14834, 14835, 202, 1537, 101, 477, 202, 1622],\n",
              " [41, 3026, 69, 286, 11644],\n",
              " [129, 4935, 228, 195, 90, 104],\n",
              " [7, 1145, 161, 85, 92, 804],\n",
              " [1, 11645, 6, 30, 267, 6732, 217],\n",
              " [104, 49, 5293],\n",
              " [21, 337, 2464, 1616],\n",
              " [152, 14836],\n",
              " [47, 2329, 84, 132, 45, 1618, 2, 1235],\n",
              " [44, 84, 252, 770, 385, 464],\n",
              " [110, 2090, 71, 1334],\n",
              " [212, 3965, 21294, 49, 228, 5719],\n",
              " [7, 3608, 289, 199, 7, 2002, 68],\n",
              " [33, 1538, 9750, 701, 9, 33, 7452],\n",
              " [204, 567, 2204, 282, 980],\n",
              " [7, 614, 16, 1012, 18, 7, 483, 68],\n",
              " [1, 367, 272, 702, 14837],\n",
              " [304, 208, 357, 4642],\n",
              " [29, 342, 1099, 21295, 6, 6733, 1186, 5294],\n",
              " [95, 539, 2545, 16, 37, 85, 1, 3609],\n",
              " [3, 105, 24, 36, 18, 1, 206, 118, 24],\n",
              " [1, 583, 16, 231, 966, 7453],\n",
              " [817, 7, 92, 168, 5295, 709, 3439],\n",
              " [3, 727, 9751, 5, 2335, 649],\n",
              " [157, 724, 1, 63, 34, 124],\n",
              " [11, 9752, 142, 3966],\n",
              " [22, 21296, 247, 786, 21297],\n",
              " [108, 195, 90, 70, 2336, 7454],\n",
              " [24, 526, 12, 187, 5720],\n",
              " [1512, 14838, 6, 1297, 3758],\n",
              " [1, 63, 34, 666, 2200, 525, 14839, 45, 1157],\n",
              " [306, 1, 158, 3610, 601, 4936, 65, 1321, 83, 165, 31, 3160],\n",
              " [1, 12, 1767, 8443],\n",
              " [350, 194, 94, 2, 70, 21298, 6, 9753, 1623, 14840],\n",
              " [332, 430, 14841, 57, 14841],\n",
              " [14, 82, 91, 922, 93, 6158, 1035],\n",
              " [111, 67, 625, 166],\n",
              " [286, 9754, 115, 13, 46, 3161, 4390, 1209],\n",
              " [7, 1481, 290, 1158, 9755, 4937, 4643],\n",
              " [10, 15, 1482, 1623, 6, 11, 2546],\n",
              " [212, 2634, 7455, 78, 299, 228, 195],\n",
              " [35, 8, 72, 5, 1408, 157, 5, 2198, 662, 2337],\n",
              " [1951, 20, 410, 54, 183, 13, 396, 4938, 5296, 387, 594, 788, 123],\n",
              " [169, 154, 32, 11646, 59, 35, 8, 1698, 4, 719],\n",
              " [3440, 835, 183, 25, 148, 21299, 4175],\n",
              " [1, 19, 56, 21300],\n",
              " [10, 279, 1354, 21301, 6, 78, 102, 20, 222],\n",
              " [207, 783, 19, 62, 6159, 2263],\n",
              " [65, 486, 1407, 1335, 168, 689, 3768, 11647],\n",
              " [77, 1997, 132, 562],\n",
              " [1409, 1, 117, 201, 34],\n",
              " [1, 2, 889, 70, 4939, 6738],\n",
              " [1, 142, 7456],\n",
              " [2811, 328, 4391, 86, 6739],\n",
              " [2407, 482, 9756],\n",
              " [7, 128, 789, 6740, 18, 1431, 7, 307, 4644],\n",
              " [10, 33, 97, 8444, 90, 214, 3967],\n",
              " [52, 30, 981, 267, 53, 9, 11, 809, 51, 9757],\n",
              " [40, 698, 29, 1382, 29, 1857, 841],\n",
              " [24, 18, 2, 166, 127],\n",
              " [10, 30, 740, 17, 53, 3749],\n",
              " [703, 910, 1, 93, 95, 869, 1959],\n",
              " [12, 5, 942, 774, 4, 5, 2151],\n",
              " [1004, 1564, 220, 1],\n",
              " [13, 2, 1483, 44, 134, 4, 203, 8, 48, 551, 1295],\n",
              " [10, 97, 5297, 808, 2099],\n",
              " [21, 14, 6741, 1297, 1432],\n",
              " [152, 2913, 6, 1146, 21302, 27, 43, 6742],\n",
              " [10, 515, 2635, 21303, 354, 239],\n",
              " [28, 12, 166, 84, 11648, 5298, 21304, 1383],\n",
              " [1, 93, 95, 5299, 74, 260, 31, 11649],\n",
              " [3, 2812, 1, 4, 1174],\n",
              " [1, 15, 4645],\n",
              " [157, 60, 8, 79, 2636, 4, 400, 4, 132],\n",
              " [14, 50, 612, 2547, 74, 307, 959, 3441, 31, 351],\n",
              " [3, 47, 72, 219, 193, 513],\n",
              " [7, 68, 14, 69, 11650],\n",
              " [65, 115, 246, 181, 2908],\n",
              " [1, 384, 472, 61, 3769],\n",
              " [1571, 830, 14842],\n",
              " [4940, 21305, 5, 1572, 11651],\n",
              " [1, 50, 14, 74, 83, 136, 2548, 7457, 529],\n",
              " [1, 12, 126, 873, 63, 365, 1318],\n",
              " [15, 3281, 2003, 11, 3751, 86, 408],\n",
              " [1, 434, 3162, 32, 5, 1854],\n",
              " [1456, 14843, 22, 2152],\n",
              " [142, 27, 11, 1740],\n",
              " [1, 367, 14, 95],\n",
              " [304, 55, 21306, 6, 21307, 7458],\n",
              " [3, 110, 4, 257, 180, 263, 385, 258],\n",
              " [34, 12, 126, 818],\n",
              " [1, 49, 11652, 636, 2716],\n",
              " [254, 67, 62, 921, 21308],\n",
              " [41, 21309, 324, 812, 495, 391],\n",
              " [46, 1768, 563, 6160, 56, 3442, 6743],\n",
              " [28, 660, 2, 14844, 9758, 32, 5, 874],\n",
              " [1403, 23, 270, 18, 23, 376, 107],\n",
              " [163, 458, 1067, 1593, 27, 38, 11653, 4941, 2917, 5721],\n",
              " [41, 14845, 145, 629, 246, 8445, 83],\n",
              " [28, 2813, 5, 1769, 4646, 790],\n",
              " [3278, 281, 1003, 9, 98, 5300, 86, 408],\n",
              " [10, 30, 233, 17, 9, 53, 559, 615, 875, 3770],\n",
              " [87, 784, 475, 276, 8, 24, 8, 42, 818, 1820],\n",
              " [561, 9759, 6161],\n",
              " [118, 8, 509, 2, 526],\n",
              " [219, 118, 8, 1005, 4, 1174],\n",
              " [3, 274, 24, 8, 103, 134, 4, 657, 45, 15],\n",
              " [3, 76, 4, 110, 154, 1298],\n",
              " [521, 14846, 182, 16, 484, 1899, 123, 161, 1069],\n",
              " [113, 358, 4392, 80, 8, 488],\n",
              " [25, 6744, 91, 1858],\n",
              " [81, 955, 842],\n",
              " [1, 3027, 3163, 28, 434, 608],\n",
              " [7, 334, 25, 1, 2549],\n",
              " [36, 12, 990, 45, 15, 4, 153, 137, 362, 1190],\n",
              " [391, 336, 41, 702, 56, 1322, 1656],\n",
              " [110, 154, 63, 578],\n",
              " [652, 6745, 2550, 1],\n",
              " [1, 55, 8446, 21310],\n",
              " [886, 458, 1594, 21311],\n",
              " [232, 645, 19, 181, 9760],\n",
              " [163, 348, 650, 226, 21312],\n",
              " [703, 1070, 20, 579, 1, 6746],\n",
              " [3, 600, 59, 8, 2637],\n",
              " [1, 80, 185, 566, 157, 58, 76, 132, 4, 35, 39],\n",
              " [1, 19, 140, 99, 2717, 181, 9719],\n",
              " [254, 67, 5, 329, 3, 201, 36],\n",
              " [5, 183, 18, 468, 4, 11654, 39, 465, 32, 4942],\n",
              " [1, 447, 4393],\n",
              " [21313, 106, 9761],\n",
              " [43, 96, 6162, 70, 3164, 2205],\n",
              " [298, 868, 230, 1948, 9, 10, 2396, 11, 677, 21314],\n",
              " [43, 9762, 212, 6163, 1457],\n",
              " [41, 4647, 37, 11655, 31, 21315, 869],\n",
              " [81, 3432, 130, 172, 11656, 90, 354, 294, 29, 15, 2100],\n",
              " [170, 60, 8, 1068, 252, 344],\n",
              " [1, 3, 76, 4, 488, 66, 8],\n",
              " [7, 1044, 14, 11657, 91, 4176, 85, 7, 92, 160, 21316, 1741, 682],\n",
              " [1, 276, 34, 24, 28, 18, 3159],\n",
              " [152, 2814, 112, 14847, 328, 4177],\n",
              " [14848, 21317, 7459, 13, 14849, 56],\n",
              " [3, 189, 4, 223, 2, 2153],\n",
              " [3, 318, 2150, 13, 5, 1260],\n",
              " [192, 2, 1458, 190],\n",
              " [1, 1539, 75, 735, 1484, 114, 7460, 3611],\n",
              " [37, 3612, 9763],\n",
              " [1, 63, 34, 360, 688, 417],\n",
              " [350, 310, 1856],\n",
              " [478, 318, 653],\n",
              " [7, 994, 196, 139, 1853, 321],\n",
              " [215, 8, 6164, 24, 240],\n",
              " [44, 890, 3, 434, 596, 4, 201, 8, 170, 8, 571, 180, 344],\n",
              " [33, 1538, 1105, 269, 955, 1036],\n",
              " [1, 4178, 236, 385, 258],\n",
              " [7, 539, 207, 8447],\n",
              " [3, 72, 745, 184, 9764, 15],\n",
              " [5301, 1261, 11658, 11659, 21, 14, 1066],\n",
              " [46, 942, 19, 1515],\n",
              " [657, 157, 175, 3, 1788, 8, 39],\n",
              " [10, 159, 1105, 269, 53, 943],\n",
              " [2815, 60, 8, 1],\n",
              " [1426, 82, 522, 91, 14850],\n",
              " [1106, 2918, 29, 22, 14851],\n",
              " [193, 57, 2533, 124, 45, 282, 726],\n",
              " [1104, 9, 43, 3443, 20, 14852],\n",
              " [40, 94, 2, 758, 366, 6, 9765, 29, 1770, 20, 6165, 6, 1],\n",
              " [332, 67, 21318],\n",
              " [8448, 2206, 2919, 768, 75, 900, 21319, 13, 5302],\n",
              " [1, 49, 2638, 1595],\n",
              " [28, 100, 35, 264, 28, 11660, 61, 670, 4],\n",
              " [14853, 16, 75, 1],\n",
              " [1159, 200, 282, 21320, 21321],\n",
              " [60, 8, 119, 831],\n",
              " [107, 23, 25, 481, 5722],\n",
              " [35, 8, 223, 21322],\n",
              " [358, 494, 84, 39, 363, 60, 21323],\n",
              " [51, 21324, 1],\n",
              " [1, 186, 721, 1355, 227, 11, 549, 9766, 1624],\n",
              " [3, 105, 1, 12, 126, 3011],\n",
              " [170, 118, 8, 153, 121],\n",
              " [319, 73, 4, 460, 66, 8, 13, 5303],\n",
              " [70, 1625, 29, 248, 1596, 55, 944, 130, 64, 8449, 21325, 155, 248],\n",
              " [580, 299, 2, 5723, 6, 1297, 945],\n",
              " [14, 182, 1905, 321, 11661],\n",
              " [7, 8438, 245, 54, 20, 1, 21326],\n",
              " [175, 9767, 6166, 183, 75, 136, 3165],\n",
              " [152, 78, 458, 9768],\n",
              " [652, 178, 535],\n",
              " [256, 3293, 84, 132],\n",
              " [77, 80, 57, 124, 362, 338],\n",
              " [36, 3294, 1410, 15, 48, 551],\n",
              " [350, 9, 43, 8450, 20, 4179],\n",
              " [7, 128, 14, 16, 2920, 991, 1699, 31, 249],\n",
              " [40, 78, 520, 26, 6747],\n",
              " [64, 9769, 21327],\n",
              " [3166, 9, 43, 14, 27, 275, 11662, 129, 527, 78, 965],\n",
              " [7, 1374, 1381],\n",
              " [36, 662, 73, 1, 1107, 4, 488],\n",
              " [58, 103, 21328, 180, 5, 6748, 32, 5, 9770, 21329, 84, 6749],\n",
              " [5, 3167, 1108, 12, 169, 2478, 176, 5, 1210],\n",
              " [58, 4180, 8, 4, 1795, 4, 198, 383],\n",
              " [58, 2718, 96, 6167, 96, 58, 215],\n",
              " [51, 353, 174, 22, 538, 2719],\n",
              " [10, 1906, 230, 269],\n",
              " [3, 360, 5, 750, 9771],\n",
              " [3, 274, 319, 295, 4648, 4, 1],\n",
              " [10, 30, 97, 343, 17, 228, 538, 27, 591],\n",
              " [21330, 135, 1540],\n",
              " [58, 42, 2, 251, 32, 1485, 127, 39, 603],\n",
              " [206, 1960, 39],\n",
              " [28, 122, 8451, 237, 21331],\n",
              " [36, 434, 921, 45, 15, 4, 659, 48, 1690],\n",
              " [106, 21332, 21333, 21334, 453, 234, 21335, 29, 5304],\n",
              " [21336],\n",
              " [664, 5724, 142, 138, 21337],\n",
              " [7, 1078, 54, 1, 25, 146, 16, 2921],\n",
              " [532, 9, 621, 4181],\n",
              " [40, 21338, 133, 1953],\n",
              " [5, 14854, 5, 3028, 5, 21339, 5, 21340, 21341, 60, 1034, 1796, 7461],\n",
              " [634, 26, 2922, 6, 386],\n",
              " [1, 50, 74, 91, 1541, 7462, 967],\n",
              " [109, 32, 48, 1480, 76, 4, 1005, 236],\n",
              " [621, 2, 408, 839, 27, 2816, 6, 11, 2797],\n",
              " [10, 30, 97, 1017, 17, 228, 2101],\n",
              " [10, 30, 1079, 17, 9, 33, 1700, 112, 14855],\n",
              " [98, 299, 138, 4943, 2, 2639],\n",
              " [143, 49, 446, 135, 3444, 21342],\n",
              " [1486, 9, 21, 1260, 1],\n",
              " [58, 47, 72, 119],\n",
              " [65, 992, 391, 911, 37, 65, 8452, 315],\n",
              " [3, 18, 169, 9772],\n",
              " [1, 14, 26, 8453, 21343],\n",
              " [175, 21344, 534, 14, 303, 21345],\n",
              " [3, 631, 9773],\n",
              " [10, 30, 159, 604, 17, 9, 33, 21346],\n",
              " [7, 1006, 75, 924, 1484, 311, 2045, 13, 88, 2817],\n",
              " [3, 221, 185, 42, 880, 1450],\n",
              " [81, 2338, 6, 30, 17, 2640],\n",
              " [35, 8, 42, 2, 3968],\n",
              " [23, 2641, 75, 911, 1516, 21347],\n",
              " [1, 63, 34, 47, 1226, 259, 432],\n",
              " [10, 30, 266, 33, 4944],\n",
              " [8, 210, 79, 1055],\n",
              " [298, 470, 997, 214, 3168],\n",
              " [81, 343, 3169, 53, 1014],\n",
              " [1, 49, 395, 29, 2551, 987],\n",
              " [1, 19, 5725, 93, 50, 25, 1650, 106, 4945, 11663],\n",
              " [89, 1262, 27, 179, 3969],\n",
              " [313, 1356, 112, 968, 2, 716, 2043, 577],\n",
              " [25, 3970, 2479, 16, 260],\n",
              " [1186, 21348],\n",
              " [10, 14856, 135, 269],\n",
              " [699, 1122, 138, 1246],\n",
              " [40, 2, 174, 4182, 339, 2207],\n",
              " [1456, 354, 294, 6, 5305, 29, 11664],\n",
              " [51, 353, 6132, 686, 595],\n",
              " [163, 22, 6712, 101, 2036, 6, 131, 8454],\n",
              " [3, 18, 1384, 180, 5, 581],\n",
              " [21349, 60, 1056, 45, 256, 206, 187, 73, 21350],\n",
              " [296, 71, 1961, 73, 2335],\n",
              " [30, 1133, 17, 6, 248],\n",
              " [53, 1771, 21351],\n",
              " [8, 777, 6168],\n",
              " [86, 408, 21352, 555, 21353],\n",
              " [23, 273, 181, 2339, 145],\n",
              " [47, 283, 15, 524, 8, 383],\n",
              " [925, 2264, 3747],\n",
              " [9774, 6, 357, 590, 5306],\n",
              " [14857, 7463, 31, 21354, 1411, 321],\n",
              " [14858, 235],\n",
              " [7, 714, 25, 891, 20],\n",
              " [3771, 310, 14859, 186, 299, 178, 1338],\n",
              " [39, 2923, 225, 96, 166, 96, 61, 278, 162],\n",
              " [35, 8, 76, 4, 2924],\n",
              " [237,\n",
              "  256,\n",
              "  3613,\n",
              "  36,\n",
              "  2,\n",
              "  2480,\n",
              "  32,\n",
              "  127,\n",
              "  4,\n",
              "  881,\n",
              "  3295,\n",
              "  1045,\n",
              "  96,\n",
              "  21355,\n",
              "  21356,\n",
              "  63,\n",
              "  9775],\n",
              " [1, 12, 2, 126, 6750, 728],\n",
              " [879, 109, 8455],\n",
              " [740, 21357, 858, 43, 968, 21358, 11, 2626, 6, 5716],\n",
              " [11665, 99, 612, 2633],\n",
              " [29, 177, 2208, 104, 247, 21359],\n",
              " [7, 128, 16, 149, 21360],\n",
              " [3, 1377, 52, 2, 3971],\n",
              " [4649, 81, 7464, 164, 14860],\n",
              " [41, 5726, 74, 13, 355, 8456, 503],\n",
              " [7, 287, 160, 37, 1080, 1741],\n",
              " [1, 1596, 64, 14861],\n",
              " [2265, 290, 4946, 2004, 88, 6169],\n",
              " [11666, 2552, 6, 312, 14862],\n",
              " [1, 50, 3170, 7465, 31, 273],\n",
              " [51, 30, 51, 422, 17, 21361],\n",
              " [1, 12, 14863],\n",
              " [224, 21362, 1772, 6, 14864],\n",
              " [347, 683, 1568],\n",
              " [51, 2046, 17, 3445, 5284, 90, 22, 552],\n",
              " [116, 12, 818],\n",
              " [798, 78, 2102, 4641, 281, 1003, 9, 1246, 11667],\n",
              " [3, 2818, 8, 1788, 15],\n",
              " [1487, 99, 752, 1027, 199, 23, 583],\n",
              " [304, 453, 21363, 9, 22, 7466, 21364],\n",
              " [7, 3972, 69, 37, 21365, 21366],\n",
              " [25, 50, 92, 521, 2209],\n",
              " [328, 832, 297, 26, 11668, 21367],\n",
              " [21368, 1351, 4947, 2, 1517, 6751],\n",
              " [474, 6, 1211],\n",
              " [48, 21369, 87, 14865, 13, 36],\n",
              " [298, 217, 822, 758, 2210],\n",
              " [3, 607, 365, 653],\n",
              " [2, 1357, 21370, 26, 11669, 2154, 6, 2155],\n",
              " [3, 175, 2, 5307, 32, 5, 1299, 1626],\n",
              " [43, 568, 715, 70, 4939],\n",
              " [170, 35, 8, 105, 1, 12, 134, 4, 76, 198, 4, 35, 24],\n",
              " [3, 73, 24, 9758],\n",
              " [1821, 11, 1701, 47, 33, 4394],\n",
              " [2, 1357, 11670, 14, 191, 1242, 9, 4395],\n",
              " [3, 118, 5, 606, 710, 13, 116],\n",
              " [40, 49, 3772, 3171, 6, 248],\n",
              " [479, 19, 2266, 21371],\n",
              " [1, 4948, 14866, 148, 11671, 41],\n",
              " [41, 912, 1702, 173],\n",
              " [1, 2211, 34, 24, 1542, 776, 271, 109, 5, 250, 24, 1542, 3446, 176, 119],\n",
              " [10, 159, 33, 489, 3614],\n",
              " [1, 684, 4, 402, 84, 3447, 32, 2819],\n",
              " [389, 687, 234, 889, 130, 26, 874, 6, 11, 2553],\n",
              " [193, 185, 1350, 5, 258, 170, 58, 493, 759],\n",
              " [20, 2554, 2720, 848, 2549],\n",
              " [482, 29, 1, 30, 299, 17, 1212],\n",
              " [53, 14867, 2, 380, 791, 1647, 6, 5308],\n",
              " [868, 33, 489, 70, 11672],\n",
              " [10, 233, 9, 588, 8457],\n",
              " [18, 82, 306],\n",
              " [1, 30, 177, 416, 4949],\n",
              " [21372, 179, 4396, 767, 6, 1122],\n",
              " [5, 293, 1234, 204, 475, 122, 18, 11673, 66, 256, 206, 117, 73, 48, 8440],\n",
              " [319, 2212, 38, 227],\n",
              " [7467, 11674],\n",
              " [3, 746, 469],\n",
              " [1597, 661, 1907, 199, 20, 3615, 222, 13, 46, 4160, 244],\n",
              " [85, 496, 14, 394, 242, 579],\n",
              " [35, 8, 105, 3, 314, 360, 1],\n",
              " [1, 1518, 1504, 5, 9776],\n",
              " [1, 55, 9777, 2, 125, 4397],\n",
              " [696, 1817, 6, 1703, 476, 842],\n",
              " [193, 153, 392, 124],\n",
              " [21373, 182, 139, 231, 1057, 1956, 148, 2925, 1144, 2708],\n",
              " [3, 402, 2481, 4, 2555, 8, 52, 48, 492, 1598, 4, 71, 1323],\n",
              " [14868, 370],\n",
              " [40, 2, 889, 339, 4950, 29, 14869, 951],\n",
              " [38, 21374, 142, 21375, 27, 11, 5309],\n",
              " [868, 489, 540],\n",
              " [3, 42, 2, 322, 359],\n",
              " [34, 12, 71, 2926, 1081, 225, 77],\n",
              " [10, 33, 14870, 357, 64, 2047, 47, 10, 2721, 14871, 9, 33, 64, 14872, 3773],\n",
              " [25, 2267, 82, 62],\n",
              " [5, 1378, 18, 2910, 170, 3, 2103, 36],\n",
              " [3, 318, 154, 66, 48, 831],\n",
              " [12, 24, 149, 1543],\n",
              " [3, 18, 432, 121],\n",
              " [2213, 30, 17, 2340, 130, 212, 1233],\n",
              " [108, 70, 228, 2341, 1954],\n",
              " [304, 208, 786, 11675],\n",
              " [1899, 182, 31, 372, 145],\n",
              " [100, 8, 6164, 59, 8, 210],\n",
              " [7, 213, 16, 1276, 587, 1, 9778, 21376],\n",
              " [1, 63, 34, 9779, 790, 718, 5, 933],\n",
              " [48, 1081, 225, 468, 4, 4398],\n",
              " [98, 14, 1908],\n",
              " [224, 433, 21377],\n",
              " [25, 19, 56, 21378],\n",
              " [868, 6752, 177, 3774, 40, 174, 112, 2214, 4642],\n",
              " [21, 4650, 504, 6, 1263, 6, 1],\n",
              " [8, 122, 15, 8458],\n",
              " ...]"
            ]
          },
          "metadata": {},
          "execution_count": 248
        }
      ]
    },
    {
      "cell_type": "code",
      "source": [
        "from tensorflow.keras.utils import pad_sequences"
      ],
      "metadata": {
        "id": "dpqbrNXjiQZS"
      },
      "execution_count": 249,
      "outputs": []
    },
    {
      "cell_type": "markdown",
      "source": [
        "**Now padding the sequences**"
      ],
      "metadata": {
        "id": "PLLfXNnc0NWD"
      }
    },
    {
      "cell_type": "code",
      "source": [
        "padded=pad_sequences(input_sequences,maxlen=251,padding='pre')"
      ],
      "metadata": {
        "id": "aT289g5eip5l"
      },
      "execution_count": 250,
      "outputs": []
    },
    {
      "cell_type": "code",
      "source": [
        "padded"
      ],
      "metadata": {
        "colab": {
          "base_uri": "https://localhost:8080/"
        },
        "id": "VixaU7cRi5Wb",
        "outputId": "b621343b-ede9-46c3-d181-022d3fba9978"
      },
      "execution_count": 251,
      "outputs": [
        {
          "output_type": "execute_result",
          "data": {
            "text/plain": [
              "array([[    0,     0,     0, ...,   829,   959, 21146],\n",
              "       [    0,     0,     0, ..., 14747,  4153,   949],\n",
              "       [    0,     0,     0, ...,  1850,     5, 21147],\n",
              "       ...,\n",
              "       [    0,     0,     0, ...,   527,    78,   965],\n",
              "       [    0,     0,     0, ...,    20,    25,  3586],\n",
              "       [    0,     0,     0, ...,  5561,    29,  4794]], dtype=int32)"
            ]
          },
          "metadata": {},
          "execution_count": 251
        }
      ]
    },
    {
      "cell_type": "code",
      "source": [
        "padded.shape"
      ],
      "metadata": {
        "colab": {
          "base_uri": "https://localhost:8080/"
        },
        "id": "GWRxTnNhi8g_",
        "outputId": "d48c099f-a221-4750-c464-8432f4d35e35"
      },
      "execution_count": 252,
      "outputs": [
        {
          "output_type": "execute_result",
          "data": {
            "text/plain": [
              "(100000, 251)"
            ]
          },
          "metadata": {},
          "execution_count": 252
        }
      ]
    },
    {
      "cell_type": "code",
      "source": [
        "X=padded"
      ],
      "metadata": {
        "id": "tm8MDjXYjDCx"
      },
      "execution_count": 253,
      "outputs": []
    },
    {
      "cell_type": "code",
      "source": [
        "y"
      ],
      "metadata": {
        "colab": {
          "base_uri": "https://localhost:8080/",
          "height": 423
        },
        "id": "_vyiUiV8wKCx",
        "outputId": "0ecf0494-05f7-457c-d308-b83939c2b742"
      },
      "execution_count": 254,
      "outputs": [
        {
          "output_type": "execute_result",
          "data": {
            "text/plain": [
              "        english  french  german  spanish\n",
              "124154        0       0       1        0\n",
              "137950        0       0       1        0\n",
              "650514        1       0       0        0\n",
              "281206        0       1       0        0\n",
              "222523        0       1       0        0\n",
              "...         ...     ...     ...      ...\n",
              "139022        0       0       1        0\n",
              "78691         0       0       1        0\n",
              "266327        0       1       0        0\n",
              "27480         0       0       1        0\n",
              "312165        0       1       0        0\n",
              "\n",
              "[100000 rows x 4 columns]"
            ],
            "text/html": [
              "\n",
              "  <div id=\"df-59258b71-b9b3-4e5a-8d0d-50741fb19528\" class=\"colab-df-container\">\n",
              "    <div>\n",
              "<style scoped>\n",
              "    .dataframe tbody tr th:only-of-type {\n",
              "        vertical-align: middle;\n",
              "    }\n",
              "\n",
              "    .dataframe tbody tr th {\n",
              "        vertical-align: top;\n",
              "    }\n",
              "\n",
              "    .dataframe thead th {\n",
              "        text-align: right;\n",
              "    }\n",
              "</style>\n",
              "<table border=\"1\" class=\"dataframe\">\n",
              "  <thead>\n",
              "    <tr style=\"text-align: right;\">\n",
              "      <th></th>\n",
              "      <th>english</th>\n",
              "      <th>french</th>\n",
              "      <th>german</th>\n",
              "      <th>spanish</th>\n",
              "    </tr>\n",
              "  </thead>\n",
              "  <tbody>\n",
              "    <tr>\n",
              "      <th>124154</th>\n",
              "      <td>0</td>\n",
              "      <td>0</td>\n",
              "      <td>1</td>\n",
              "      <td>0</td>\n",
              "    </tr>\n",
              "    <tr>\n",
              "      <th>137950</th>\n",
              "      <td>0</td>\n",
              "      <td>0</td>\n",
              "      <td>1</td>\n",
              "      <td>0</td>\n",
              "    </tr>\n",
              "    <tr>\n",
              "      <th>650514</th>\n",
              "      <td>1</td>\n",
              "      <td>0</td>\n",
              "      <td>0</td>\n",
              "      <td>0</td>\n",
              "    </tr>\n",
              "    <tr>\n",
              "      <th>281206</th>\n",
              "      <td>0</td>\n",
              "      <td>1</td>\n",
              "      <td>0</td>\n",
              "      <td>0</td>\n",
              "    </tr>\n",
              "    <tr>\n",
              "      <th>222523</th>\n",
              "      <td>0</td>\n",
              "      <td>1</td>\n",
              "      <td>0</td>\n",
              "      <td>0</td>\n",
              "    </tr>\n",
              "    <tr>\n",
              "      <th>...</th>\n",
              "      <td>...</td>\n",
              "      <td>...</td>\n",
              "      <td>...</td>\n",
              "      <td>...</td>\n",
              "    </tr>\n",
              "    <tr>\n",
              "      <th>139022</th>\n",
              "      <td>0</td>\n",
              "      <td>0</td>\n",
              "      <td>1</td>\n",
              "      <td>0</td>\n",
              "    </tr>\n",
              "    <tr>\n",
              "      <th>78691</th>\n",
              "      <td>0</td>\n",
              "      <td>0</td>\n",
              "      <td>1</td>\n",
              "      <td>0</td>\n",
              "    </tr>\n",
              "    <tr>\n",
              "      <th>266327</th>\n",
              "      <td>0</td>\n",
              "      <td>1</td>\n",
              "      <td>0</td>\n",
              "      <td>0</td>\n",
              "    </tr>\n",
              "    <tr>\n",
              "      <th>27480</th>\n",
              "      <td>0</td>\n",
              "      <td>0</td>\n",
              "      <td>1</td>\n",
              "      <td>0</td>\n",
              "    </tr>\n",
              "    <tr>\n",
              "      <th>312165</th>\n",
              "      <td>0</td>\n",
              "      <td>1</td>\n",
              "      <td>0</td>\n",
              "      <td>0</td>\n",
              "    </tr>\n",
              "  </tbody>\n",
              "</table>\n",
              "<p>100000 rows × 4 columns</p>\n",
              "</div>\n",
              "    <div class=\"colab-df-buttons\">\n",
              "\n",
              "  <div class=\"colab-df-container\">\n",
              "    <button class=\"colab-df-convert\" onclick=\"convertToInteractive('df-59258b71-b9b3-4e5a-8d0d-50741fb19528')\"\n",
              "            title=\"Convert this dataframe to an interactive table.\"\n",
              "            style=\"display:none;\">\n",
              "\n",
              "  <svg xmlns=\"http://www.w3.org/2000/svg\" height=\"24px\" viewBox=\"0 -960 960 960\">\n",
              "    <path d=\"M120-120v-720h720v720H120Zm60-500h600v-160H180v160Zm220 220h160v-160H400v160Zm0 220h160v-160H400v160ZM180-400h160v-160H180v160Zm440 0h160v-160H620v160ZM180-180h160v-160H180v160Zm440 0h160v-160H620v160Z\"/>\n",
              "  </svg>\n",
              "    </button>\n",
              "\n",
              "  <style>\n",
              "    .colab-df-container {\n",
              "      display:flex;\n",
              "      gap: 12px;\n",
              "    }\n",
              "\n",
              "    .colab-df-convert {\n",
              "      background-color: #E8F0FE;\n",
              "      border: none;\n",
              "      border-radius: 50%;\n",
              "      cursor: pointer;\n",
              "      display: none;\n",
              "      fill: #1967D2;\n",
              "      height: 32px;\n",
              "      padding: 0 0 0 0;\n",
              "      width: 32px;\n",
              "    }\n",
              "\n",
              "    .colab-df-convert:hover {\n",
              "      background-color: #E2EBFA;\n",
              "      box-shadow: 0px 1px 2px rgba(60, 64, 67, 0.3), 0px 1px 3px 1px rgba(60, 64, 67, 0.15);\n",
              "      fill: #174EA6;\n",
              "    }\n",
              "\n",
              "    .colab-df-buttons div {\n",
              "      margin-bottom: 4px;\n",
              "    }\n",
              "\n",
              "    [theme=dark] .colab-df-convert {\n",
              "      background-color: #3B4455;\n",
              "      fill: #D2E3FC;\n",
              "    }\n",
              "\n",
              "    [theme=dark] .colab-df-convert:hover {\n",
              "      background-color: #434B5C;\n",
              "      box-shadow: 0px 1px 3px 1px rgba(0, 0, 0, 0.15);\n",
              "      filter: drop-shadow(0px 1px 2px rgba(0, 0, 0, 0.3));\n",
              "      fill: #FFFFFF;\n",
              "    }\n",
              "  </style>\n",
              "\n",
              "    <script>\n",
              "      const buttonEl =\n",
              "        document.querySelector('#df-59258b71-b9b3-4e5a-8d0d-50741fb19528 button.colab-df-convert');\n",
              "      buttonEl.style.display =\n",
              "        google.colab.kernel.accessAllowed ? 'block' : 'none';\n",
              "\n",
              "      async function convertToInteractive(key) {\n",
              "        const element = document.querySelector('#df-59258b71-b9b3-4e5a-8d0d-50741fb19528');\n",
              "        const dataTable =\n",
              "          await google.colab.kernel.invokeFunction('convertToInteractive',\n",
              "                                                    [key], {});\n",
              "        if (!dataTable) return;\n",
              "\n",
              "        const docLinkHtml = 'Like what you see? Visit the ' +\n",
              "          '<a target=\"_blank\" href=https://colab.research.google.com/notebooks/data_table.ipynb>data table notebook</a>'\n",
              "          + ' to learn more about interactive tables.';\n",
              "        element.innerHTML = '';\n",
              "        dataTable['output_type'] = 'display_data';\n",
              "        await google.colab.output.renderOutput(dataTable, element);\n",
              "        const docLink = document.createElement('div');\n",
              "        docLink.innerHTML = docLinkHtml;\n",
              "        element.appendChild(docLink);\n",
              "      }\n",
              "    </script>\n",
              "  </div>\n",
              "\n",
              "\n",
              "<div id=\"df-008b8235-02c7-4e4b-95a1-697cc8615b75\">\n",
              "  <button class=\"colab-df-quickchart\" onclick=\"quickchart('df-008b8235-02c7-4e4b-95a1-697cc8615b75')\"\n",
              "            title=\"Suggest charts\"\n",
              "            style=\"display:none;\">\n",
              "\n",
              "<svg xmlns=\"http://www.w3.org/2000/svg\" height=\"24px\"viewBox=\"0 0 24 24\"\n",
              "     width=\"24px\">\n",
              "    <g>\n",
              "        <path d=\"M19 3H5c-1.1 0-2 .9-2 2v14c0 1.1.9 2 2 2h14c1.1 0 2-.9 2-2V5c0-1.1-.9-2-2-2zM9 17H7v-7h2v7zm4 0h-2V7h2v10zm4 0h-2v-4h2v4z\"/>\n",
              "    </g>\n",
              "</svg>\n",
              "  </button>\n",
              "\n",
              "<style>\n",
              "  .colab-df-quickchart {\n",
              "      --bg-color: #E8F0FE;\n",
              "      --fill-color: #1967D2;\n",
              "      --hover-bg-color: #E2EBFA;\n",
              "      --hover-fill-color: #174EA6;\n",
              "      --disabled-fill-color: #AAA;\n",
              "      --disabled-bg-color: #DDD;\n",
              "  }\n",
              "\n",
              "  [theme=dark] .colab-df-quickchart {\n",
              "      --bg-color: #3B4455;\n",
              "      --fill-color: #D2E3FC;\n",
              "      --hover-bg-color: #434B5C;\n",
              "      --hover-fill-color: #FFFFFF;\n",
              "      --disabled-bg-color: #3B4455;\n",
              "      --disabled-fill-color: #666;\n",
              "  }\n",
              "\n",
              "  .colab-df-quickchart {\n",
              "    background-color: var(--bg-color);\n",
              "    border: none;\n",
              "    border-radius: 50%;\n",
              "    cursor: pointer;\n",
              "    display: none;\n",
              "    fill: var(--fill-color);\n",
              "    height: 32px;\n",
              "    padding: 0;\n",
              "    width: 32px;\n",
              "  }\n",
              "\n",
              "  .colab-df-quickchart:hover {\n",
              "    background-color: var(--hover-bg-color);\n",
              "    box-shadow: 0 1px 2px rgba(60, 64, 67, 0.3), 0 1px 3px 1px rgba(60, 64, 67, 0.15);\n",
              "    fill: var(--button-hover-fill-color);\n",
              "  }\n",
              "\n",
              "  .colab-df-quickchart-complete:disabled,\n",
              "  .colab-df-quickchart-complete:disabled:hover {\n",
              "    background-color: var(--disabled-bg-color);\n",
              "    fill: var(--disabled-fill-color);\n",
              "    box-shadow: none;\n",
              "  }\n",
              "\n",
              "  .colab-df-spinner {\n",
              "    border: 2px solid var(--fill-color);\n",
              "    border-color: transparent;\n",
              "    border-bottom-color: var(--fill-color);\n",
              "    animation:\n",
              "      spin 1s steps(1) infinite;\n",
              "  }\n",
              "\n",
              "  @keyframes spin {\n",
              "    0% {\n",
              "      border-color: transparent;\n",
              "      border-bottom-color: var(--fill-color);\n",
              "      border-left-color: var(--fill-color);\n",
              "    }\n",
              "    20% {\n",
              "      border-color: transparent;\n",
              "      border-left-color: var(--fill-color);\n",
              "      border-top-color: var(--fill-color);\n",
              "    }\n",
              "    30% {\n",
              "      border-color: transparent;\n",
              "      border-left-color: var(--fill-color);\n",
              "      border-top-color: var(--fill-color);\n",
              "      border-right-color: var(--fill-color);\n",
              "    }\n",
              "    40% {\n",
              "      border-color: transparent;\n",
              "      border-right-color: var(--fill-color);\n",
              "      border-top-color: var(--fill-color);\n",
              "    }\n",
              "    60% {\n",
              "      border-color: transparent;\n",
              "      border-right-color: var(--fill-color);\n",
              "    }\n",
              "    80% {\n",
              "      border-color: transparent;\n",
              "      border-right-color: var(--fill-color);\n",
              "      border-bottom-color: var(--fill-color);\n",
              "    }\n",
              "    90% {\n",
              "      border-color: transparent;\n",
              "      border-bottom-color: var(--fill-color);\n",
              "    }\n",
              "  }\n",
              "</style>\n",
              "\n",
              "  <script>\n",
              "    async function quickchart(key) {\n",
              "      const quickchartButtonEl =\n",
              "        document.querySelector('#' + key + ' button');\n",
              "      quickchartButtonEl.disabled = true;  // To prevent multiple clicks.\n",
              "      quickchartButtonEl.classList.add('colab-df-spinner');\n",
              "      try {\n",
              "        const charts = await google.colab.kernel.invokeFunction(\n",
              "            'suggestCharts', [key], {});\n",
              "      } catch (error) {\n",
              "        console.error('Error during call to suggestCharts:', error);\n",
              "      }\n",
              "      quickchartButtonEl.classList.remove('colab-df-spinner');\n",
              "      quickchartButtonEl.classList.add('colab-df-quickchart-complete');\n",
              "    }\n",
              "    (() => {\n",
              "      let quickchartButtonEl =\n",
              "        document.querySelector('#df-008b8235-02c7-4e4b-95a1-697cc8615b75 button');\n",
              "      quickchartButtonEl.style.display =\n",
              "        google.colab.kernel.accessAllowed ? 'block' : 'none';\n",
              "    })();\n",
              "  </script>\n",
              "</div>\n",
              "\n",
              "  <div id=\"id_2cd9a617-45b9-44b4-b94d-f72fdac00902\">\n",
              "    <style>\n",
              "      .colab-df-generate {\n",
              "        background-color: #E8F0FE;\n",
              "        border: none;\n",
              "        border-radius: 50%;\n",
              "        cursor: pointer;\n",
              "        display: none;\n",
              "        fill: #1967D2;\n",
              "        height: 32px;\n",
              "        padding: 0 0 0 0;\n",
              "        width: 32px;\n",
              "      }\n",
              "\n",
              "      .colab-df-generate:hover {\n",
              "        background-color: #E2EBFA;\n",
              "        box-shadow: 0px 1px 2px rgba(60, 64, 67, 0.3), 0px 1px 3px 1px rgba(60, 64, 67, 0.15);\n",
              "        fill: #174EA6;\n",
              "      }\n",
              "\n",
              "      [theme=dark] .colab-df-generate {\n",
              "        background-color: #3B4455;\n",
              "        fill: #D2E3FC;\n",
              "      }\n",
              "\n",
              "      [theme=dark] .colab-df-generate:hover {\n",
              "        background-color: #434B5C;\n",
              "        box-shadow: 0px 1px 3px 1px rgba(0, 0, 0, 0.15);\n",
              "        filter: drop-shadow(0px 1px 2px rgba(0, 0, 0, 0.3));\n",
              "        fill: #FFFFFF;\n",
              "      }\n",
              "    </style>\n",
              "    <button class=\"colab-df-generate\" onclick=\"generateWithVariable('y')\"\n",
              "            title=\"Generate code using this dataframe.\"\n",
              "            style=\"display:none;\">\n",
              "\n",
              "  <svg xmlns=\"http://www.w3.org/2000/svg\" height=\"24px\"viewBox=\"0 0 24 24\"\n",
              "       width=\"24px\">\n",
              "    <path d=\"M7,19H8.4L18.45,9,17,7.55,7,17.6ZM5,21V16.75L18.45,3.32a2,2,0,0,1,2.83,0l1.4,1.43a1.91,1.91,0,0,1,.58,1.4,1.91,1.91,0,0,1-.58,1.4L9.25,21ZM18.45,9,17,7.55Zm-12,3A5.31,5.31,0,0,0,4.9,8.1,5.31,5.31,0,0,0,1,6.5,5.31,5.31,0,0,0,4.9,4.9,5.31,5.31,0,0,0,6.5,1,5.31,5.31,0,0,0,8.1,4.9,5.31,5.31,0,0,0,12,6.5,5.46,5.46,0,0,0,6.5,12Z\"/>\n",
              "  </svg>\n",
              "    </button>\n",
              "    <script>\n",
              "      (() => {\n",
              "      const buttonEl =\n",
              "        document.querySelector('#id_2cd9a617-45b9-44b4-b94d-f72fdac00902 button.colab-df-generate');\n",
              "      buttonEl.style.display =\n",
              "        google.colab.kernel.accessAllowed ? 'block' : 'none';\n",
              "\n",
              "      buttonEl.onclick = () => {\n",
              "        google.colab.notebook.generateWithVariable('y');\n",
              "      }\n",
              "      })();\n",
              "    </script>\n",
              "  </div>\n",
              "\n",
              "    </div>\n",
              "  </div>\n"
            ]
          },
          "metadata": {},
          "execution_count": 254
        }
      ]
    },
    {
      "cell_type": "code",
      "source": [
        "from sklearn.model_selection import train_test_split"
      ],
      "metadata": {
        "id": "_-ds64IwjRbI"
      },
      "execution_count": 255,
      "outputs": []
    },
    {
      "cell_type": "markdown",
      "source": [
        "**Splitting data into train and test data**"
      ],
      "metadata": {
        "id": "ud8JvJav0TeX"
      }
    },
    {
      "cell_type": "code",
      "source": [
        "X_train,X_test,y_train,y_test=train_test_split(X,y,test_size=0.25,random_state=42)"
      ],
      "metadata": {
        "id": "D_eLO0amjbXZ"
      },
      "execution_count": 256,
      "outputs": []
    },
    {
      "cell_type": "code",
      "source": [
        "X_train.shape,X_test.shape"
      ],
      "metadata": {
        "colab": {
          "base_uri": "https://localhost:8080/"
        },
        "id": "zXVDi4qejmSI",
        "outputId": "0de0822c-b3da-4b9b-b9c6-80c55115a8aa"
      },
      "execution_count": 257,
      "outputs": [
        {
          "output_type": "execute_result",
          "data": {
            "text/plain": [
              "((75000, 251), (25000, 251))"
            ]
          },
          "metadata": {},
          "execution_count": 257
        }
      ]
    },
    {
      "cell_type": "code",
      "source": [
        "from tensorflow.keras import models, layers"
      ],
      "metadata": {
        "id": "l53psDG5jqOY"
      },
      "execution_count": 258,
      "outputs": []
    },
    {
      "cell_type": "markdown",
      "source": [
        "**Making a LSTM model**"
      ],
      "metadata": {
        "id": "CsDces5E0adC"
      }
    },
    {
      "cell_type": "code",
      "source": [
        "model=models.Sequential()\n",
        "model.add(layers.Embedding(43094,100,input_length=251))\n",
        "model.add(layers.LSTM(150))\n",
        "model.add(layers.Dense(4,activation='softmax'))\n",
        "model.compile(optimizer='adam',loss='categorical_crossentropy',metrics=['accuracy'])"
      ],
      "metadata": {
        "id": "fd5F7Sixjw96"
      },
      "execution_count": 259,
      "outputs": []
    },
    {
      "cell_type": "code",
      "source": [
        "model.summary()"
      ],
      "metadata": {
        "colab": {
          "base_uri": "https://localhost:8080/"
        },
        "id": "Le1oT26Akp_3",
        "outputId": "9b4c7715-1ba7-4926-9123-d2bacd9404af"
      },
      "execution_count": 260,
      "outputs": [
        {
          "output_type": "stream",
          "name": "stdout",
          "text": [
            "Model: \"sequential_6\"\n",
            "_________________________________________________________________\n",
            " Layer (type)                Output Shape              Param #   \n",
            "=================================================================\n",
            " embedding_6 (Embedding)     (None, 251, 100)          4309400   \n",
            "                                                                 \n",
            " lstm_6 (LSTM)               (None, 150)               150600    \n",
            "                                                                 \n",
            " dense_6 (Dense)             (None, 4)                 604       \n",
            "                                                                 \n",
            "=================================================================\n",
            "Total params: 4460604 (17.02 MB)\n",
            "Trainable params: 4460604 (17.02 MB)\n",
            "Non-trainable params: 0 (0.00 Byte)\n",
            "_________________________________________________________________\n"
          ]
        }
      ]
    },
    {
      "cell_type": "markdown",
      "source": [
        "**Fitting the training data in our LSTM model**"
      ],
      "metadata": {
        "id": "IizajcYB0fS2"
      }
    },
    {
      "cell_type": "code",
      "source": [
        "model.fit(X_train,y_train,epochs=2,validation_split=0.1)"
      ],
      "metadata": {
        "colab": {
          "base_uri": "https://localhost:8080/"
        },
        "id": "EBZ_IpL9ksCt",
        "outputId": "3f880404-e962-4e86-ef1c-7764c69d9d11"
      },
      "execution_count": 261,
      "outputs": [
        {
          "output_type": "stream",
          "name": "stdout",
          "text": [
            "Epoch 1/2\n",
            "2110/2110 [==============================] - 39s 18ms/step - loss: 0.1196 - accuracy: 0.9698 - val_loss: 0.0087 - val_accuracy: 0.9972\n",
            "Epoch 2/2\n",
            "2110/2110 [==============================] - 29s 14ms/step - loss: 0.0034 - accuracy: 0.9991 - val_loss: 0.0073 - val_accuracy: 0.9971\n"
          ]
        },
        {
          "output_type": "execute_result",
          "data": {
            "text/plain": [
              "<keras.src.callbacks.History at 0x7a81f8c194b0>"
            ]
          },
          "metadata": {},
          "execution_count": 261
        }
      ]
    },
    {
      "cell_type": "markdown",
      "source": [
        "**Evaluating testing data using our model**"
      ],
      "metadata": {
        "id": "t8iLGUdy0mae"
      }
    },
    {
      "cell_type": "code",
      "source": [
        "loss,accuracy=model.evaluate(X_test,y_test)"
      ],
      "metadata": {
        "colab": {
          "base_uri": "https://localhost:8080/"
        },
        "id": "IJk-vErok43z",
        "outputId": "47993a60-a4c4-43b9-cfb3-8b482f13957c"
      },
      "execution_count": 262,
      "outputs": [
        {
          "output_type": "stream",
          "name": "stdout",
          "text": [
            "782/782 [==============================] - 5s 6ms/step - loss: 0.0081 - accuracy: 0.9970\n"
          ]
        }
      ]
    },
    {
      "cell_type": "markdown",
      "source": [
        "**Accuracy of test data**"
      ],
      "metadata": {
        "id": "z3o0uRHWPr_0"
      }
    },
    {
      "cell_type": "code",
      "source": [
        "accuracy"
      ],
      "metadata": {
        "colab": {
          "base_uri": "https://localhost:8080/"
        },
        "id": "uY6ssUvzPraX",
        "outputId": "0f33e1ff-5b3e-4129-e923-3739ae7a854e"
      },
      "execution_count": 263,
      "outputs": [
        {
          "output_type": "execute_result",
          "data": {
            "text/plain": [
              "0.9970399737358093"
            ]
          },
          "metadata": {},
          "execution_count": 263
        }
      ]
    },
    {
      "cell_type": "markdown",
      "source": [
        "We got -\n",
        "* Training data accuracy - 99.91%\n",
        "* Validation data accuracy - 99.71%\n",
        "* Testing data accuracy - 99.70%"
      ],
      "metadata": {
        "id": "fQTU8-q62M5U"
      }
    },
    {
      "cell_type": "markdown",
      "source": [
        "**Now exporting the model and tokenizer**"
      ],
      "metadata": {
        "id": "seiXuH9YO7Bg"
      }
    },
    {
      "cell_type": "code",
      "source": [
        "import pickle"
      ],
      "metadata": {
        "id": "kxoVXrPNO6Wr"
      },
      "execution_count": 288,
      "outputs": []
    },
    {
      "cell_type": "code",
      "source": [
        "pickle.dump(model,open('language_model.pkl','wb'))"
      ],
      "metadata": {
        "id": "jzbaWk1YPH65"
      },
      "execution_count": 289,
      "outputs": []
    },
    {
      "cell_type": "code",
      "source": [
        "pickle.dump(tokenizer,open('lang_tokenizer.pkl','wb'))"
      ],
      "metadata": {
        "id": "AdkFtlybPHxQ"
      },
      "execution_count": 290,
      "outputs": []
    },
    {
      "cell_type": "markdown",
      "source": [
        "**Now testing the model with random texts**"
      ],
      "metadata": {
        "id": "KhFBjkj70sUP"
      }
    },
    {
      "cell_type": "code",
      "source": [
        "text=\"hey how are you\"\n",
        "sequence=tokenizer.texts_to_sequences([text])[0]\n",
        "pad=pad_sequences([sequence],maxlen=251,padding='pre')\n",
        "pred=model.predict(pad)\n",
        "print(pred)\n",
        "pred=np.argmax(pred)\n",
        "y.columns[pred]"
      ],
      "metadata": {
        "colab": {
          "base_uri": "https://localhost:8080/",
          "height": 70
        },
        "id": "zFOGnJxTtbHc",
        "outputId": "67483dda-6843-4eb5-a5f5-5aa35db03820"
      },
      "execution_count": 267,
      "outputs": [
        {
          "output_type": "stream",
          "name": "stdout",
          "text": [
            "1/1 [==============================] - 0s 312ms/step\n",
            "[[9.9999678e-01 2.5505651e-06 6.0629731e-07 5.7190430e-08]]\n"
          ]
        },
        {
          "output_type": "execute_result",
          "data": {
            "text/plain": [
              "'english'"
            ],
            "application/vnd.google.colaboratory.intrinsic+json": {
              "type": "string"
            }
          },
          "metadata": {},
          "execution_count": 267
        }
      ]
    },
    {
      "cell_type": "code",
      "source": [
        "text=\"hey wie geht es dir\"\n",
        "sequence=tokenizer.texts_to_sequences([text])[0]\n",
        "pad=pad_sequences([sequence],maxlen=251,padding='pre')\n",
        "pred=model.predict(pad)\n",
        "print(pred)\n",
        "pred=np.argmax(pred)\n",
        "y.columns[pred]"
      ],
      "metadata": {
        "colab": {
          "base_uri": "https://localhost:8080/",
          "height": 70
        },
        "id": "W_8WC127vKoD",
        "outputId": "0fd25494-b95b-465f-8dd6-af875cfc2ada"
      },
      "execution_count": 268,
      "outputs": [
        {
          "output_type": "stream",
          "name": "stdout",
          "text": [
            "1/1 [==============================] - 0s 20ms/step\n",
            "[[1.3201854e-06 3.3819281e-06 9.9999464e-01 7.5240257e-07]]\n"
          ]
        },
        {
          "output_type": "execute_result",
          "data": {
            "text/plain": [
              "'german'"
            ],
            "application/vnd.google.colaboratory.intrinsic+json": {
              "type": "string"
            }
          },
          "metadata": {},
          "execution_count": 268
        }
      ]
    },
    {
      "cell_type": "code",
      "source": [
        "text=\"hola qué tal\"\n",
        "sequence=tokenizer.texts_to_sequences([text])[0]\n",
        "pad=pad_sequences([sequence],maxlen=251,padding='pre')\n",
        "pred=model.predict(pad)\n",
        "print(pred)\n",
        "pred=np.argmax(pred)\n",
        "y.columns[pred]"
      ],
      "metadata": {
        "colab": {
          "base_uri": "https://localhost:8080/",
          "height": 70
        },
        "id": "l2Zg9uWlwjG7",
        "outputId": "a2c63168-9d7b-48ed-fd2e-85daf8bf621f"
      },
      "execution_count": 269,
      "outputs": [
        {
          "output_type": "stream",
          "name": "stdout",
          "text": [
            "1/1 [==============================] - 0s 20ms/step\n",
            "[[1.9204606e-06 3.5829056e-05 2.8779301e-05 9.9993348e-01]]\n"
          ]
        },
        {
          "output_type": "execute_result",
          "data": {
            "text/plain": [
              "'spanish'"
            ],
            "application/vnd.google.colaboratory.intrinsic+json": {
              "type": "string"
            }
          },
          "metadata": {},
          "execution_count": 269
        }
      ]
    },
    {
      "cell_type": "code",
      "source": [
        "text=\"hey comment allez-vous\"\n",
        "sequence=tokenizer.texts_to_sequences([text])[0]\n",
        "pad=pad_sequences([sequence],maxlen=251,padding='pre')\n",
        "pred=model.predict(pad)\n",
        "print(pred)\n",
        "pred=np.argmax(pred)\n",
        "y.columns[pred]"
      ],
      "metadata": {
        "colab": {
          "base_uri": "https://localhost:8080/",
          "height": 70
        },
        "id": "Qp8z3hodw5U4",
        "outputId": "db5b42c3-2f28-4462-c9ad-eadad5e4fafc"
      },
      "execution_count": 270,
      "outputs": [
        {
          "output_type": "stream",
          "name": "stdout",
          "text": [
            "1/1 [==============================] - 0s 21ms/step\n",
            "[[1.7768296e-07 9.9999940e-01 1.6991339e-07 2.7625757e-07]]\n"
          ]
        },
        {
          "output_type": "execute_result",
          "data": {
            "text/plain": [
              "'french'"
            ],
            "application/vnd.google.colaboratory.intrinsic+json": {
              "type": "string"
            }
          },
          "metadata": {},
          "execution_count": 270
        }
      ]
    },
    {
      "cell_type": "code",
      "source": [
        "text=\"ravi de vous rencontrer\"\n",
        "sequence=tokenizer.texts_to_sequences([text])[0]\n",
        "pad=pad_sequences([sequence],maxlen=251,padding='pre')\n",
        "pred=model.predict(pad)\n",
        "print(pred)\n",
        "pred=np.argmax(pred)\n",
        "y.columns[pred]"
      ],
      "metadata": {
        "colab": {
          "base_uri": "https://localhost:8080/",
          "height": 70
        },
        "id": "XhspN1okxFS1",
        "outputId": "c3761caa-ced6-4e2b-8c27-e25942e9f7a3"
      },
      "execution_count": 271,
      "outputs": [
        {
          "output_type": "stream",
          "name": "stdout",
          "text": [
            "1/1 [==============================] - 0s 20ms/step\n",
            "[[1.3298119e-07 9.9998784e-01 5.1802072e-08 1.2004288e-05]]\n"
          ]
        },
        {
          "output_type": "execute_result",
          "data": {
            "text/plain": [
              "'french'"
            ],
            "application/vnd.google.colaboratory.intrinsic+json": {
              "type": "string"
            }
          },
          "metadata": {},
          "execution_count": 271
        }
      ]
    },
    {
      "cell_type": "code",
      "source": [
        "text=\"nice to meet you\"\n",
        "sequence=tokenizer.texts_to_sequences([text])[0]\n",
        "pad=pad_sequences([sequence],maxlen=251,padding='pre')\n",
        "pred=model.predict(pad)\n",
        "print(pred)\n",
        "pred=np.argmax(pred)\n",
        "y.columns[pred]"
      ],
      "metadata": {
        "colab": {
          "base_uri": "https://localhost:8080/",
          "height": 70
        },
        "id": "XsU8PE1uxqqU",
        "outputId": "fbd54f67-9d5d-4ee7-97db-c8d00cb43003"
      },
      "execution_count": 272,
      "outputs": [
        {
          "output_type": "stream",
          "name": "stdout",
          "text": [
            "1/1 [==============================] - 0s 20ms/step\n",
            "[[9.9999762e-01 1.9223814e-06 4.0654353e-07 4.3590120e-08]]\n"
          ]
        },
        {
          "output_type": "execute_result",
          "data": {
            "text/plain": [
              "'english'"
            ],
            "application/vnd.google.colaboratory.intrinsic+json": {
              "type": "string"
            }
          },
          "metadata": {},
          "execution_count": 272
        }
      ]
    },
    {
      "cell_type": "code",
      "source": [
        "text=\"encantada de conocerte\"\n",
        "sequence=tokenizer.texts_to_sequences([text])[0]\n",
        "pad=pad_sequences([sequence],maxlen=251,padding='pre')\n",
        "pred=model.predict(pad)\n",
        "print(pred)\n",
        "pred=np.argmax(pred)\n",
        "y.columns[pred]"
      ],
      "metadata": {
        "colab": {
          "base_uri": "https://localhost:8080/",
          "height": 70
        },
        "id": "183PEmwLyAtc",
        "outputId": "56d6d104-fd23-48dd-998c-fad066519fde"
      },
      "execution_count": 273,
      "outputs": [
        {
          "output_type": "stream",
          "name": "stdout",
          "text": [
            "1/1 [==============================] - 0s 19ms/step\n",
            "[[4.1921023e-05 4.6747345e-02 1.5970314e-04 9.5305097e-01]]\n"
          ]
        },
        {
          "output_type": "execute_result",
          "data": {
            "text/plain": [
              "'spanish'"
            ],
            "application/vnd.google.colaboratory.intrinsic+json": {
              "type": "string"
            }
          },
          "metadata": {},
          "execution_count": 273
        }
      ]
    },
    {
      "cell_type": "code",
      "source": [
        "text=\"schön dich kennenzulernen\"\n",
        "sequence=tokenizer.texts_to_sequences([text])[0]\n",
        "pad=pad_sequences([sequence],maxlen=251,padding='pre')\n",
        "pred=model.predict(pad)\n",
        "print(pred)\n",
        "pred=np.argmax(pred)\n",
        "y.columns[pred]"
      ],
      "metadata": {
        "colab": {
          "base_uri": "https://localhost:8080/",
          "height": 70
        },
        "id": "c7mgE_O7yGS2",
        "outputId": "da93cfde-4309-4ccc-d58a-837a9931d0ec"
      },
      "execution_count": 274,
      "outputs": [
        {
          "output_type": "stream",
          "name": "stdout",
          "text": [
            "1/1 [==============================] - 0s 26ms/step\n",
            "[[2.6040114e-05 7.0389688e-05 9.9986601e-01 3.7585905e-05]]\n"
          ]
        },
        {
          "output_type": "execute_result",
          "data": {
            "text/plain": [
              "'german'"
            ],
            "application/vnd.google.colaboratory.intrinsic+json": {
              "type": "string"
            }
          },
          "metadata": {},
          "execution_count": 274
        }
      ]
    },
    {
      "cell_type": "code",
      "source": [
        "text=\"hey how are you how do you do\"\n",
        "sequence=tokenizer.texts_to_sequences([text])[0]\n",
        "pad=pad_sequences([sequence],maxlen=251,padding='pre')\n",
        "pred=model.predict(pad)\n",
        "print(pred)\n",
        "pred=np.argmax(pred)\n",
        "y.columns[pred]"
      ],
      "metadata": {
        "colab": {
          "base_uri": "https://localhost:8080/",
          "height": 70
        },
        "id": "EjmQXwOfILyf",
        "outputId": "f97268d5-e74e-448f-a2e8-7adc693afcd9"
      },
      "execution_count": 275,
      "outputs": [
        {
          "output_type": "stream",
          "name": "stdout",
          "text": [
            "1/1 [==============================] - 0s 19ms/step\n",
            "[[9.9999666e-01 2.3733533e-06 8.8930250e-07 8.0276180e-08]]\n"
          ]
        },
        {
          "output_type": "execute_result",
          "data": {
            "text/plain": [
              "'english'"
            ],
            "application/vnd.google.colaboratory.intrinsic+json": {
              "type": "string"
            }
          },
          "metadata": {},
          "execution_count": 275
        }
      ]
    },
    {
      "cell_type": "code",
      "source": [
        "import string\n",
        "def punc(text):\n",
        "  for i in string.punctuation:\n",
        "    text=text.replace(i,'')\n",
        "  for i in string.digits:\n",
        "    text=text.replace(i,'')\n",
        "  return text"
      ],
      "metadata": {
        "id": "QEaHrC5iIk7u"
      },
      "execution_count": 277,
      "outputs": []
    },
    {
      "cell_type": "code",
      "source": [
        "text=\"Hey, wie geht es dir? Wie geht es dir?\"\n",
        "text=text.lower()\n",
        "text=punc(text)\n",
        "sequence=tokenizer.texts_to_sequences([text])[0]\n",
        "pad=pad_sequences([sequence],maxlen=251,padding='pre')\n",
        "pred=model.predict(pad)\n",
        "print(pred)\n",
        "pred=np.argmax(pred)\n",
        "y.columns[pred]"
      ],
      "metadata": {
        "colab": {
          "base_uri": "https://localhost:8080/",
          "height": 70
        },
        "id": "8_WpSqhrITKn",
        "outputId": "f0eeceb3-9fad-4566-f477-a326ab088bfb"
      },
      "execution_count": 278,
      "outputs": [
        {
          "output_type": "stream",
          "name": "stdout",
          "text": [
            "1/1 [==============================] - 0s 32ms/step\n",
            "[[1.4538543e-06 4.2120851e-06 9.9999368e-01 5.6194523e-07]]\n"
          ]
        },
        {
          "output_type": "execute_result",
          "data": {
            "text/plain": [
              "'german'"
            ],
            "application/vnd.google.colaboratory.intrinsic+json": {
              "type": "string"
            }
          },
          "metadata": {},
          "execution_count": 278
        }
      ]
    },
    {
      "cell_type": "code",
      "source": [
        "text=\"Hola, ¿cómo estás? ¿Cómo estás?\"\n",
        "text=text.lower()\n",
        "text=punc(text)\n",
        "sequence=tokenizer.texts_to_sequences([text])[0]\n",
        "pad=pad_sequences([sequence],maxlen=251,padding='pre')\n",
        "pred=model.predict(pad)\n",
        "print(pred)\n",
        "pred=np.argmax(pred)\n",
        "y.columns[pred]"
      ],
      "metadata": {
        "colab": {
          "base_uri": "https://localhost:8080/",
          "height": 70
        },
        "id": "IKJ13nhHJEU4",
        "outputId": "d21b5f6f-5207-4bd6-95c0-14e89cca5ede"
      },
      "execution_count": 280,
      "outputs": [
        {
          "output_type": "stream",
          "name": "stdout",
          "text": [
            "1/1 [==============================] - 0s 30ms/step\n",
            "[[2.7777179e-07 8.9629111e-06 9.6152971e-06 9.9998105e-01]]\n"
          ]
        },
        {
          "output_type": "execute_result",
          "data": {
            "text/plain": [
              "'spanish'"
            ],
            "application/vnd.google.colaboratory.intrinsic+json": {
              "type": "string"
            }
          },
          "metadata": {},
          "execution_count": 280
        }
      ]
    },
    {
      "cell_type": "code",
      "source": [
        "text=\"hé, comment vas-tu, comment vas-tu\"\n",
        "text=text.lower()\n",
        "text=punc(text)\n",
        "sequence=tokenizer.texts_to_sequences([text])[0]\n",
        "pad=pad_sequences([sequence],maxlen=251,padding='pre')\n",
        "pred=model.predict(pad)\n",
        "print(pred)\n",
        "pred=np.argmax(pred)\n",
        "y.columns[pred]"
      ],
      "metadata": {
        "colab": {
          "base_uri": "https://localhost:8080/",
          "height": 70
        },
        "id": "zZaq6DHtJVsy",
        "outputId": "e4071e0b-5122-4486-a5df-08adf18d9e68"
      },
      "execution_count": 281,
      "outputs": [
        {
          "output_type": "stream",
          "name": "stdout",
          "text": [
            "1/1 [==============================] - 0s 19ms/step\n",
            "[[2.1192496e-07 9.9999940e-01 4.1639698e-08 3.7227309e-07]]\n"
          ]
        },
        {
          "output_type": "execute_result",
          "data": {
            "text/plain": [
              "'french'"
            ],
            "application/vnd.google.colaboratory.intrinsic+json": {
              "type": "string"
            }
          },
          "metadata": {},
          "execution_count": 281
        }
      ]
    },
    {
      "cell_type": "code",
      "source": [
        "text=\"Can you tell me your name?\"\n",
        "text=text.lower()\n",
        "text=punc(text)\n",
        "sequence=tokenizer.texts_to_sequences([text])[0]\n",
        "pad=pad_sequences([sequence],maxlen=251,padding='pre')\n",
        "pred=model.predict(pad)\n",
        "print(pred)\n",
        "pred=np.argmax(pred)\n",
        "y.columns[pred]"
      ],
      "metadata": {
        "colab": {
          "base_uri": "https://localhost:8080/",
          "height": 70
        },
        "id": "idGTLxp4Jd8l",
        "outputId": "d99ffc53-a855-4963-977f-62fe4c58c5c6"
      },
      "execution_count": 282,
      "outputs": [
        {
          "output_type": "stream",
          "name": "stdout",
          "text": [
            "1/1 [==============================] - 0s 20ms/step\n",
            "[[9.9998820e-01 8.8556144e-06 2.5583290e-06 3.6654814e-07]]\n"
          ]
        },
        {
          "output_type": "execute_result",
          "data": {
            "text/plain": [
              "'english'"
            ],
            "application/vnd.google.colaboratory.intrinsic+json": {
              "type": "string"
            }
          },
          "metadata": {},
          "execution_count": 282
        }
      ]
    },
    {
      "cell_type": "code",
      "source": [
        "text=\"Peux-tu me dire ton nom?\"\n",
        "text=text.lower()\n",
        "text=punc(text)\n",
        "sequence=tokenizer.texts_to_sequences([text])[0]\n",
        "pad=pad_sequences([sequence],maxlen=251,padding='pre')\n",
        "pred=model.predict(pad)\n",
        "print(pred)\n",
        "pred=np.argmax(pred)\n",
        "y.columns[pred]"
      ],
      "metadata": {
        "colab": {
          "base_uri": "https://localhost:8080/",
          "height": 70
        },
        "id": "WGuI1W-ZJxST",
        "outputId": "52525b18-8044-4884-bacd-36ce2deb6b4c"
      },
      "execution_count": 283,
      "outputs": [
        {
          "output_type": "stream",
          "name": "stdout",
          "text": [
            "1/1 [==============================] - 0s 31ms/step\n",
            "[[1.1843028e-06 9.9999833e-01 4.0251912e-08 4.7682337e-07]]\n"
          ]
        },
        {
          "output_type": "execute_result",
          "data": {
            "text/plain": [
              "'french'"
            ],
            "application/vnd.google.colaboratory.intrinsic+json": {
              "type": "string"
            }
          },
          "metadata": {},
          "execution_count": 283
        }
      ]
    },
    {
      "cell_type": "code",
      "source": [
        "text=\"With a comprehensive collection of 785 million records, this dataset provides an unparalleled wealth of translated text.\"\n",
        "text=text.lower()\n",
        "text=punc(text)\n",
        "sequence=tokenizer.texts_to_sequences([text])[0]\n",
        "pad=pad_sequences([sequence],maxlen=251,padding='pre')\n",
        "pred=model.predict(pad)\n",
        "print(pred)\n",
        "pred=np.argmax(pred)\n",
        "y.columns[pred]"
      ],
      "metadata": {
        "colab": {
          "base_uri": "https://localhost:8080/",
          "height": 70
        },
        "id": "2mhIWpgWJ27n",
        "outputId": "b1cfa19c-cdc5-43eb-8ff6-5052efbe29df"
      },
      "execution_count": 284,
      "outputs": [
        {
          "output_type": "stream",
          "name": "stdout",
          "text": [
            "1/1 [==============================] - 0s 20ms/step\n",
            "[[9.9989808e-01 5.5887038e-05 4.1897154e-05 4.0594778e-06]]\n"
          ]
        },
        {
          "output_type": "execute_result",
          "data": {
            "text/plain": [
              "'english'"
            ],
            "application/vnd.google.colaboratory.intrinsic+json": {
              "type": "string"
            }
          },
          "metadata": {},
          "execution_count": 284
        }
      ]
    },
    {
      "cell_type": "code",
      "source": [
        "text=\"Avec une collection complète de 785 millions d’enregistrements, cet ensemble de données fournit une richesse inégalée de textes traduits.\"\n",
        "text=text.lower()\n",
        "text=punc(text)\n",
        "sequence=tokenizer.texts_to_sequences([text])[0]\n",
        "pad=pad_sequences([sequence],maxlen=251,padding='pre')\n",
        "pred=model.predict(pad)\n",
        "print(pred)\n",
        "pred=np.argmax(pred)\n",
        "y.columns[pred]"
      ],
      "metadata": {
        "colab": {
          "base_uri": "https://localhost:8080/",
          "height": 70
        },
        "id": "FyHe5GjFKGSV",
        "outputId": "8c8ecb13-56d8-4a78-d4e3-adcecb3b5d02"
      },
      "execution_count": 285,
      "outputs": [
        {
          "output_type": "stream",
          "name": "stdout",
          "text": [
            "1/1 [==============================] - 0s 30ms/step\n",
            "[[7.9566933e-05 9.9896145e-01 4.9788578e-05 9.0925553e-04]]\n"
          ]
        },
        {
          "output_type": "execute_result",
          "data": {
            "text/plain": [
              "'french'"
            ],
            "application/vnd.google.colaboratory.intrinsic+json": {
              "type": "string"
            }
          },
          "metadata": {},
          "execution_count": 285
        }
      ]
    },
    {
      "cell_type": "code",
      "source": [
        "text=\"Con una colección completa de 785 millones de registros, este conjunto de datos proporciona una riqueza incomparable de texto traducido.\"\n",
        "text=text.lower()\n",
        "text=punc(text)\n",
        "sequence=tokenizer.texts_to_sequences([text])[0]\n",
        "pad=pad_sequences([sequence],maxlen=251,padding='pre')\n",
        "pred=model.predict(pad)\n",
        "print(pred)\n",
        "pred=np.argmax(pred)\n",
        "y.columns[pred]"
      ],
      "metadata": {
        "colab": {
          "base_uri": "https://localhost:8080/",
          "height": 70
        },
        "id": "kjR_gCeYKTuV",
        "outputId": "21e830c9-a29c-4369-cdcc-86ce6035e75a"
      },
      "execution_count": 286,
      "outputs": [
        {
          "output_type": "stream",
          "name": "stdout",
          "text": [
            "1/1 [==============================] - 0s 24ms/step\n",
            "[[7.4473263e-08 1.6221222e-05 5.5342667e-08 9.9998367e-01]]\n"
          ]
        },
        {
          "output_type": "execute_result",
          "data": {
            "text/plain": [
              "'spanish'"
            ],
            "application/vnd.google.colaboratory.intrinsic+json": {
              "type": "string"
            }
          },
          "metadata": {},
          "execution_count": 286
        }
      ]
    },
    {
      "cell_type": "code",
      "source": [
        "text=\"Mit einer umfassenden Sammlung von 785 Millionen Datensätzen bietet dieser Datensatz eine beispiellose Fülle an übersetzten Texten.\"\n",
        "text=text.lower()\n",
        "text=punc(text)\n",
        "sequence=tokenizer.texts_to_sequences([text])[0]\n",
        "pad=pad_sequences([sequence],maxlen=251,padding='pre')\n",
        "pred=model.predict(pad)\n",
        "print(pred)\n",
        "pred=np.argmax(pred)\n",
        "y.columns[pred]"
      ],
      "metadata": {
        "colab": {
          "base_uri": "https://localhost:8080/",
          "height": 70
        },
        "id": "fvdZ9emeKcBK",
        "outputId": "0dbb50cd-aafa-462d-ef49-47cbf512db22"
      },
      "execution_count": 287,
      "outputs": [
        {
          "output_type": "stream",
          "name": "stdout",
          "text": [
            "1/1 [==============================] - 0s 37ms/step\n",
            "[[1.1456838e-05 6.3385296e-06 9.9998164e-01 6.2859914e-07]]\n"
          ]
        },
        {
          "output_type": "execute_result",
          "data": {
            "text/plain": [
              "'german'"
            ],
            "application/vnd.google.colaboratory.intrinsic+json": {
              "type": "string"
            }
          },
          "metadata": {},
          "execution_count": 287
        }
      ]
    },
    {
      "cell_type": "code",
      "source": [],
      "metadata": {
        "id": "2S4OTYXrKnsh"
      },
      "execution_count": null,
      "outputs": []
    }
  ]
}